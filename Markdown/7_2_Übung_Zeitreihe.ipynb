{
 "cells": [
  {
   "cell_type": "markdown",
   "id": "ed1842fb",
   "metadata": {},
   "source": [
    "# Übung: Zeitreihe Personalentwicklung\n",
    "\n",
    "In den vorangegangenen Übungen konnten wir verschiedene Fragen nach der Qualität der Daten und der Reproduzierbarkeit beantworten. \n",
    "\n",
    "Doch wie steht es eigentlich um unsere Forschungsfrage:\n",
    "\n",
    "> Wie hat sich die Zusammensetzung des Personals an Hochschulen in Deutschland im letzten Jahrzehnt (2010-2020) entwickelt?\n",
    "\n",
    "Um diese Frage beantworten zu können, reicht unsere Raw-Data Datei nicht aus, da diese nur die Daten für das Jahr 2020 enthält.\n",
    "Das Open-Data-Portal von [Destatis](https://www-genesis.destatis.de) bietet jedoch auch die Möglichkeiten, die Daten für alle Jahre von 2010 bis 2020 herunterzuladen\n",
    "oder Sie laden den Datensatz [hier](Data/21341-0001_F_2010-2020.csv) direkt aus unserem Repositorium hierunter."
   ]
  },
  {
   "cell_type": "markdown",
   "id": "136e58c7",
   "metadata": {},
   "source": [
    "## Daten vorbereiten\n",
    "\n",
    "Die CSV Datei können Sie nun wie in dem Abschnitt 6.3. [Übung: Arbeiten mit CSV-Dateien in R](/Markdown/6_2_Übung_Arbeiten_CSV_in_R.ipynb) einlesen und in Daten und Metadaten unterteilen."
   ]
  },
  {
   "cell_type": "code",
   "execution_count": 1,
   "id": "9e9e0a9b",
   "metadata": {
    "vscode": {
     "languageId": "r"
    }
   },
   "outputs": [
    {
     "name": "stderr",
     "output_type": "stream",
     "text": [
      "── \u001b[1mAttaching core tidyverse packages\u001b[22m ──────────────────────── tidyverse 2.0.0 ──\n",
      "\u001b[32m✔\u001b[39m \u001b[34mdplyr    \u001b[39m 1.1.4     \u001b[32m✔\u001b[39m \u001b[34mreadr    \u001b[39m 2.1.5\n",
      "\u001b[32m✔\u001b[39m \u001b[34mforcats  \u001b[39m 1.0.0     \u001b[32m✔\u001b[39m \u001b[34mstringr  \u001b[39m 1.5.1\n",
      "\u001b[32m✔\u001b[39m \u001b[34mggplot2  \u001b[39m 3.5.2     \u001b[32m✔\u001b[39m \u001b[34mtibble   \u001b[39m 3.2.1\n",
      "\u001b[32m✔\u001b[39m \u001b[34mlubridate\u001b[39m 1.9.4     \u001b[32m✔\u001b[39m \u001b[34mtidyr    \u001b[39m 1.3.1\n",
      "\u001b[32m✔\u001b[39m \u001b[34mpurrr    \u001b[39m 1.0.4     \n",
      "── \u001b[1mConflicts\u001b[22m ────────────────────────────────────────── tidyverse_conflicts() ──\n",
      "\u001b[31m✖\u001b[39m \u001b[34mdplyr\u001b[39m::\u001b[32mfilter()\u001b[39m masks \u001b[34mstats\u001b[39m::filter()\n",
      "\u001b[31m✖\u001b[39m \u001b[34mdplyr\u001b[39m::\u001b[32mlag()\u001b[39m    masks \u001b[34mstats\u001b[39m::lag()\n",
      "\u001b[36mℹ\u001b[39m Use the conflicted package (\u001b[3m\u001b[34m<http://conflicted.r-lib.org/>\u001b[39m\u001b[23m) to force all conflicts to become errors\n"
     ]
    }
   ],
   "source": [
    "#Benötigtes Package zum Start der Session laden, damit alle hier verwendeteten Befehle verfügbar sind\n",
    "library(tidyverse) \n",
    "\n",
    "#Daten einlesen\n",
    "data_csv_clean <- read.csv2(\"Data/21341-0001_F_2010-2020.csv\", header = FALSE, encoding = \"latin1\")\n",
    "\n",
    "#Datenkategorie setzten\n",
    "Metadaten <- data_csv_clean[c(1:6, 87:88), 1]\n",
    "Tabellendaten <- data_csv_clean[8:85, 1:13] #manuelles anpassen der zusätzlichen Spalten (Jahre 2010 bis 2019) nötig\n",
    "\n",
    "#Zeilen neu beschriften\n",
    "row.names(Tabellendaten) <- 1:78"
   ]
  },
  {
   "cell_type": "markdown",
   "id": "98d2888e",
   "metadata": {},
   "source": [
    "Betrachten wir nun die neuen Tabellendaten:"
   ]
  },
  {
   "cell_type": "code",
   "execution_count": 2,
   "id": "b0e530d2",
   "metadata": {
    "vscode": {
     "languageId": "r"
    }
   },
   "outputs": [
    {
     "data": {
      "text/html": [
       "<table class=\"dataframe\">\n",
       "<caption>A data.frame: 6 × 13</caption>\n",
       "<thead>\n",
       "\t<tr><th></th><th scope=col>V1</th><th scope=col>V2</th><th scope=col>V3</th><th scope=col>V4</th><th scope=col>V5</th><th scope=col>V6</th><th scope=col>V7</th><th scope=col>V8</th><th scope=col>V9</th><th scope=col>V10</th><th scope=col>V11</th><th scope=col>V12</th><th scope=col>V13</th></tr>\n",
       "\t<tr><th></th><th scope=col>&lt;chr&gt;</th><th scope=col>&lt;chr&gt;</th><th scope=col>&lt;chr&gt;</th><th scope=col>&lt;chr&gt;</th><th scope=col>&lt;chr&gt;</th><th scope=col>&lt;chr&gt;</th><th scope=col>&lt;chr&gt;</th><th scope=col>&lt;chr&gt;</th><th scope=col>&lt;chr&gt;</th><th scope=col>&lt;chr&gt;</th><th scope=col>&lt;chr&gt;</th><th scope=col>&lt;chr&gt;</th><th scope=col>&lt;chr&gt;</th></tr>\n",
       "</thead>\n",
       "<tbody>\n",
       "\t<tr><th scope=row>1</th><td>Wissenschaftliches und künstlerisches Personal     </td><td>männlich </td><td>208268</td><td>214232</td><td>222735</td><td>230286</td><td>236561</td><td>237107</td><td>237557</td><td>241300</td><td>244186</td><td>245452</td><td>247720</td></tr>\n",
       "\t<tr><th scope=row>2</th><td>Wissenschaftliches und künstlerisches Personal     </td><td>weiblich </td><td>116099</td><td>122870</td><td>130955</td><td>139561</td><td>144708</td><td>148204</td><td>149195</td><td>153578</td><td>157872</td><td>161207</td><td>167112</td></tr>\n",
       "\t<tr><th scope=row>3</th><td>Wissenschaftliches und künstlerisches Personal     </td><td>Insgesamt</td><td>324367</td><td>337102</td><td>353690</td><td>369847</td><td>381269</td><td>385311</td><td>386752</td><td>394878</td><td>402058</td><td>406659</td><td>414832</td></tr>\n",
       "\t<tr><th scope=row>4</th><td>  Hauptberufl. wissenschaftl. u. künstler. Personal</td><td>männlich </td><td>135125</td><td>138231</td><td>141704</td><td>145386</td><td>146556</td><td>146861</td><td>147811</td><td>151563</td><td>154020</td><td>155848</td><td>159567</td></tr>\n",
       "\t<tr><th scope=row>5</th><td>  Hauptberufl. wissenschaftl. u. künstler. Personal</td><td>weiblich </td><td>75424 </td><td>79307 </td><td>83410 </td><td>87873 </td><td>89808 </td><td>92339 </td><td>94587 </td><td>97972 </td><td>101522</td><td>104763</td><td>109708</td></tr>\n",
       "\t<tr><th scope=row>6</th><td>  Hauptberufl. wissenschaftl. u. künstler. Personal</td><td>Insgesamt</td><td>210549</td><td>217538</td><td>225114</td><td>233259</td><td>236364</td><td>239200</td><td>242398</td><td>249535</td><td>255542</td><td>260611</td><td>269275</td></tr>\n",
       "</tbody>\n",
       "</table>\n"
      ],
      "text/latex": [
       "A data.frame: 6 × 13\n",
       "\\begin{tabular}{r|lllllllllllll}\n",
       "  & V1 & V2 & V3 & V4 & V5 & V6 & V7 & V8 & V9 & V10 & V11 & V12 & V13\\\\\n",
       "  & <chr> & <chr> & <chr> & <chr> & <chr> & <chr> & <chr> & <chr> & <chr> & <chr> & <chr> & <chr> & <chr>\\\\\n",
       "\\hline\n",
       "\t1 & Wissenschaftliches und künstlerisches Personal      & männlich  & 208268 & 214232 & 222735 & 230286 & 236561 & 237107 & 237557 & 241300 & 244186 & 245452 & 247720\\\\\n",
       "\t2 & Wissenschaftliches und künstlerisches Personal      & weiblich  & 116099 & 122870 & 130955 & 139561 & 144708 & 148204 & 149195 & 153578 & 157872 & 161207 & 167112\\\\\n",
       "\t3 & Wissenschaftliches und künstlerisches Personal      & Insgesamt & 324367 & 337102 & 353690 & 369847 & 381269 & 385311 & 386752 & 394878 & 402058 & 406659 & 414832\\\\\n",
       "\t4 &   Hauptberufl. wissenschaftl. u. künstler. Personal & männlich  & 135125 & 138231 & 141704 & 145386 & 146556 & 146861 & 147811 & 151563 & 154020 & 155848 & 159567\\\\\n",
       "\t5 &   Hauptberufl. wissenschaftl. u. künstler. Personal & weiblich  & 75424  & 79307  & 83410  & 87873  & 89808  & 92339  & 94587  & 97972  & 101522 & 104763 & 109708\\\\\n",
       "\t6 &   Hauptberufl. wissenschaftl. u. künstler. Personal & Insgesamt & 210549 & 217538 & 225114 & 233259 & 236364 & 239200 & 242398 & 249535 & 255542 & 260611 & 269275\\\\\n",
       "\\end{tabular}\n"
      ],
      "text/markdown": [
       "\n",
       "A data.frame: 6 × 13\n",
       "\n",
       "| <!--/--> | V1 &lt;chr&gt; | V2 &lt;chr&gt; | V3 &lt;chr&gt; | V4 &lt;chr&gt; | V5 &lt;chr&gt; | V6 &lt;chr&gt; | V7 &lt;chr&gt; | V8 &lt;chr&gt; | V9 &lt;chr&gt; | V10 &lt;chr&gt; | V11 &lt;chr&gt; | V12 &lt;chr&gt; | V13 &lt;chr&gt; |\n",
       "|---|---|---|---|---|---|---|---|---|---|---|---|---|---|\n",
       "| 1 | Wissenschaftliches und künstlerisches Personal      | männlich  | 208268 | 214232 | 222735 | 230286 | 236561 | 237107 | 237557 | 241300 | 244186 | 245452 | 247720 |\n",
       "| 2 | Wissenschaftliches und künstlerisches Personal      | weiblich  | 116099 | 122870 | 130955 | 139561 | 144708 | 148204 | 149195 | 153578 | 157872 | 161207 | 167112 |\n",
       "| 3 | Wissenschaftliches und künstlerisches Personal      | Insgesamt | 324367 | 337102 | 353690 | 369847 | 381269 | 385311 | 386752 | 394878 | 402058 | 406659 | 414832 |\n",
       "| 4 |   Hauptberufl. wissenschaftl. u. künstler. Personal | männlich  | 135125 | 138231 | 141704 | 145386 | 146556 | 146861 | 147811 | 151563 | 154020 | 155848 | 159567 |\n",
       "| 5 |   Hauptberufl. wissenschaftl. u. künstler. Personal | weiblich  | 75424  | 79307  | 83410  | 87873  | 89808  | 92339  | 94587  | 97972  | 101522 | 104763 | 109708 |\n",
       "| 6 |   Hauptberufl. wissenschaftl. u. künstler. Personal | Insgesamt | 210549 | 217538 | 225114 | 233259 | 236364 | 239200 | 242398 | 249535 | 255542 | 260611 | 269275 |\n",
       "\n"
      ],
      "text/plain": [
       "  V1                                                  V2        V3     V4    \n",
       "1 Wissenschaftliches und künstlerisches Personal      männlich  208268 214232\n",
       "2 Wissenschaftliches und künstlerisches Personal      weiblich  116099 122870\n",
       "3 Wissenschaftliches und künstlerisches Personal      Insgesamt 324367 337102\n",
       "4   Hauptberufl. wissenschaftl. u. künstler. Personal männlich  135125 138231\n",
       "5   Hauptberufl. wissenschaftl. u. künstler. Personal weiblich  75424  79307 \n",
       "6   Hauptberufl. wissenschaftl. u. künstler. Personal Insgesamt 210549 217538\n",
       "  V5     V6     V7     V8     V9     V10    V11    V12    V13   \n",
       "1 222735 230286 236561 237107 237557 241300 244186 245452 247720\n",
       "2 130955 139561 144708 148204 149195 153578 157872 161207 167112\n",
       "3 353690 369847 381269 385311 386752 394878 402058 406659 414832\n",
       "4 141704 145386 146556 146861 147811 151563 154020 155848 159567\n",
       "5 83410  87873  89808  92339  94587  97972  101522 104763 109708\n",
       "6 225114 233259 236364 239200 242398 249535 255542 260611 269275"
      ]
     },
     "metadata": {},
     "output_type": "display_data"
    }
   ],
   "source": [
    "head(Tabellendaten)"
   ]
  },
  {
   "cell_type": "markdown",
   "id": "b1328669",
   "metadata": {},
   "source": [
    "Für ein besseres Verständnis setzten Sie wieder eine verständliche Variablenbezeichnung (Spaltenüberschriften):"
   ]
  },
  {
   "cell_type": "code",
   "execution_count": 3,
   "id": "a11782b8",
   "metadata": {
    "vscode": {
     "languageId": "r"
    }
   },
   "outputs": [
    {
     "data": {
      "text/html": [
       "<table class=\"dataframe\">\n",
       "<caption>A data.frame: 6 × 13</caption>\n",
       "<thead>\n",
       "\t<tr><th></th><th scope=col>Angestelltenverhaeltnis</th><th scope=col>Geschlecht</th><th scope=col>Angestelltenzahl_2010</th><th scope=col>Angestelltenzahl_2011</th><th scope=col>Angestelltenzahl_2012</th><th scope=col>Angestelltenzahl_2013</th><th scope=col>Angestelltenzahl_2014</th><th scope=col>Angestelltenzahl_2015</th><th scope=col>Angestelltenzahl_2016</th><th scope=col>Angestelltenzahl_2017</th><th scope=col>Angestelltenzahl_2018</th><th scope=col>Angestelltenzahl_2019</th><th scope=col>Angestelltenzahl_2020</th></tr>\n",
       "\t<tr><th></th><th scope=col>&lt;chr&gt;</th><th scope=col>&lt;chr&gt;</th><th scope=col>&lt;chr&gt;</th><th scope=col>&lt;chr&gt;</th><th scope=col>&lt;chr&gt;</th><th scope=col>&lt;chr&gt;</th><th scope=col>&lt;chr&gt;</th><th scope=col>&lt;chr&gt;</th><th scope=col>&lt;chr&gt;</th><th scope=col>&lt;chr&gt;</th><th scope=col>&lt;chr&gt;</th><th scope=col>&lt;chr&gt;</th><th scope=col>&lt;chr&gt;</th></tr>\n",
       "</thead>\n",
       "<tbody>\n",
       "\t<tr><th scope=row>1</th><td>Wissenschaftliches und künstlerisches Personal     </td><td>männlich </td><td>208268</td><td>214232</td><td>222735</td><td>230286</td><td>236561</td><td>237107</td><td>237557</td><td>241300</td><td>244186</td><td>245452</td><td>247720</td></tr>\n",
       "\t<tr><th scope=row>2</th><td>Wissenschaftliches und künstlerisches Personal     </td><td>weiblich </td><td>116099</td><td>122870</td><td>130955</td><td>139561</td><td>144708</td><td>148204</td><td>149195</td><td>153578</td><td>157872</td><td>161207</td><td>167112</td></tr>\n",
       "\t<tr><th scope=row>3</th><td>Wissenschaftliches und künstlerisches Personal     </td><td>Insgesamt</td><td>324367</td><td>337102</td><td>353690</td><td>369847</td><td>381269</td><td>385311</td><td>386752</td><td>394878</td><td>402058</td><td>406659</td><td>414832</td></tr>\n",
       "\t<tr><th scope=row>4</th><td>  Hauptberufl. wissenschaftl. u. künstler. Personal</td><td>männlich </td><td>135125</td><td>138231</td><td>141704</td><td>145386</td><td>146556</td><td>146861</td><td>147811</td><td>151563</td><td>154020</td><td>155848</td><td>159567</td></tr>\n",
       "\t<tr><th scope=row>5</th><td>  Hauptberufl. wissenschaftl. u. künstler. Personal</td><td>weiblich </td><td>75424 </td><td>79307 </td><td>83410 </td><td>87873 </td><td>89808 </td><td>92339 </td><td>94587 </td><td>97972 </td><td>101522</td><td>104763</td><td>109708</td></tr>\n",
       "\t<tr><th scope=row>6</th><td>  Hauptberufl. wissenschaftl. u. künstler. Personal</td><td>Insgesamt</td><td>210549</td><td>217538</td><td>225114</td><td>233259</td><td>236364</td><td>239200</td><td>242398</td><td>249535</td><td>255542</td><td>260611</td><td>269275</td></tr>\n",
       "</tbody>\n",
       "</table>\n"
      ],
      "text/latex": [
       "A data.frame: 6 × 13\n",
       "\\begin{tabular}{r|lllllllllllll}\n",
       "  & Angestelltenverhaeltnis & Geschlecht & Angestelltenzahl\\_2010 & Angestelltenzahl\\_2011 & Angestelltenzahl\\_2012 & Angestelltenzahl\\_2013 & Angestelltenzahl\\_2014 & Angestelltenzahl\\_2015 & Angestelltenzahl\\_2016 & Angestelltenzahl\\_2017 & Angestelltenzahl\\_2018 & Angestelltenzahl\\_2019 & Angestelltenzahl\\_2020\\\\\n",
       "  & <chr> & <chr> & <chr> & <chr> & <chr> & <chr> & <chr> & <chr> & <chr> & <chr> & <chr> & <chr> & <chr>\\\\\n",
       "\\hline\n",
       "\t1 & Wissenschaftliches und künstlerisches Personal      & männlich  & 208268 & 214232 & 222735 & 230286 & 236561 & 237107 & 237557 & 241300 & 244186 & 245452 & 247720\\\\\n",
       "\t2 & Wissenschaftliches und künstlerisches Personal      & weiblich  & 116099 & 122870 & 130955 & 139561 & 144708 & 148204 & 149195 & 153578 & 157872 & 161207 & 167112\\\\\n",
       "\t3 & Wissenschaftliches und künstlerisches Personal      & Insgesamt & 324367 & 337102 & 353690 & 369847 & 381269 & 385311 & 386752 & 394878 & 402058 & 406659 & 414832\\\\\n",
       "\t4 &   Hauptberufl. wissenschaftl. u. künstler. Personal & männlich  & 135125 & 138231 & 141704 & 145386 & 146556 & 146861 & 147811 & 151563 & 154020 & 155848 & 159567\\\\\n",
       "\t5 &   Hauptberufl. wissenschaftl. u. künstler. Personal & weiblich  & 75424  & 79307  & 83410  & 87873  & 89808  & 92339  & 94587  & 97972  & 101522 & 104763 & 109708\\\\\n",
       "\t6 &   Hauptberufl. wissenschaftl. u. künstler. Personal & Insgesamt & 210549 & 217538 & 225114 & 233259 & 236364 & 239200 & 242398 & 249535 & 255542 & 260611 & 269275\\\\\n",
       "\\end{tabular}\n"
      ],
      "text/markdown": [
       "\n",
       "A data.frame: 6 × 13\n",
       "\n",
       "| <!--/--> | Angestelltenverhaeltnis &lt;chr&gt; | Geschlecht &lt;chr&gt; | Angestelltenzahl_2010 &lt;chr&gt; | Angestelltenzahl_2011 &lt;chr&gt; | Angestelltenzahl_2012 &lt;chr&gt; | Angestelltenzahl_2013 &lt;chr&gt; | Angestelltenzahl_2014 &lt;chr&gt; | Angestelltenzahl_2015 &lt;chr&gt; | Angestelltenzahl_2016 &lt;chr&gt; | Angestelltenzahl_2017 &lt;chr&gt; | Angestelltenzahl_2018 &lt;chr&gt; | Angestelltenzahl_2019 &lt;chr&gt; | Angestelltenzahl_2020 &lt;chr&gt; |\n",
       "|---|---|---|---|---|---|---|---|---|---|---|---|---|---|\n",
       "| 1 | Wissenschaftliches und künstlerisches Personal      | männlich  | 208268 | 214232 | 222735 | 230286 | 236561 | 237107 | 237557 | 241300 | 244186 | 245452 | 247720 |\n",
       "| 2 | Wissenschaftliches und künstlerisches Personal      | weiblich  | 116099 | 122870 | 130955 | 139561 | 144708 | 148204 | 149195 | 153578 | 157872 | 161207 | 167112 |\n",
       "| 3 | Wissenschaftliches und künstlerisches Personal      | Insgesamt | 324367 | 337102 | 353690 | 369847 | 381269 | 385311 | 386752 | 394878 | 402058 | 406659 | 414832 |\n",
       "| 4 |   Hauptberufl. wissenschaftl. u. künstler. Personal | männlich  | 135125 | 138231 | 141704 | 145386 | 146556 | 146861 | 147811 | 151563 | 154020 | 155848 | 159567 |\n",
       "| 5 |   Hauptberufl. wissenschaftl. u. künstler. Personal | weiblich  | 75424  | 79307  | 83410  | 87873  | 89808  | 92339  | 94587  | 97972  | 101522 | 104763 | 109708 |\n",
       "| 6 |   Hauptberufl. wissenschaftl. u. künstler. Personal | Insgesamt | 210549 | 217538 | 225114 | 233259 | 236364 | 239200 | 242398 | 249535 | 255542 | 260611 | 269275 |\n",
       "\n"
      ],
      "text/plain": [
       "  Angestelltenverhaeltnis                             Geschlecht\n",
       "1 Wissenschaftliches und künstlerisches Personal      männlich  \n",
       "2 Wissenschaftliches und künstlerisches Personal      weiblich  \n",
       "3 Wissenschaftliches und künstlerisches Personal      Insgesamt \n",
       "4   Hauptberufl. wissenschaftl. u. künstler. Personal männlich  \n",
       "5   Hauptberufl. wissenschaftl. u. künstler. Personal weiblich  \n",
       "6   Hauptberufl. wissenschaftl. u. künstler. Personal Insgesamt \n",
       "  Angestelltenzahl_2010 Angestelltenzahl_2011 Angestelltenzahl_2012\n",
       "1 208268                214232                222735               \n",
       "2 116099                122870                130955               \n",
       "3 324367                337102                353690               \n",
       "4 135125                138231                141704               \n",
       "5 75424                 79307                 83410                \n",
       "6 210549                217538                225114               \n",
       "  Angestelltenzahl_2013 Angestelltenzahl_2014 Angestelltenzahl_2015\n",
       "1 230286                236561                237107               \n",
       "2 139561                144708                148204               \n",
       "3 369847                381269                385311               \n",
       "4 145386                146556                146861               \n",
       "5 87873                 89808                 92339                \n",
       "6 233259                236364                239200               \n",
       "  Angestelltenzahl_2016 Angestelltenzahl_2017 Angestelltenzahl_2018\n",
       "1 237557                241300                244186               \n",
       "2 149195                153578                157872               \n",
       "3 386752                394878                402058               \n",
       "4 147811                151563                154020               \n",
       "5 94587                 97972                 101522               \n",
       "6 242398                249535                255542               \n",
       "  Angestelltenzahl_2019 Angestelltenzahl_2020\n",
       "1 245452                247720               \n",
       "2 161207                167112               \n",
       "3 406659                414832               \n",
       "4 155848                159567               \n",
       "5 104763                109708               \n",
       "6 260611                269275               "
      ]
     },
     "metadata": {},
     "output_type": "display_data"
    }
   ],
   "source": [
    "#Schritt 1: Objekt definieren, welches in aufsteigender Reihenfolge die Beschriftungen \"Angestelltenverältns_2010\" bis \"Angestelltenverältns_2020\" enthält.\n",
    "alle_Jahre <- paste(\"Angestelltenzahl_\",sep=\"\", 2010:2020)\n",
    "\n",
    "#Schritt 2: Variablenbezeichnung setzen\n",
    "colnames(Tabellendaten) <- c(\"Angestelltenverhaeltnis\", \"Geschlecht\", alle_Jahre)\n",
    "\n",
    "#Tabelle anzeigen lassen \n",
    "head(Tabellendaten)"
   ]
  },
  {
   "cell_type": "markdown",
   "id": "0a542e6c",
   "metadata": {},
   "source": [
    "Damit Sie die Tabelle im nächsten Schritt filtern können, müssen Sie wieder die unnötigen Leerzeichen mittels des `trimws()`-Befehls entfernen."
   ]
  },
  {
   "cell_type": "code",
   "execution_count": 4,
   "id": "2a3b938f",
   "metadata": {
    "vscode": {
     "languageId": "r"
    }
   },
   "outputs": [],
   "source": [
    "Tabellendaten$Angestelltenverhaeltnis <- trimws(Tabellendaten$Angestelltenverhaeltnis)"
   ]
  },
  {
   "cell_type": "markdown",
   "id": "d515e8ca",
   "metadata": {},
   "source": [
    "Nun Sind die Daten bereit zur Auswertung."
   ]
  },
  {
   "cell_type": "markdown",
   "id": "f03a410c",
   "metadata": {},
   "source": [
    "## Gesuchte Daten finden \n",
    "\n",
    "In der Forschungsfrage wird von der \"Zusammensetzung des Personals an deutschen Hochschulen\"\" gesprochen.\n",
    "Nun stellt sich die Frage, welche Personalgruppen hierfür genau beleuchtet werden sollen. Damit es übersichtlich bleibt, betrachten wir im folgenden nur die zwei Übergruppen \"Wissenschaftliches und künstlerisches Personal\" und \"Verwaltungs-, technisches und sonstiges Personal\". \n",
    "\n",
    "Hierfür filtern wir die Tabelle nach diesen beiden Gruppen:"
   ]
  },
  {
   "cell_type": "code",
   "execution_count": 5,
   "id": "db44e586",
   "metadata": {
    "vscode": {
     "languageId": "r"
    }
   },
   "outputs": [
    {
     "name": "stdout",
     "output_type": "stream",
     "text": [
      "                           Angestelltenverhaeltnis Geschlecht\n",
      "1   Wissenschaftliches und künstlerisches Personal  Insgesamt\n",
      "2 Verwaltungs-, technisches und sonstiges Personal  Insgesamt\n",
      "  Angestelltenzahl_2010 Angestelltenzahl_2011 Angestelltenzahl_2012\n",
      "1                324367                337102                353690\n",
      "2                277315                282131                286331\n",
      "  Angestelltenzahl_2013 Angestelltenzahl_2014 Angestelltenzahl_2015\n",
      "1                369847                381269                385311\n",
      "2                292229                293877                299074\n",
      "  Angestelltenzahl_2016 Angestelltenzahl_2017 Angestelltenzahl_2018\n",
      "1                386752                394878                402058\n",
      "2                304611                309729                317145\n",
      "  Angestelltenzahl_2019 Angestelltenzahl_2020\n",
      "1                406659                414832\n",
      "2                331103                344233\n"
     ]
    }
   ],
   "source": [
    "#Tabelle filtern\n",
    "Daten_basis <- filter(Tabellendaten, Angestelltenverhaeltnis == \"Wissenschaftliches und künstlerisches Personal\"\n",
    "                     & Geschlecht ==\"Insgesamt\" | Angestelltenverhaeltnis == \"Verwaltungs-, technisches und sonstiges Personal\"\n",
    "                     & Geschlecht ==\"Insgesamt\")\n",
    "#Ergbnis sichten                 \n",
    "show(Daten_basis)"
   ]
  },
  {
   "cell_type": "markdown",
   "id": "796c000e",
   "metadata": {},
   "source": [
    "## Daten auswerten \n",
    "\n",
    "Um mit Datenwerten rechnen zu können, ist die Klasse der Daten entscheidend. Was Variablenklassen genau sind wurde in dem Abschnitt [Übung: Arbeiten mit CSV-Dateien in R](/Markdown/6_2_Übung_Arbeiten_CSV_in_R.ipynb) bereits besprochen.\n",
    "\n",
    "Mittels des Befehls `str()` können Sie sich schnell die Klassen anzeigen lassen:"
   ]
  },
  {
   "cell_type": "code",
   "execution_count": 6,
   "id": "5d8dda27",
   "metadata": {
    "vscode": {
     "languageId": "r"
    }
   },
   "outputs": [
    {
     "name": "stdout",
     "output_type": "stream",
     "text": [
      "'data.frame':\t2 obs. of  13 variables:\n",
      " $ Angestelltenverhaeltnis: chr  \"Wissenschaftliches und künstlerisches Personal\" \"Verwaltungs-, technisches und sonstiges Personal\"\n",
      " $ Geschlecht             : chr  \"Insgesamt\" \"Insgesamt\"\n",
      " $ Angestelltenzahl_2010  : chr  \"324367\" \"277315\"\n",
      " $ Angestelltenzahl_2011  : chr  \"337102\" \"282131\"\n",
      " $ Angestelltenzahl_2012  : chr  \"353690\" \"286331\"\n",
      " $ Angestelltenzahl_2013  : chr  \"369847\" \"292229\"\n",
      " $ Angestelltenzahl_2014  : chr  \"381269\" \"293877\"\n",
      " $ Angestelltenzahl_2015  : chr  \"385311\" \"299074\"\n",
      " $ Angestelltenzahl_2016  : chr  \"386752\" \"304611\"\n",
      " $ Angestelltenzahl_2017  : chr  \"394878\" \"309729\"\n",
      " $ Angestelltenzahl_2018  : chr  \"402058\" \"317145\"\n",
      " $ Angestelltenzahl_2019  : chr  \"406659\" \"331103\"\n",
      " $ Angestelltenzahl_2020  : chr  \"414832\" \"344233\"\n"
     ]
    }
   ],
   "source": [
    "str(Daten_basis)"
   ]
  },
  {
   "cell_type": "markdown",
   "id": "e4a676fe",
   "metadata": {},
   "source": [
    "Im Folgenden wollen wir die Jahre 2010 und 2020 miteinander vergleichen, daher müssen Sie für diese Variablen die Klasse in integer oder numeric ändern."
   ]
  },
  {
   "cell_type": "code",
   "execution_count": 7,
   "id": "2888aa8d",
   "metadata": {
    "vscode": {
     "languageId": "r"
    }
   },
   "outputs": [],
   "source": [
    "Daten_basis$Angestelltenzahl_2010 <- as.integer(Daten_basis$Angestelltenzahl_2010)\n",
    "Daten_basis$Angestelltenzahl_2020 <- as.integer(Daten_basis$Angestelltenzahl_2020)"
   ]
  },
  {
   "cell_type": "markdown",
   "id": "b574df80",
   "metadata": {},
   "source": [
    "**Wie hat sich der Personalbestand zwischen den Jahren 2010 und 2020 verändert?**"
   ]
  },
  {
   "cell_type": "code",
   "execution_count": 8,
   "id": "6dec1159",
   "metadata": {
    "vscode": {
     "languageId": "r"
    }
   },
   "outputs": [
    {
     "data": {
      "text/html": [
       "<style>\n",
       ".list-inline {list-style: none; margin:0; padding: 0}\n",
       ".list-inline>li {display: inline-block}\n",
       ".list-inline>li:not(:last-child)::after {content: \"\\00b7\"; padding: 0 .5ex}\n",
       "</style>\n",
       "<ol class=list-inline><li>90465</li><li>66918</li></ol>\n"
      ],
      "text/latex": [
       "\\begin{enumerate*}\n",
       "\\item 90465\n",
       "\\item 66918\n",
       "\\end{enumerate*}\n"
      ],
      "text/markdown": [
       "1. 90465\n",
       "2. 66918\n",
       "\n",
       "\n"
      ],
      "text/plain": [
       "[1] 90465 66918"
      ]
     },
     "metadata": {},
     "output_type": "display_data"
    },
    {
     "data": {
      "text/html": [
       "<style>\n",
       ".list-inline {list-style: none; margin:0; padding: 0}\n",
       ".list-inline>li {display: inline-block}\n",
       ".list-inline>li:not(:last-child)::after {content: \"\\00b7\"; padding: 0 .5ex}\n",
       "</style>\n",
       "<ol class=list-inline><li>27.8897051796268</li><li>24.1306817157384</li></ol>\n"
      ],
      "text/latex": [
       "\\begin{enumerate*}\n",
       "\\item 27.8897051796268\n",
       "\\item 24.1306817157384\n",
       "\\end{enumerate*}\n"
      ],
      "text/markdown": [
       "1. 27.8897051796268\n",
       "2. 24.1306817157384\n",
       "\n",
       "\n"
      ],
      "text/plain": [
       "[1] 27.88971 24.13068"
      ]
     },
     "metadata": {},
     "output_type": "display_data"
    }
   ],
   "source": [
    "#Absolute Veränderung:\n",
    "Daten_basis$Angestelltenzahl_2020 - Daten_basis$Angestelltenzahl_2010\n",
    "\n",
    "#Prozentuale veränderung:\n",
    "(Daten_basis$Angestelltenzahl_2020 - Daten_basis$Angestelltenzahl_2010) / Daten_basis$Angestelltenzahl_2010 * 100"
   ]
  },
  {
   "cell_type": "markdown",
   "id": "042d6310",
   "metadata": {},
   "source": [
    "**Antwort:**\n",
    "Der absolute Personalbestand an deutschen Hochschulen hat sich wie folgt verändert:\n",
    "\n",
    "- Zwischen den Jahren 2010 und 2020 hat sich der Personalbestand von *wissenschaftlichem und künstlerischem Personal* um 90.465 erhöht. Dies entspricht einer Erhöhung um 27,89%.\n",
    "- Zwischen den Jahren 2010 und 2020 hat sich der Personalbestand von *Verwaltungs-, technischem und sonstigem Personal* um 66.918 erhöht. Dies entspricht einer Erhöhung um 24,13%."
   ]
  },
  {
   "cell_type": "markdown",
   "id": "8595ee1c",
   "metadata": {},
   "source": [
    "**Wie groß ist der prozentuale Anteil der jeweiligen Gruppe am gesamten Personalbestand?**"
   ]
  },
  {
   "cell_type": "code",
   "execution_count": 9,
   "id": "dca6fc53",
   "metadata": {
    "vscode": {
     "languageId": "r"
    }
   },
   "outputs": [
    {
     "data": {
      "text/html": [
       "<style>\n",
       ".list-inline {list-style: none; margin:0; padding: 0}\n",
       ".list-inline>li {display: inline-block}\n",
       ".list-inline>li:not(:last-child)::after {content: \"\\00b7\"; padding: 0 .5ex}\n",
       "</style>\n",
       "<ol class=list-inline><li>53.9100388577355</li><li>46.0899611422645</li></ol>\n"
      ],
      "text/latex": [
       "\\begin{enumerate*}\n",
       "\\item 53.9100388577355\n",
       "\\item 46.0899611422645\n",
       "\\end{enumerate*}\n"
      ],
      "text/markdown": [
       "1. 53.9100388577355\n",
       "2. 46.0899611422645\n",
       "\n",
       "\n"
      ],
      "text/plain": [
       "[1] 53.91004 46.08996"
      ]
     },
     "metadata": {},
     "output_type": "display_data"
    },
    {
     "data": {
      "text/html": [
       "<style>\n",
       ".list-inline {list-style: none; margin:0; padding: 0}\n",
       ".list-inline>li {display: inline-block}\n",
       ".list-inline>li:not(:last-child)::after {content: \"\\00b7\"; padding: 0 .5ex}\n",
       "</style>\n",
       "<ol class=list-inline><li>54.6503922588975</li><li>45.3496077411025</li></ol>\n"
      ],
      "text/latex": [
       "\\begin{enumerate*}\n",
       "\\item 54.6503922588975\n",
       "\\item 45.3496077411025\n",
       "\\end{enumerate*}\n"
      ],
      "text/markdown": [
       "1. 54.6503922588975\n",
       "2. 45.3496077411025\n",
       "\n",
       "\n"
      ],
      "text/plain": [
       "[1] 54.65039 45.34961"
      ]
     },
     "metadata": {},
     "output_type": "display_data"
    }
   ],
   "source": [
    "#Prozentuale Zusammensetzung 2010\n",
    "Daten_basis$Angestelltenzahl_2010 / sum(Daten_basis$Angestelltenzahl_2010) * 100\n",
    "\n",
    "#Prozentuale Zusammensetzung 2020 \n",
    "Daten_basis$Angestelltenzahl_2020 / sum(Daten_basis$Angestelltenzahl_2020) * 100"
   ]
  },
  {
   "cell_type": "markdown",
   "id": "9f8e7cc4",
   "metadata": {},
   "source": [
    "**Antwort:**\n",
    "Die prozentuale Zusammensetzung des Personalbestandes an deutschen Hochschulen hat sich wie folgt verändert:\n",
    "\n",
    "- Zwischen den Jahren 2010 und 2020 hat sich der Personalbestand von *wissenschaftlichem und künstlerischem Personal* von 53,91% auf 54,65% am Gesamtanteil gesteigert\n",
    "- Zwischen den Jahren 2010 und 2020 hat sich der Personalbestand von *Verwaltungs-, technischem und sonstigem Personal* von 46,09% auf 45,35% am Gesamtanteil verringert.\n"
   ]
  },
  {
   "cell_type": "markdown",
   "id": "2cfcb5fd",
   "metadata": {},
   "source": [
    "## Daten visualisieren\n",
    "Für eine visuelle Beantwortung unserer Forschungsfrage bietet das erstellen eines Liniendiagramms an.\n",
    "Hierfür benötigen wir einen Datenframe welcher die folgenden Variablen spaltenweise auflistet:\n",
    "\n",
    "- Jahre 2010 bis 2020\n",
    "- Wissenschaftliches und künstlerisches Personal\n",
    "- Verwaltungs-, technisches und sonstiges Personal\n",
    "\n",
    "\n",
    "Dieser Aufbau ähnelt dem Aufbau unserer `Daten_basis`, jedoch müssen wir hierfür die Zeilen nun spaltenweise anordnen. Diesen Schritt nennt man \"transponieren\" (=\"spiegeln\").\n",
    "\n",
    "Der Befehl `t()` hilft uns hier raus:"
   ]
  },
  {
   "cell_type": "code",
   "execution_count": 10,
   "id": "900da8f5",
   "metadata": {
    "vscode": {
     "languageId": "r"
    }
   },
   "outputs": [
    {
     "name": "stdout",
     "output_type": "stream",
     "text": [
      "                                                                    V1\n",
      "Angestelltenverhaeltnis Wissenschaftliches und künstlerisches Personal\n",
      "Geschlecht                                                   Insgesamt\n",
      "Angestelltenzahl_2010                                           324367\n",
      "Angestelltenzahl_2011                                           337102\n",
      "Angestelltenzahl_2012                                           353690\n",
      "Angestelltenzahl_2013                                           369847\n",
      "Angestelltenzahl_2014                                           381269\n",
      "Angestelltenzahl_2015                                           385311\n",
      "Angestelltenzahl_2016                                           386752\n",
      "Angestelltenzahl_2017                                           394878\n",
      "Angestelltenzahl_2018                                           402058\n",
      "Angestelltenzahl_2019                                           406659\n",
      "Angestelltenzahl_2020                                           414832\n",
      "                                                                      V2\n",
      "Angestelltenverhaeltnis Verwaltungs-, technisches und sonstiges Personal\n",
      "Geschlecht                                                     Insgesamt\n",
      "Angestelltenzahl_2010                                             277315\n",
      "Angestelltenzahl_2011                                             282131\n",
      "Angestelltenzahl_2012                                             286331\n",
      "Angestelltenzahl_2013                                             292229\n",
      "Angestelltenzahl_2014                                             293877\n",
      "Angestelltenzahl_2015                                             299074\n",
      "Angestelltenzahl_2016                                             304611\n",
      "Angestelltenzahl_2017                                             309729\n",
      "Angestelltenzahl_2018                                             317145\n",
      "Angestelltenzahl_2019                                             331103\n",
      "Angestelltenzahl_2020                                             344233\n"
     ]
    }
   ],
   "source": [
    "Daten_basis_transponiert <- as.data.frame(t(Daten_basis))\n",
    "\n",
    "#Ergbenis anzeigen lassen\n",
    "show(Daten_basis_transponiert)"
   ]
  },
  {
   "cell_type": "markdown",
   "id": "67ae7cd6",
   "metadata": {},
   "source": [
    "An dieser Stelle sind wir jetzt primär nur an den Zahlenwerten interessiert und wollen diese in einen neuen Datenframe überführen, welcher die wie oben beschrieben strukturieren erzeugt."
   ]
  },
  {
   "cell_type": "code",
   "execution_count": 11,
   "id": "13b8bf92",
   "metadata": {
    "vscode": {
     "languageId": "r"
    }
   },
   "outputs": [
    {
     "name": "stderr",
     "output_type": "stream",
     "text": [
      "Warning message:\n",
      "“\u001b[1m\u001b[22m`data_frame()` was deprecated in tibble 1.1.0.\n",
      "\u001b[36mℹ\u001b[39m Please use `tibble()` instead.”\n"
     ]
    },
    {
     "name": "stdout",
     "output_type": "stream",
     "text": [
      "\u001b[90m# A tibble: 11 × 3\u001b[39m\n",
      "   Jahre Wissenschaft Verwaltung\n",
      "   \u001b[3m\u001b[90m<int>\u001b[39m\u001b[23m \u001b[3m\u001b[90m<chr>\u001b[39m\u001b[23m        \u001b[3m\u001b[90m<chr>\u001b[39m\u001b[23m     \n",
      "\u001b[90m 1\u001b[39m  \u001b[4m2\u001b[24m010 324367       277315    \n",
      "\u001b[90m 2\u001b[39m  \u001b[4m2\u001b[24m011 337102       282131    \n",
      "\u001b[90m 3\u001b[39m  \u001b[4m2\u001b[24m012 353690       286331    \n",
      "\u001b[90m 4\u001b[39m  \u001b[4m2\u001b[24m013 369847       292229    \n",
      "\u001b[90m 5\u001b[39m  \u001b[4m2\u001b[24m014 381269       293877    \n",
      "\u001b[90m 6\u001b[39m  \u001b[4m2\u001b[24m015 385311       299074    \n",
      "\u001b[90m 7\u001b[39m  \u001b[4m2\u001b[24m016 386752       304611    \n",
      "\u001b[90m 8\u001b[39m  \u001b[4m2\u001b[24m017 394878       309729    \n",
      "\u001b[90m 9\u001b[39m  \u001b[4m2\u001b[24m018 402058       317145    \n",
      "\u001b[90m10\u001b[39m  \u001b[4m2\u001b[24m019 406659       331103    \n",
      "\u001b[90m11\u001b[39m  \u001b[4m2\u001b[24m020 414832       344233    \n"
     ]
    }
   ],
   "source": [
    "plot_daten <- data_frame(Jahre=2010:2020, Wissenschaft=Daten_basis_transponiert[3:13,1], Verwaltung=Daten_basis_transponiert[3:13,2])\n",
    "\n",
    "show(plot_daten)"
   ]
  },
  {
   "cell_type": "markdown",
   "id": "4c64c431",
   "metadata": {},
   "source": [
    "Der erzeugte Datenframe entspricht nun genau der gewünschten Strukutr. Jetzt muss nur noch die Variablenklasse zu integer oder numeric geändert werden und das Liniendiagramm ist bereit, gebaut zu werden."
   ]
  },
  {
   "cell_type": "code",
   "execution_count": 12,
   "id": "43b66c52",
   "metadata": {
    "vscode": {
     "languageId": "r"
    }
   },
   "outputs": [],
   "source": [
    "plot_daten$Wissenschaft <- as.integer(plot_daten$Wissenschaft)\n",
    "plot_daten$Verwaltung <- as.integer(plot_daten$Verwaltung)"
   ]
  },
  {
   "cell_type": "markdown",
   "id": "86f77c7f",
   "metadata": {},
   "source": [
    "Zur Visulaiserung von Daten in **R** empfiehlt sich die Verwendung der `ggplot`-Funktion und der dazugehörigen Spezifizierungen."
   ]
  },
  {
   "cell_type": "code",
   "execution_count": 13,
   "id": "0bc0061a",
   "metadata": {
    "vscode": {
     "languageId": "r"
    }
   },
   "outputs": [
    {
     "data": {
      "image/png": "[encoded data removed]",
      "text/plain": [
       "plot without title"
      ]
     },
     "metadata": {
      "image/png": {
       "height": 300,
       "width": 900
      }
     },
     "output_type": "display_data"
    }
   ],
   "source": [
    "options(repr.plot.width=15, repr.plot.height=5) # Größe des Plots definieren\n",
    "\n",
    "ggplot(plot_daten, aes(x = Jahre))+ #Setzen der Datenbasis und X-Achse\n",
    "  geom_line(aes(y=Wissenschaft, color = \"red\"))+ #Linie für Varaible \"Wissenschaft\"\" erzeugen\n",
    "  geom_point(aes(y=Wissenschaft), size = 3, color = \"red\")+ #Punkte zur Linie hinzufügen\n",
    "  geom_line(aes(y=Verwaltung, color = \"blue\"))+ #Linie für Varaible \"Verwaltung\"\" erzeugen\n",
    "  geom_point(aes(y=Verwaltung), size = 3, color = \"blue\")+ #Punkte zur Linie hinzufügen\n",
    "  scale_x_continuous(breaks = 2010:2020)+ #Abschnitte für X-Achse definieren\n",
    "  theme_bw(base_size = 15)+ #Layout bzw. Theme setzen\n",
    "  scale_y_continuous(\"Personalbestand\", limits=c(0,500000),labels = scales::comma)+ #Y-Achse beschriften und Wertebereich setzen.\n",
    "  ggtitle(\"Zusammensetzung des Personals an Hochschulen in Deutschland im letzten Jahrzehnt (2010-2020)\")+ #Diagrammtitel setzen\n",
    "  scale_color_identity(name = \"Personalkategorie\",\n",
    "                       breaks = c(\"red\", \"blue\"),\n",
    "                       labels = c(\"Wissenschaftliches und künstlerisches Personal\", \"Verwaltungs-, technisches und sonstiges Personal\"),\n",
    "                       guide = \"legend\"\n",
    "                       ) #Legende setzen"
   ]
  },
  {
   "cell_type": "markdown",
   "id": "6ca44ff6",
   "metadata": {},
   "source": [
    "In dem erzeugten Liniendiagramm lässt sich die Erhöhung des Bestandes beider Personalgruppen leicht ablesen."
   ]
  },
  {
   "cell_type": "markdown",
   "id": "47009d0d",
   "metadata": {},
   "source": [
    "## Beantwortung der Forschungsfrage"
   ]
  },
  {
   "cell_type": "markdown",
   "id": "955a37da",
   "metadata": {},
   "source": [
    "Zuletzt bleibt nun nur noch eine zusammenfassende Antwort auf unsere Forschungsfrage aus.\n",
    "\n",
    "```{admonition} Forschungsfrage\n",
    ":class: keypoint\n",
    "Wie hat sich die Zusammensetzung des Personals an Hochschulen in Deutschland im letzten Jahrzehnt (2010-2020) entwickelt?\n",
    "```\n",
    "\n",
    "`````{admonition} Antwort\n",
    ":class: solution\n",
    "Das Personal an Hochschulen in Deutschland gliedert sich in zwei Hauptgruppen:\n",
    "\n",
    "- 1. Wissenschaftliches und künstlerisches Personal\n",
    "- 2. Verwaltungs-, technisches und sonstiges Personal\n",
    "\n",
    "Beide Personalgruppen haben Sie zwischen den Jahren 2010 und 2020 kontinuierlich erhöht.\n",
    "Der Personalstand des wissenschaftlichen und künstlerischen Personals hat sich um 90.465 Mitarbeitende auf 414.832 erhöht. Der Anteil dieser Gruppe am gesamten Personalbestand hat sich ebenfalls von 53,91% auf 54,65% gesteigert.\n",
    "Der Personalstand des Verwaltungs-, technischen und sonstigen Personal hat sich um 66.918 Mitarbeitende auf 344.233 erhöht. Der Anteil dieser Gruppe am gesamten Personalbestand hat sich jedoch von 46,09% auf 45,35% verringert.\n",
    "`````"
   ]
  },
  {
   "cell_type": "markdown",
   "id": "d87ee551",
   "metadata": {},
   "source": [
    "````{admonition} Zur Kontrolle finden Sie hier den vollständigen Code der Übung: \n",
    ":class: hinweis, dropdown\n",
    "```\n",
    "#Benötigtes Package zum Start der Session laden, damit alle hier verwendeteten Befehle verfügbar sind\n",
    "library(tidyverse) \n",
    "\n",
    "#Daten einlesen\n",
    "data_csv_clean <- read.csv2(\"21341-0001_F_2010-2020.csv\", header = FALSE, encoding = \"latin1\")\n",
    "\n",
    "#Datenkategorie setzten\n",
    "Metadaten <- data_csv_clean[c(1:6, 87:88), 1]\n",
    "Tabellendaten <- data_csv_clean[8:85, 1:13] #manuelles anpassen der zusätzlichen Spalten (Jahre 2010 bis 2019) nötig\n",
    "\n",
    "#Zeilen neu beschriften\n",
    "row.names(Tabellendaten) <- 1:78\n",
    "\n",
    "#Objekt definieren, welches in aufsteigender Reihenfolge die Beschriftungen \"Angestelltenverältns_2010\" bis \"Angestelltenverältns_2020\" enthält.\n",
    "alle_Jahre <- paste(\"Angestelltenzahl_\",sep=\"\", 2010:2020)\n",
    "\n",
    "#Variablenbezeichnung setzen\n",
    "colnames(Tabellendaten) <- c(\"Angestelltenverhaeltnis\", \"Geschlecht\", alle_Jahre)\n",
    "\n",
    "#Tabelle anzeigen lassen \n",
    "head(Tabellendaten)\n",
    "\n",
    "#Leerzeichen entfernen\n",
    "Tabellendaten$Angestelltenverhaeltnis <- trimws(Tabellendaten$Angestelltenverhaeltnis)\n",
    "\n",
    "#Tabelle filtern\n",
    "Daten_basis <- filter(Tabellendaten, Angestelltenverhaeltnis == \"Wissenschaftliches und künstlerisches Personal\"\n",
    "                      & Geschlecht ==\"Insgesamt\" | Angestelltenverhaeltnis == \"Verwaltungs-, technisches und sonstiges Personal\"\n",
    "                      & Geschlecht ==\"Insgesamt\")\n",
    "#Ergbnis sichten                 \n",
    "show(Daten_basis)\n",
    "\n",
    "#Klassen anzeigen um Daten auszuwerten\n",
    "str(Daten_basis)\n",
    "\n",
    "#Variablenklassen un integer ändern\n",
    "Daten_basis$Angestelltenzahl_2010 <- as.integer(Daten_basis$Angestelltenzahl_2010)\n",
    "Daten_basis$Angestelltenzahl_2020 <- as.integer(Daten_basis$Angestelltenzahl_2020)\n",
    "\n",
    "#Absolute Veränderung:\n",
    "Daten_basis$Angestelltenzahl_2020 - Daten_basis$Angestelltenzahl_2010\n",
    "\n",
    "#Prozentuale veränderung:\n",
    "(Daten_basis$Angestelltenzahl_2020 - Daten_basis$Angestelltenzahl_2010) / Daten_basis$Angestelltenzahl_2010 * 100\n",
    "\n",
    "#Prozentuale Zusammensetzung 2010\n",
    "Daten_basis$Angestelltenzahl_2010 / sum(Daten_basis$Angestelltenzahl_2010) * 100\n",
    "\n",
    "#Prozentuale Zusammensetzung 2020 \n",
    "Daten_basis$Angestelltenzahl_2020 / sum(Daten_basis$Angestelltenzahl_2020) * 100\n",
    "\n",
    "#Tabelle transponieren\n",
    "Daten_basis_transponiert <- as.data.frame(t(Daten_basis))\n",
    "\n",
    "#Ergbenis anzeigen lassen\n",
    "show(Daten_basis_transponiert)\n",
    "\n",
    "#Zahlenwerte in Datenframe überführen\n",
    "plot_daten <- data_frame(Jahre=2010:2020, Wissenschaft=Daten_basis_transponiert[3:13,1], Verwaltung=Daten_basis_transponiert[3:13,2])\n",
    "\n",
    "#Variablenklasse wechseln\n",
    "plot_daten$Wissenschaft <- as.integer(plot_daten$Wissenschaft)\n",
    "plot_daten$Verwaltung <- as.integer(plot_daten$Verwaltung)\n",
    "\n",
    "#Visualisierung der Daten mittels ggplot\n",
    "ggplot(plot_daten, aes(x = Jahre))+ #Setzen der Datenbasis und X-Achse\n",
    "  geom_line(aes(y=Wissenschaft, color = \"red\"))+ #Linie für Varaible \"Wissenschaft\"\" erzeugen\n",
    "  geom_point(aes(y=Wissenschaft), size = 3, color = \"red\")+ #Punkte zur Linie hinzufügen\n",
    "  geom_line(aes(y=Verwaltung, color = \"blue\"))+ #Linie für Varaible \"Verwaltung\"\" erzeugen\n",
    "  geom_point(aes(y=Verwaltung), size = 3, color = \"blue\")+ #Punkte zur Linie hinzufügen\n",
    "  scale_x_continuous(breaks = 2010:2020)+ #Abschnitte für X-Achse definieren\n",
    "  theme_bw(base_size = 15)+ #Layout bzw. Theme setzen\n",
    "  scale_y_continuous(\"Personalbestand\", limits=c(0,500000),labels = scales::comma)+ #Y-Achse beschriften und Wertebereich setzen.\n",
    "  ggtitle(\"Zusammensetzung des Personals an Hochschulen in Deutschland im letzten Jahrzehnt (2010-2020)\")+ #Diagrammtitel setzen\n",
    "  scale_color_identity(name = \"Personalkategorie\",\n",
    "                       breaks = c(\"red\", \"blue\"),\n",
    "                       labels = c(\"Wissenschaftliches und künstlerisches Personal\", \"Verwaltungs-, technisches und sonstiges Personal\"),\n",
    "                       guide = \"legend\"\n",
    "  ) #Legende setzen\n",
    "```\n",
    "````"
   ]
  },
  {
   "cell_type": "markdown",
   "id": "caec902f",
   "metadata": {},
   "source": []
  }
 ],
 "metadata": {
  "kernelspec": {
   "display_name": "R",
   "language": "R",
   "name": "ir"
  },
  "language_info": {
   "codemirror_mode": "r",
   "file_extension": ".r",
   "mimetype": "text/x-r-source",
   "name": "R",
   "pygments_lexer": "r",
   "version": "4.5.0"
  }
 },
 "nbformat": 4,
 "nbformat_minor": 5
}
