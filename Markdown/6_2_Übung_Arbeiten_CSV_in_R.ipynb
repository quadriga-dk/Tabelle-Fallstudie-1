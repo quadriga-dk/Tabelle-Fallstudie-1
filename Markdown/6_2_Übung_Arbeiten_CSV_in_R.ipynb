{
 "cells": [
  {
   "cell_type": "markdown",
   "id": "fbbee335",
   "metadata": {},
   "source": [
    "(Übung_csv)=\n",
    "# Übung: Arbeiten mit CSV-Dateien in R\n",
    "\n",
    "\n",
    "Die folgende Lerneinheit soll Ihnen den Ersteinstieg in die Programmiersprache **R** erleichtern. Um der Übungseinheit effektiv folgen zu können, installieren Sie bitte **R** und **RStudio**. Hinweise zur Installation finden Sie im Abschnitt [Technische Voraussetzungen](/Markdown/1_2_technische_voraussetzungen.md).  \n",
    "Als Fallbeispiel wird eine CSV-Datei mit Rohdaten zum *Personalstand an Hochschulen* eingelesen und ausgewertet. Entweder haben Sie diese Datei schon in Abschnitt 4.2 [XLSX und CSV](/Markdown/4_2_XLSXundCSV.md) heruntergeladen oder Sie klicken [hier](Data/21341-0001_F_2020.csv) um die CSV-Datei aus unserem Repositorium direkt herunterzuladen (Quelle: Statistisches Bundesamt 2022).  \n",
    "\n",
    "------------------------------------------------------------------------\n",
    "\n",
    "## Einleitung\n",
    "```{admonition} Wichtig\n",
    ":class: keypoint\n",
    "Für Computersprachen gilt allgemein: Es gibt nie nur einen Weg zum Ziel. Unterschiedliche Befehle können Sie zum gleichen Ziel bringen. Dieses gilt auch für die folgenden angeführten Befehle.\n",
    "```\n",
    "\n",
    "Damit Sie die in diesem Skript angeführten Befehle verwenden können, müssen Sie das folgende Package installieren und laden. Hierzu stellen Sie zuerst sicher, dass `tidyverse` installiert ist bzw. installieren das Package:"
   ]
  },
  {
   "cell_type": "code",
   "execution_count": null,
   "id": "635e88af",
   "metadata": {},
   "outputs": [
    {
     "name": "stderr",
     "output_type": "stream",
     "text": [
      "Installiere Paket nach ‘/opt/homebrew/lib/R/4.5/site-library’\n",
      "(da ‘lib’ nicht spezifiziert)\n",
      "\n"
     ]
    }
   ],
   "source": [
    "install.packages(\"tidyverse\")"
   ]
  },
  {
   "cell_type": "markdown",
   "id": "cce11079",
   "metadata": {},
   "source": [
    "Dann laden Sie das Package:"
   ]
  },
  {
   "cell_type": "code",
   "execution_count": null,
   "id": "2286cc3e",
   "metadata": {},
   "outputs": [
    {
     "name": "stderr",
     "output_type": "stream",
     "text": [
      "── \u001b[1mAttaching core tidyverse packages\u001b[22m ──────────────────────── tidyverse 2.0.0 ──\n",
      "\u001b[32m✔\u001b[39m \u001b[34mdplyr    \u001b[39m 1.1.4     \u001b[32m✔\u001b[39m \u001b[34mreadr    \u001b[39m 2.1.5\n",
      "\u001b[32m✔\u001b[39m \u001b[34mforcats  \u001b[39m 1.0.0     \u001b[32m✔\u001b[39m \u001b[34mstringr  \u001b[39m 1.5.1\n",
      "\u001b[32m✔\u001b[39m \u001b[34mggplot2  \u001b[39m 3.5.2     \u001b[32m✔\u001b[39m \u001b[34mtibble   \u001b[39m 3.2.1\n",
      "\u001b[32m✔\u001b[39m \u001b[34mlubridate\u001b[39m 1.9.4     \u001b[32m✔\u001b[39m \u001b[34mtidyr    \u001b[39m 1.3.1\n",
      "\u001b[32m✔\u001b[39m \u001b[34mpurrr    \u001b[39m 1.0.4     \n",
      "── \u001b[1mConflicts\u001b[22m ────────────────────────────────────────── tidyverse_conflicts() ──\n",
      "\u001b[31m✖\u001b[39m \u001b[34mdplyr\u001b[39m::\u001b[32mfilter()\u001b[39m masks \u001b[34mstats\u001b[39m::filter()\n",
      "\u001b[31m✖\u001b[39m \u001b[34mdplyr\u001b[39m::\u001b[32mlag()\u001b[39m    masks \u001b[34mstats\u001b[39m::lag()\n",
      "\u001b[36mℹ\u001b[39m Use the conflicted package (\u001b[3m\u001b[34m<http://conflicted.r-lib.org/>\u001b[39m\u001b[23m) to force all conflicts to become errors\n"
     ]
    }
   ],
   "source": [
    "library(tidyverse)"
   ]
  },
  {
   "cell_type": "markdown",
   "id": "7b45c444",
   "metadata": {},
   "source": [
    "(Einlesen_csv)=\n",
    "## Einlesen von CSV Dateien\n",
    "\n",
    "Hierfür gibt es zwei Befehle: `read.csv()` oder `read.csv2()`  \n",
    "\n",
    "- `read.csv()` wird verwendet, wenn die Werte in der CSV Datei durch Kommata separiert werden.\n",
    "- `read.csv2()` wird verwendet, wenn die Werte in der CSV Datei durch Semikola separiert werden.\n",
    "\n"
   ]
  },
  {
   "cell_type": "markdown",
   "id": "d184aa72",
   "metadata": {},
   "source": [
    "**Fallbeispiel:**"
   ]
  },
  {
   "cell_type": "code",
   "execution_count": null,
   "id": "9142f10d",
   "metadata": {},
   "outputs": [],
   "source": [
    "#Daten einlesen\n",
    "data_csv <- read.csv2(\"Data/21341-0001_F_2020.csv\", header = FALSE)"
   ]
  },
  {
   "cell_type": "markdown",
   "id": "abbd0529",
   "metadata": {},
   "source": [
    "**Erklärung des Codes:**\n",
    "\n",
    "- `#Daten einlesen`: Durch das setzen eines `#` wird der folgende Inhalt in der Zeile nicht als Code interpretiert und somit auch nicht ausgeführt. Wenn Sie Textbausteine, Kommentare, Überschriften etc. in Ihrem **R-Skript** integrieren möchten, was für eine bessere Nachvollziehbarkeit Ihres Skriptes zu empfehlen ist, benutzen Sie immer das `#`-Symbol, um dies kenntlich zu machen. Ansonsten wird **R** einen Error ausgeben.\n",
    "- `read.csv2()`: Die verwendete Datei ist durch Semikola separiert. Deswegen wird hier `read.csv2()` verwendet.\n",
    "  \n",
    "  *Woraus ist dies ersichtlich? Durch Öffnen der Datei in der Console Ihres Rechners können Sie die verwendeten Trennzeichen erkennen.*\n",
    "- `\"Data/21341-0001_F_2020.csv\"`: Hier steht der relative Pfad zur CSV-Datei, die geladen werden soll.\n",
    "  \n",
    "  *Bei Verwendung von RStudio: Sie sollten unter **Files** den Ordner aufrufen, in dem Ihre Dateien gespeichert sind. Nach dem Klicken auf die gewünschte Datei, können Sie die Option **Import Dataset…** nutzen.*\n",
    "- `header = FALSE`: Die CSV Datei hat keine Überschriften, daher muss hier der Zusatz hinzugefügt werden.\n",
    "\n",
    "- `data_csv <-`: Damit Sie einen Befehl nicht immer wieder ausführen müssen, können Sie dem Befehl mittels eines Pfeils `<-` einem Namen zuordnen.\n",
    "  \n",
    "  *Hier: “data\\_csv”. Nun können Sie in dem folgenden Skript nur noch den gesetzten Namen verwenden.*\n"
   ]
  },
  {
   "cell_type": "markdown",
   "id": "9d74c849",
   "metadata": {},
   "source": [
    "```{admonition} Tipp\n",
    ":class: hinweis\n",
    "Wenn Sie die Bedeutung und Syntax eines Befehls besser verstehen wollen, empfielt es sich, diesen Befehl im Handbuch nachzuschlagen. Hierzu setzen Sie ein `?` vor den Befehl Ihres Interesses.\n",
    "```\n"
   ]
  },
  {
   "cell_type": "markdown",
   "id": "6a0a9c55",
   "metadata": {},
   "source": [
    "*Beispiel:* "
   ]
  },
  {
   "cell_type": "code",
   "execution_count": null,
   "id": "bb5717b5",
   "metadata": {},
   "outputs": [
    {
     "name": "stdout",
     "output_type": "stream",
     "text": [
      "read.table                package:utils                R Documentation\n",
      "\n",
      "_\bD_\ba_\bt_\ba _\bI_\bn_\bp_\bu_\bt\n",
      "\n",
      "_\bD_\be_\bs_\bc_\br_\bi_\bp_\bt_\bi_\bo_\bn:\n",
      "\n",
      "     Reads a file in table format and creates a data frame from it,\n",
      "     with cases corresponding to lines and variables to fields in the\n",
      "     file.\n",
      "\n",
      "_\bU_\bs_\ba_\bg_\be:\n",
      "\n",
      "     read.table(file, header = FALSE, sep = \"\", quote = \"\\\"'\",\n",
      "                dec = \".\", numerals = c(\"allow.loss\", \"warn.loss\", \"no.loss\"),\n",
      "                row.names, col.names, as.is = !stringsAsFactors, tryLogical = TRUE,\n",
      "                na.strings = \"NA\", colClasses = NA, nrows = -1,\n",
      "                skip = 0, check.names = TRUE, fill = !blank.lines.skip,\n",
      "                strip.white = FALSE, blank.lines.skip = TRUE,\n",
      "                comment.char = \"#\",\n",
      "                allowEscapes = FALSE, flush = FALSE,\n",
      "                stringsAsFactors = FALSE,\n",
      "                fileEncoding = \"\", encoding = \"unknown\", text, skipNul = FALSE)\n",
      "     \n",
      "     read.csv(file, header = TRUE, sep = \",\", quote = \"\\\"\",\n",
      "              dec = \".\", fill = TRUE, comment.char = \"\", ...)\n",
      "     \n",
      "     read.csv2(file, header = TRUE, sep = \";\", quote = \"\\\"\",\n",
      "               dec = \",\", fill = TRUE, comment.char = \"\", ...)\n",
      "     \n",
      "     read.delim(file, header = TRUE, sep = \"\\t\", quote = \"\\\"\",\n",
      "                dec = \".\", fill = TRUE, comment.char = \"\", ...)\n",
      "     \n",
      "     read.delim2(file, header = TRUE, sep = \"\\t\", quote = \"\\\"\",\n",
      "                 dec = \",\", fill = TRUE, comment.char = \"\", ...)\n",
      "     \n",
      "_\bA_\br_\bg_\bu_\bm_\be_\bn_\bt_\bs:\n",
      "\n",
      "    file: the name of the file which the data are to be read from.\n",
      "          Each row of the table appears as one line of the file.  If it\n",
      "          does not contain an _absolute_ path, the file name is\n",
      "          _relative_ to the current working directory, ‘getwd()’.\n",
      "          Tilde-expansion is performed where supported.  This can be a\n",
      "          compressed file (see ‘file’).\n",
      "\n",
      "          Alternatively, ‘file’ can be a readable text-mode connection\n",
      "          (which will be opened for reading if necessary, and if so\n",
      "          ‘close’d (and hence destroyed) at the end of the function\n",
      "          call).  (If ‘stdin()’ is used, the prompts for lines may be\n",
      "          somewhat confusing.  Terminate input with a blank line or an\n",
      "          EOF signal, ‘Ctrl-D’ on Unix and ‘Ctrl-Z’ on Windows.  Any\n",
      "          pushback on ‘stdin()’ will be cleared before return.)\n",
      "\n",
      "          ‘file’ can also be a complete URL.  (For the supported URL\n",
      "          schemes, see the ‘URLs’ section of the help for ‘url’.)\n",
      "\n",
      "  header: a logical value indicating whether the file contains the\n",
      "          names of the variables as its first line.  If missing, the\n",
      "          value is determined from the file format: ‘header’ is set to\n",
      "          ‘TRUE’ if and only if the first row contains one fewer field\n",
      "          than the number of columns.\n",
      "\n",
      "     sep: the field separator character.  Values on each line of the\n",
      "          file are separated by this character.  If ‘sep = \"\"’ (the\n",
      "          default for ‘read.table’) the separator is ‘white space’,\n",
      "          that is one or more spaces, tabs, newlines or carriage\n",
      "          returns.\n",
      "\n",
      "   quote: the set of quoting characters. To disable quoting altogether,\n",
      "          use ‘quote = \"\"’.  See ‘scan’ for the behaviour on quotes\n",
      "          embedded in quotes.  Quoting is only considered for columns\n",
      "          read as character, which is all of them unless ‘colClasses’\n",
      "          is specified.\n",
      "\n",
      "     dec: the character used in the file for decimal points.\n",
      "\n",
      "numerals: string indicating how to convert numbers whose conversion to\n",
      "          double precision would lose accuracy, see ‘type.convert’.\n",
      "          Can be abbreviated.  (Applies also to complex-number inputs.)\n",
      "\n",
      "row.names: a vector of row names.  This can be a vector giving the\n",
      "          actual row names, or a single number giving the column of the\n",
      "          table which contains the row names, or character string\n",
      "          giving the name of the table column containing the row names.\n",
      "\n",
      "          If there is a header and the first row contains one fewer\n",
      "          field than the number of columns, the first column in the\n",
      "          input is used for the row names.  Otherwise if ‘row.names’ is\n",
      "          missing, the rows are numbered.\n",
      "\n",
      "          Using ‘row.names = NULL’ forces row numbering. Missing or\n",
      "          ‘NULL’ ‘row.names’ generate row names that are considered to\n",
      "          be ‘automatic’ (and not preserved by ‘as.matrix’).\n",
      "\n",
      "col.names: a vector of optional names for the variables.  The default\n",
      "          is to use ‘\"V\"’ followed by the column number.\n",
      "\n",
      "   as.is: controls conversion of character variables (insofar as they\n",
      "          are not converted to logical, numeric or complex) to factors,\n",
      "          if not otherwise specified by ‘colClasses’.  Its value is\n",
      "          either a vector of logicals (values are recycled if\n",
      "          necessary), or a vector of numeric or character indices which\n",
      "          specify which columns should not be converted to factors.\n",
      "\n",
      "          Note: to suppress all conversions including those of numeric\n",
      "          columns, set ‘colClasses = \"character\"’.\n",
      "\n",
      "          Note that ‘as.is’ is specified per column (not per variable)\n",
      "          and so includes the column of row names (if any) and any\n",
      "          columns to be skipped.\n",
      "\n",
      "tryLogical: a ‘logical’ determining if columns consisting entirely of\n",
      "          ‘\"F\"’, ‘\"T\"’, ‘\"FALSE\"’, and ‘\"TRUE\"’ should be converted to\n",
      "          ‘logical’; passed to ‘type.convert’, true by default.\n",
      "\n",
      "na.strings: a character vector of strings which are to be interpreted\n",
      "          as ‘NA’ values.  Blank fields are also considered to be\n",
      "          missing values in logical, integer, numeric and complex\n",
      "          fields.  Note that the test happens _after_ white space is\n",
      "          stripped from the input (if enabled), so ‘na.strings’ values\n",
      "          may need their own white space stripped in advance.\n",
      "\n",
      "colClasses: character.  A vector of classes to be assumed for the\n",
      "          columns.  If unnamed, recycled as necessary.  If named, names\n",
      "          are matched with unspecified values being taken to be ‘NA’.\n",
      "\n",
      "          Possible values are ‘NA’ (the default, when ‘type.convert’ is\n",
      "          used), ‘\"NULL\"’ (when the column is skipped), one of the\n",
      "          atomic vector classes (logical, integer, numeric, complex,\n",
      "          character, raw), or ‘\"factor\"’, ‘\"Date\"’ or ‘\"POSIXct\"’.\n",
      "          Otherwise there needs to be an ‘as’ method (from package\n",
      "          ‘methods’) for conversion from ‘\"character\"’ to the specified\n",
      "          formal class.\n",
      "\n",
      "          Note that ‘colClasses’ is specified per column (not per\n",
      "          variable) and so includes the column of row names (if any).\n",
      "\n",
      "   nrows: integer: the maximum number of rows to read in.  Negative and\n",
      "          other invalid values are ignored.\n",
      "\n",
      "    skip: integer: the number of lines of the data file to skip before\n",
      "          beginning to read data.\n",
      "\n",
      "check.names: logical.  If ‘TRUE’ then the names of the variables in the\n",
      "          data frame are checked to ensure that they are syntactically\n",
      "          valid variable names.  If necessary they are adjusted (by\n",
      "          ‘make.names’) so that they are, and also to ensure that there\n",
      "          are no duplicates.\n",
      "\n",
      "    fill: logical. If ‘TRUE’ then in case the rows have unequal length,\n",
      "          blank fields are implicitly added.  See ‘Details’.\n",
      "\n",
      "strip.white: logical. Used only when ‘sep’ has been specified, and\n",
      "          allows the stripping of leading and trailing white space from\n",
      "          unquoted ‘character’ fields (‘numeric’ fields are always\n",
      "          stripped).  See ‘scan’ for further details (including the\n",
      "          exact meaning of ‘white space’), remembering that the columns\n",
      "          may include the row names.\n",
      "\n",
      "blank.lines.skip: logical: if ‘TRUE’ blank lines in the input are\n",
      "          ignored.\n",
      "\n",
      "comment.char: character: a character vector of length one containing a\n",
      "          single character or an empty string.  Use ‘\"\"’ to turn off\n",
      "          the interpretation of comments altogether.\n",
      "\n",
      "allowEscapes: logical.  Should C-style escapes such as ‘\\n’ be\n",
      "          processed or read verbatim (the default)?  Note that if not\n",
      "          within quotes these could be interpreted as a delimiter (but\n",
      "          not as a comment character).  For more details see ‘scan’.\n",
      "\n",
      "   flush: logical: if ‘TRUE’, ‘scan’ will flush to the end of the line\n",
      "          after reading the last of the fields requested.  This allows\n",
      "          putting comments after the last field.\n",
      "\n",
      "stringsAsFactors: logical: should character vectors be converted to\n",
      "          factors?  Note that this is overridden by ‘as.is’ and\n",
      "          ‘colClasses’, both of which allow finer control.\n",
      "\n",
      "fileEncoding: character string: if non-empty declares the encoding used\n",
      "          on a file when given as a character string (not on an\n",
      "          existing connection) so the character data can be re-encoded.\n",
      "          See the ‘Encoding’ section of the help for ‘file’, the ‘R\n",
      "          Data Import/Export’ manual and ‘Note’.\n",
      "\n",
      "encoding: encoding to be assumed for input strings.  It is used to mark\n",
      "          character strings as known to be in Latin-1 or UTF-8 (see\n",
      "          ‘Encoding’): it is not used to re-encode the input, but\n",
      "          allows R to handle encoded strings in their native encoding\n",
      "          (if one of those two).  See ‘Value’ and ‘Note’.\n",
      "\n",
      "    text: character string: if ‘file’ is not supplied and this is, then\n",
      "          data are read from the value of ‘text’ via a text connection.\n",
      "          Notice that a literal string can be used to include (small)\n",
      "          data sets within R code.\n",
      "\n",
      " skipNul: logical: should NULs be skipped?\n",
      "\n",
      "     ...: Further arguments to be passed to ‘read.table’.\n",
      "\n",
      "_\bD_\be_\bt_\ba_\bi_\bl_\bs:\n",
      "\n",
      "     This function is the principal means of reading tabular data into\n",
      "     R.\n",
      "\n",
      "     Unless ‘colClasses’ is specified, all columns are read as\n",
      "     character columns and then converted using ‘type.convert’ to\n",
      "     logical, integer, numeric, complex or (depending on ‘as.is’)\n",
      "     factor as appropriate.  Quotes are (by default) interpreted in all\n",
      "     fields, so a column of values like ‘\"42\"’ will result in an\n",
      "     integer column.\n",
      "\n",
      "     A field or line is ‘blank’ if it contains nothing (except\n",
      "     whitespace if no separator is specified) before a comment\n",
      "     character or the end of the field or line.\n",
      "\n",
      "     If ‘row.names’ is not specified and the header line has one less\n",
      "     entry than the number of columns, the first column is taken to be\n",
      "     the row names.  This allows data frames to be read in from the\n",
      "     format in which they are printed.  If ‘row.names’ is specified and\n",
      "     does not refer to the first column, that column is discarded from\n",
      "     such files.\n",
      "\n",
      "     The number of data columns is determined by looking at the first\n",
      "     five lines of input (or the whole input if it has less than five\n",
      "     lines), or from the length of ‘col.names’ if it is specified and\n",
      "     is longer.  This could conceivably be wrong if ‘fill’ or\n",
      "     ‘blank.lines.skip’ are true, so specify ‘col.names’ if necessary\n",
      "     (as in the ‘Examples’).\n",
      "\n",
      "     ‘read.csv’ and ‘read.csv2’ are identical to ‘read.table’ except\n",
      "     for the defaults.  They are intended for reading ‘comma separated\n",
      "     value’ files (‘.csv’) or (‘read.csv2’) the variant used in\n",
      "     countries that use a comma as decimal point and a semicolon as\n",
      "     field separator.  Similarly, ‘read.delim’ and ‘read.delim2’ are\n",
      "     for reading delimited files, defaulting to the TAB character for\n",
      "     the delimiter.  Notice that ‘header = TRUE’ and ‘fill = TRUE’ in\n",
      "     these variants, and that the comment character is disabled.\n",
      "\n",
      "     The rest of the line after a comment character is skipped; quotes\n",
      "     are not processed in comments.  Complete comment lines are allowed\n",
      "     provided ‘blank.lines.skip = TRUE’; however, comment lines prior\n",
      "     to the header must have the comment character in the first\n",
      "     non-blank column.\n",
      "\n",
      "     Quoted fields with embedded newlines are supported except after a\n",
      "     comment character.  Embedded NULs are unsupported: skipping them\n",
      "     (with ‘skipNul = TRUE’) may work.\n",
      "\n",
      "_\bV_\ba_\bl_\bu_\be:\n",
      "\n",
      "     A data frame (‘data.frame’) containing a representation of the\n",
      "     data in the file.\n",
      "\n",
      "     Empty input is an error unless ‘col.names’ is specified, when a\n",
      "     0-row data frame is returned: similarly giving just a header line\n",
      "     if ‘header = TRUE’ results in a 0-row data frame.  Note that in\n",
      "     either case the columns will be logical unless ‘colClasses’ was\n",
      "     supplied.\n",
      "\n",
      "     Character strings in the result (including factor levels) will\n",
      "     have a declared encoding if ‘encoding’ is ‘\"latin1\"’ or ‘\"UTF-8\"’.\n",
      "\n",
      "_\bC_\bS_\bV _\bf_\bi_\bl_\be_\bs:\n",
      "\n",
      "     See the help on ‘write.csv’ for the various conventions for ‘.csv’\n",
      "     files.  The commonest form of CSV file with row names needs to be\n",
      "     read with ‘read.csv(..., row.names = 1)’ to use the names in the\n",
      "     first column of the file as row names.\n",
      "\n",
      "_\bM_\be_\bm_\bo_\br_\by _\bu_\bs_\ba_\bg_\be:\n",
      "\n",
      "     These functions can use a surprising amount of memory when reading\n",
      "     large files.  There is extensive discussion in the ‘R Data\n",
      "     Import/Export’ manual, supplementing the notes here.\n",
      "\n",
      "     Less memory will be used if ‘colClasses’ is specified as one of\n",
      "     the six atomic vector classes.  This can be particularly so when\n",
      "     reading a column that takes many distinct numeric values, as\n",
      "     storing each distinct value as a character string can take up to\n",
      "     14 times as much memory as storing it as an integer.\n",
      "\n",
      "     Using ‘nrows’, even as a mild over-estimate, will help memory\n",
      "     usage.\n",
      "\n",
      "     Using ‘comment.char = \"\"’ will be appreciably faster than the\n",
      "     ‘read.table’ default.\n",
      "\n",
      "     ‘read.table’ is not the right tool for reading large matrices,\n",
      "     especially those with many columns: it is designed to read _data\n",
      "     frames_ which may have columns of very different classes.  Use\n",
      "     ‘scan’ instead for matrices.\n",
      "\n",
      "_\bN_\bo_\bt_\be:\n",
      "\n",
      "     The columns referred to in ‘as.is’ and ‘colClasses’ include the\n",
      "     column of row names (if any).\n",
      "\n",
      "     There are two approaches for reading input that is not in the\n",
      "     local encoding.  If the input is known to be UTF-8 or Latin1, use\n",
      "     the ‘encoding’ argument to declare that.  If the input is in some\n",
      "     other encoding, then it may be translated on input.  The\n",
      "     ‘fileEncoding’ argument achieves this by setting up a connection\n",
      "     to do the re-encoding into the current locale.  Note that on\n",
      "     Windows or other systems not running in a UTF-8 locale, this may\n",
      "     not be possible.\n",
      "\n",
      "_\bR_\be_\bf_\be_\br_\be_\bn_\bc_\be_\bs:\n",
      "\n",
      "     Chambers, J. M. (1992) _Data for models._ Chapter 3 of\n",
      "     _Statistical Models in S_ eds J. M. Chambers and T. J. Hastie,\n",
      "     Wadsworth & Brooks/Cole.\n",
      "\n",
      "_\bS_\be_\be _\bA_\bl_\bs_\bo:\n",
      "\n",
      "     The ‘R Data Import/Export’ manual.\n",
      "\n",
      "     ‘scan’, ‘type.convert’, ‘read.fwf’ for reading _f_ixed _w_idth\n",
      "     _f_ormatted input; ‘write.table’; ‘data.frame’.\n",
      "\n",
      "     ‘count.fields’ can be useful to determine problems with reading\n",
      "     files which result in reports of incorrect record lengths (see the\n",
      "     ‘Examples’ below).\n",
      "\n",
      "     <https://www.rfc-editor.org/rfc/rfc4180> for the IANA definition\n",
      "     of CSV files (which requires comma as separator and CRLF line\n",
      "     endings).\n",
      "\n",
      "_\bE_\bx_\ba_\bm_\bp_\bl_\be_\bs:\n",
      "\n",
      "     ## using count.fields to handle unknown maximum number of fields\n",
      "     ## when fill = TRUE\n",
      "     test1 <- c(1:5, \"6,7\", \"8,9,10\")\n",
      "     tf <- tempfile()\n",
      "     writeLines(test1, tf)\n",
      "     \n",
      "     read.csv(tf, fill = TRUE) # 1 column\n",
      "     ncol <- max(count.fields(tf, sep = \",\"))\n",
      "     read.csv(tf, fill = TRUE, header = FALSE,\n",
      "              col.names = paste0(\"V\", seq_len(ncol)))\n",
      "     unlink(tf)\n",
      "     \n",
      "     ## \"Inline\" data set, using text=\n",
      "     ## Notice that leading and trailing empty lines are auto-trimmed\n",
      "     \n",
      "     read.table(header = TRUE, text = \"\n",
      "     a b\n",
      "     1 2\n",
      "     3 4\n",
      "     \")\n",
      "     "
     ]
    }
   ],
   "source": [
    "# Funktioniert in R Studio oder im Jupyter Notebook, nicht jedoch in der Web-Ansicht\n",
    "?read.csv2"
   ]
  },
  {
   "cell_type": "markdown",
   "id": "e984a635",
   "metadata": {},
   "source": [
    "## Daten sichten\n",
    "\n",
    "Es ist immer ratsam, einen ersten Blick auf die Daten zu werfen, um deren Struktur zu verstehen. Dazu verwenden Sie folgenden Befehl. (Achtung, die Ausgabe ist recht lang.)"
   ]
  },
  {
   "cell_type": "code",
   "execution_count": null,
   "id": "8c56d7fd",
   "metadata": {},
   "outputs": [
    {
     "name": "stdout",
     "output_type": "stream",
     "text": [
      "                                                                V1          V2\n",
      "1                                      GENESIS-Tabelle: 21341-0001            \n",
      "2                     Personal an Hochschulen: Deutschland, Jahre,            \n",
      "3  Personalgruppen nach Besch\\xe4ftigungsverh\\xe4ltnis, Geschlecht            \n",
      "4                                 Statistik des Hochschulpersonals            \n",
      "5                                                      Deutschland            \n",
      "6                                 Personal an Hochschulen (Anzahl)            \n",
      "7                                                                             \n",
      "8                Wissenschaftliches und k\\xfcnstlerisches Personal m\\xe4nnlich\n",
      "9                Wissenschaftliches und k\\xfcnstlerisches Personal    weiblich\n",
      "10               Wissenschaftliches und k\\xfcnstlerisches Personal   Insgesamt\n",
      "11            Hauptberufl. wissenschaftl. u. k\\xfcnstler. Personal m\\xe4nnlich\n",
      "12            Hauptberufl. wissenschaftl. u. k\\xfcnstler. Personal    weiblich\n",
      "13            Hauptberufl. wissenschaftl. u. k\\xfcnstler. Personal   Insgesamt\n",
      "14                                                     Professoren m\\xe4nnlich\n",
      "15                                                     Professoren    weiblich\n",
      "16                                                     Professoren   Insgesamt\n",
      "17                                        Dozenten und Assistenten m\\xe4nnlich\n",
      "18                                        Dozenten und Assistenten    weiblich\n",
      "19                                        Dozenten und Assistenten   Insgesamt\n",
      "20              Wissenschaftliche und k\\xfcnstlerische Mitarbeiter m\\xe4nnlich\n",
      "21              Wissenschaftliche und k\\xfcnstlerische Mitarbeiter    weiblich\n",
      "22              Wissenschaftliche und k\\xfcnstlerische Mitarbeiter   Insgesamt\n",
      "23                         Lehrkr\\xe4fte f\\xfcr besondere Aufgaben m\\xe4nnlich\n",
      "24                         Lehrkr\\xe4fte f\\xfcr besondere Aufgaben    weiblich\n",
      "25                         Lehrkr\\xe4fte f\\xfcr besondere Aufgaben   Insgesamt\n",
      "26            Nebenberufl. wissenschaftl. u. k\\xfcnstler. Personal m\\xe4nnlich\n",
      "27            Nebenberufl. wissenschaftl. u. k\\xfcnstler. Personal    weiblich\n",
      "28            Nebenberufl. wissenschaftl. u. k\\xfcnstler. Personal   Insgesamt\n",
      "29                                        Gastprofessoren, Emeriti m\\xe4nnlich\n",
      "30                                        Gastprofessoren, Emeriti    weiblich\n",
      "31                                        Gastprofessoren, Emeriti   Insgesamt\n",
      "32                                                 Lehrbeauftragte m\\xe4nnlich\n",
      "33                                                 Lehrbeauftragte    weiblich\n",
      "34                                                 Lehrbeauftragte   Insgesamt\n",
      "35                                Wissenschaftliche Hilfskr\\xe4fte m\\xe4nnlich\n",
      "36                                Wissenschaftliche Hilfskr\\xe4fte    weiblich\n",
      "37                                Wissenschaftliche Hilfskr\\xe4fte   Insgesamt\n",
      "38                Verwaltungs-, technisches und sonstiges Personal m\\xe4nnlich\n",
      "39                Verwaltungs-, technisches und sonstiges Personal    weiblich\n",
      "40                Verwaltungs-, technisches und sonstiges Personal   Insgesamt\n",
      "41              Hauptberufl. Verwaltungs-, techn. u.sonst.Personal m\\xe4nnlich\n",
      "42              Hauptberufl. Verwaltungs-, techn. u.sonst.Personal    weiblich\n",
      "43              Hauptberufl. Verwaltungs-, techn. u.sonst.Personal   Insgesamt\n",
      "44                                             Verwaltungspersonal m\\xe4nnlich\n",
      "45                                             Verwaltungspersonal    weiblich\n",
      "46                                             Verwaltungspersonal   Insgesamt\n",
      "47                                             Bibliothekspersonal m\\xe4nnlich\n",
      "48                                             Bibliothekspersonal    weiblich\n",
      "49                                             Bibliothekspersonal   Insgesamt\n",
      "50                                            Technisches Personal m\\xe4nnlich\n",
      "51                                            Technisches Personal    weiblich\n",
      "52                                            Technisches Personal   Insgesamt\n",
      "53                                              Sonstiges Personal m\\xe4nnlich\n",
      "54                                              Sonstiges Personal    weiblich\n",
      "55                                              Sonstiges Personal   Insgesamt\n",
      "56                                                  Pflegepersonal m\\xe4nnlich\n",
      "57                                                  Pflegepersonal    weiblich\n",
      "58                                                  Pflegepersonal   Insgesamt\n",
      "59                                                        Arbeiter m\\xe4nnlich\n",
      "60                                                        Arbeiter    weiblich\n",
      "61                                                        Arbeiter   Insgesamt\n",
      "62                                                   Auszubildende m\\xe4nnlich\n",
      "63                                                   Auszubildende    weiblich\n",
      "64                                                   Auszubildende   Insgesamt\n",
      "65                                                    Praktikanten m\\xe4nnlich\n",
      "66                                                    Praktikanten    weiblich\n",
      "67                                                    Praktikanten   Insgesamt\n",
      "68                   Sonstiges Personal f\\xfcr Lehre und Forschung m\\xe4nnlich\n",
      "69                   Sonstiges Personal f\\xfcr Lehre und Forschung    weiblich\n",
      "70                   Sonstiges Personal f\\xfcr Lehre und Forschung   Insgesamt\n",
      "71                               Leitungs- und Verwaltungspersonal m\\xe4nnlich\n",
      "72                               Leitungs- und Verwaltungspersonal    weiblich\n",
      "73                               Leitungs- und Verwaltungspersonal   Insgesamt\n",
      "74              Nebenberufl. Verwaltungs-, techn. u.sonst.Personal m\\xe4nnlich\n",
      "75              Nebenberufl. Verwaltungs-, techn. u.sonst.Personal    weiblich\n",
      "76              Nebenberufl. Verwaltungs-, techn. u.sonst.Personal   Insgesamt\n",
      "77                                         Sonstige Hilfskr\\xe4fte m\\xe4nnlich\n",
      "78                                         Sonstige Hilfskr\\xe4fte    weiblich\n",
      "79                                         Sonstige Hilfskr\\xe4fte   Insgesamt\n",
      "80                                      Zeitweilig Besch\\xe4ftigte m\\xe4nnlich\n",
      "81                                      Zeitweilig Besch\\xe4ftigte    weiblich\n",
      "82                                      Zeitweilig Besch\\xe4ftigte   Insgesamt\n",
      "83                                                       Insgesamt m\\xe4nnlich\n",
      "84                                                       Insgesamt    weiblich\n",
      "85                                                       Insgesamt   Insgesamt\n",
      "86                                                      __________            \n",
      "87                   \\xa9 Statistisches Bundesamt (Destatis), 2023            \n",
      "88                                    Stand: 04.04.2024 / 18:30:01            \n",
      "       V3\n",
      "1        \n",
      "2        \n",
      "3        \n",
      "4        \n",
      "5        \n",
      "6        \n",
      "7    2020\n",
      "8  247720\n",
      "9  167112\n",
      "10 414832\n",
      "11 159567\n",
      "12 109708\n",
      "13 269275\n",
      "14  36344\n",
      "15  12949\n",
      "16  49293\n",
      "17   2182\n",
      "18   1546\n",
      "19   3728\n",
      "20 116004\n",
      "21  89383\n",
      "22 205387\n",
      "23   5037\n",
      "24   5830\n",
      "25  10867\n",
      "26  88153\n",
      "27  57404\n",
      "28 145557\n",
      "29   1534\n",
      "30    259\n",
      "31   1793\n",
      "32  64492\n",
      "33  35238\n",
      "34  99730\n",
      "35  22127\n",
      "36  21907\n",
      "37  44034\n",
      "38 100320\n",
      "39 243913\n",
      "40 344233\n",
      "41  98247\n",
      "42 240419\n",
      "43 338666\n",
      "44  25941\n",
      "45  83918\n",
      "46 109859\n",
      "47   2443\n",
      "48   7308\n",
      "49   9751\n",
      "50  33025\n",
      "51  26360\n",
      "52  59385\n",
      "53  14422\n",
      "54  41609\n",
      "55  56031\n",
      "56  15427\n",
      "57  63731\n",
      "58  79158\n",
      "59      -\n",
      "60      -\n",
      "61      -\n",
      "62   6284\n",
      "63  16137\n",
      "64  22421\n",
      "65    705\n",
      "66   1356\n",
      "67   2061\n",
      "68      -\n",
      "69      -\n",
      "70      -\n",
      "71      -\n",
      "72      -\n",
      "73      -\n",
      "74   2073\n",
      "75   3494\n",
      "76   5567\n",
      "77   2073\n",
      "78   3494\n",
      "79   5567\n",
      "80      -\n",
      "81      -\n",
      "82      -\n",
      "83 348040\n",
      "84 411025\n",
      "85 759065\n",
      "86       \n",
      "87       \n",
      "88       \n"
     ]
    }
   ],
   "source": [
    "show(data_csv)"
   ]
  },
  {
   "cell_type": "markdown",
   "id": "64a7067e",
   "metadata": {},
   "source": [
    "### Dateiinhalt interpretieren\n",
    "\n",
    "Die Datei hat drei Spalten (V1, V2, V3):\n",
    "- **V1:** In den Zeilen 1-6 und 87-88 stehen die Metadaten der Datei. Hier finden Sie Infos zum Herausgeber, Inhalt der Daten, etc.. In den Zeilen 8-85 befinden sich Bezeichnung zum Angestelltenverhältnis des Hochschulpersonals (Dozent, Gastprofessoren, etc.).\n",
    "- **V2:** Diese Spalte unterteilt die Beschäftigten nach Geschlecht (männlich, weiblich & Insgesamt).\n",
    "- **V3:** In den Zeilen 8-85 sind die jeweiligen absoluten Personalzahlen enthalten. In der Zeile 7 ist die Spaltenüberschrift “2020” gegeben. Diese bezieht sich auf das Erhebungsjahr der Daten.\n"
   ]
  },
  {
   "cell_type": "markdown",
   "id": "3460e8cc",
   "metadata": {},
   "source": [
    "### Anmerkungen zu der Ausgangsdatei\n",
    "\n",
    "Es fallen hier direkt mehrere Punkte auf, welche die CSV-Datei\n",
    "schlechter maschinenlesbar machen:  \n",
    "\n",
    "1. Der Titel des Datensatzes ist nicht prägnant und verständlich.\n",
    "\n",
    "2. Metadaten (übergeordnete Informationen über die vorliegenden Daten) sollten nicht in der Tabelle selbst auftauchen sondern separiert in dem dafür vorgesehenen Metadatenbereich abgespeichert werden. Die CSV-Datei sollte neben der Kopfzeile und der Inhaltsdaten keine weiteren Informationen enthalten.\n",
    "\n",
    "3. Spalten sollten immer Überschriften haben. Dies fehlt hier für **V1** und **V2**.\n",
    "\n",
    "4. Auf Umlaute und Sonderzeichen ist zu verzichten. Dies führt zu einer fehlerhaften Anzeige. In **V1 Zeile 87** wird das Sonderzeichen “Copyright” nicht logisch erkannt und als “\\xa9” angezeigt. In den Spalten **V1** und **V2** werden Wörter mit Umlauten wie *“männlich”, “für”, “Lehrkräfte”* etc. alle fehlerhaft angezeigt. Um größtmögliche Kompatibilität zu anderen Programmen zu gewährleisten, sollten Dateien immer der <a href=\"https://de.wikipedia.org/wiki/UTF-8\" target=\"_blank\">UTF-8-Zeichenkodierung</a> folgen. Andernfalls können Probleme bei der maschinellen Verarbeitung entstehen, wie Sie in der Tabelle erkennen können.\n",
    "\n",
    "Wenn Sie mehr zum Thema “hochwertiger Datenaufbau” wissen möchten, werfen Sie gerne nochmal einen Blick in den Abschnitt  [Datenstruktur](/Markdown/6_1_Datenstruktur.md) oder auch den <a href=\"https://nqdm-projekt.de/de/downloads/leitfaden\" target=\"_blank\">NQDM-Leitfaden</a>."
   ]
  },
  {
   "cell_type": "markdown",
   "id": "fb2761b5",
   "metadata": {},
   "source": [
    "## Daten aufbereiten \n",
    "\n",
    "Im folgenden Abschnitt werden die zuletzt erwähnten Qualitätsmängel der\n",
    "Datendarstellung behoben und die Daten zur Auswertung vorbereitet.\n",
    "\n",
    "**Problem der Zeichenkodierung**  \n",
    "Im Default interpretiert **R** Dokumente als UTF-8 (Unicode) kodiert.\n",
    "Dies ist die Ausgangseinstellung und **R-Skripte** werden mit dieser\n",
    "Zeichenkodierung ebenfalls abgespeichert, solange Sie dies nicht manuell\n",
    "ändern. Beim Laden von nicht UTF-8 kodierten Dateien kann es jedoch zu\n",
    "Anzeigeproblemen kommen, wie in der Tabelle feststellbar. Siehe\n",
    "beispielsweise Zelle V2 Zeile 8:  \n",
    "```\n",
    "## [1] \"m\\xe4nnlich\"\n",
    "```\n",
    "Solch eine Anzeige spricht dafür, dass ein ISO 8859-1 (“Latin-1”)\n",
    "kodiertes Dokument inklusive Umlauten als UTF-8 interpretiert wird.\n",
    "Damit Ihre Datei kompatibel und gut maschinell lesbar für andere\n",
    "Programme bleibt, sollten Sie stets eine UFT-8 Kodierung beibehalten.\n",
    "Eine bessere Anzeige können Sie trotzdem mit folgenden Schritten\n",
    "erreichen.\n",
    "\n",
    "\n",
    "```{admonition} Hinweis\n",
    ":class: hinweis\n",
    "Je nach Einstellung von RStudio kommt dieses Problem ggf. nicht auf und Umlaute werden korrekt angezeigt.\n",
    "```\n",
    "\n",
    "**Lösungsansätze bei falscher Anzeige**  \n",
    "Sie können die Datei als ISO 8859-1 (“Latin-1”) kodiert laden. Hierzu\n",
    "müssen Sie zum bekannten Einlesebefehl nur den Zusatz\n",
    "`encoding = \"latin1\"` hinzufügen, damit **R** weiß, welche\n",
    "Zeichenkodierung im Dokument verwendet wurde. Die neu eingelesene Datei bezeichnen wir als `data_csv_clean`:"
   ]
  },
  {
   "cell_type": "code",
   "execution_count": null,
   "id": "eb692ffe",
   "metadata": {},
   "outputs": [],
   "source": [
    "data_csv_clean <- read.csv2(\"Data/21341-0001_F_2020.csv\", header = FALSE, encoding = \"latin1\")"
   ]
  },
  {
   "cell_type": "markdown",
   "id": "5be0917a",
   "metadata": {},
   "source": [
    "Wenn Sie schnell überprüfen möchten, ob die Umlaute nun korrekt angezeigt werden, können Sie den Befehl `head()` benutzen. Hierdurch werden nur die ersten Zeilen Ihrer Tabelle angezeigt."
   ]
  },
  {
   "cell_type": "code",
   "execution_count": null,
   "id": "0ca600dc",
   "metadata": {},
   "outputs": [
    {
     "data": {
      "text/html": [
       "<table class=\"dataframe\">\n",
       "<caption>A data.frame: 6 × 3</caption>\n",
       "<thead>\n",
       "\t<tr><th></th><th scope=col>V1</th><th scope=col>V2</th><th scope=col>V3</th></tr>\n",
       "\t<tr><th></th><th scope=col>&lt;chr&gt;</th><th scope=col>&lt;chr&gt;</th><th scope=col>&lt;chr&gt;</th></tr>\n",
       "</thead>\n",
       "<tbody>\n",
       "\t<tr><th scope=row>1</th><td>GENESIS-Tabelle: 21341-0001                              </td><td></td><td></td></tr>\n",
       "\t<tr><th scope=row>2</th><td>Personal an Hochschulen: Deutschland, Jahre,             </td><td></td><td></td></tr>\n",
       "\t<tr><th scope=row>3</th><td>Personalgruppen nach Beschäftigungsverhältnis, Geschlecht</td><td></td><td></td></tr>\n",
       "\t<tr><th scope=row>4</th><td>Statistik des Hochschulpersonals                         </td><td></td><td></td></tr>\n",
       "\t<tr><th scope=row>5</th><td>Deutschland                                              </td><td></td><td></td></tr>\n",
       "\t<tr><th scope=row>6</th><td>Personal an Hochschulen (Anzahl)                         </td><td></td><td></td></tr>\n",
       "</tbody>\n",
       "</table>\n"
      ],
      "text/latex": [
       "A data.frame: 6 × 3\n",
       "\\begin{tabular}{r|lll}\n",
       "  & V1 & V2 & V3\\\\\n",
       "  & <chr> & <chr> & <chr>\\\\\n",
       "\\hline\n",
       "\t1 & GENESIS-Tabelle: 21341-0001                               &  & \\\\\n",
       "\t2 & Personal an Hochschulen: Deutschland, Jahre,              &  & \\\\\n",
       "\t3 & Personalgruppen nach Beschäftigungsverhältnis, Geschlecht &  & \\\\\n",
       "\t4 & Statistik des Hochschulpersonals                          &  & \\\\\n",
       "\t5 & Deutschland                                               &  & \\\\\n",
       "\t6 & Personal an Hochschulen (Anzahl)                          &  & \\\\\n",
       "\\end{tabular}\n"
      ],
      "text/markdown": [
       "\n",
       "A data.frame: 6 × 3\n",
       "\n",
       "| <!--/--> | V1 &lt;chr&gt; | V2 &lt;chr&gt; | V3 &lt;chr&gt; |\n",
       "|---|---|---|---|\n",
       "| 1 | GENESIS-Tabelle: 21341-0001                               | <!----> | <!----> |\n",
       "| 2 | Personal an Hochschulen: Deutschland, Jahre,              | <!----> | <!----> |\n",
       "| 3 | Personalgruppen nach Beschäftigungsverhältnis, Geschlecht | <!----> | <!----> |\n",
       "| 4 | Statistik des Hochschulpersonals                          | <!----> | <!----> |\n",
       "| 5 | Deutschland                                               | <!----> | <!----> |\n",
       "| 6 | Personal an Hochschulen (Anzahl)                          | <!----> | <!----> |\n",
       "\n"
      ],
      "text/plain": [
       "  V1                                                        V2 V3\n",
       "1 GENESIS-Tabelle: 21341-0001                                    \n",
       "2 Personal an Hochschulen: Deutschland, Jahre,                   \n",
       "3 Personalgruppen nach Beschäftigungsverhältnis, Geschlecht      \n",
       "4 Statistik des Hochschulpersonals                               \n",
       "5 Deutschland                                                    \n",
       "6 Personal an Hochschulen (Anzahl)                               "
      ]
     },
     "metadata": {},
     "output_type": "display_data"
    }
   ],
   "source": [
    "head(data_csv_clean)"
   ]
  },
  {
   "cell_type": "markdown",
   "id": "09188ab0",
   "metadata": {},
   "source": [
    "An dem Wort “Beschäftigungsverältnis” in Zeile 3 sehen Sie, dass die CSV-Datei nun korrekt gelesen wird. Wie bereits erwähnt sollte Sie auf Umlaute jedoch in Gänze verzichten."
   ]
  },
  {
   "cell_type": "markdown",
   "id": "024055f8",
   "metadata": {},
   "source": [
    "*Alternative:*  \n",
    "Um Probleme mit der Zeichenkodierung zu vermeiden, speichern Sie am\n",
    "besten schon im Vorhinein Ihre Datei mit UTF-8 Kodierung ab. Dies können\n",
    "Sie meist direkt unter den `Speichern unter...` Dateiformaten auswählen:\n",
    "\n",
    "```{figure} _images/UTF8_Zeichenkodierung.png\n",
    "---\n",
    "name: utf8-speichern\n",
    "alt: Ein Screenshot, der das Abspeichern als UTF-8 Code zeigt.\n",
    "---\n",
    "Abspeichern mit UTF-8 Zeichenkodierung.\n",
    "```"
   ]
  },
  {
   "cell_type": "markdown",
   "id": "4921c41e",
   "metadata": {},
   "source": [
    "### Umlaute entfernen \n",
    "\n",
    "Mittels des Befehls `str_replace_all` können Sie einzelne Buchstaben in\n",
    "Ihrer Tabelle ersetzen. Dies ist jedoch nur separat für einzelne Spalten\n",
    "möglich."
   ]
  },
  {
   "cell_type": "code",
   "execution_count": null,
   "id": "9d76bcfc",
   "metadata": {},
   "outputs": [],
   "source": [
    "data_csv_clean$V1 <- str_replace_all(data_csv_clean$V1, c(\"ä\" = \"ae\", \"ö\" = \"oe\", \"ü\" =\"ue\", \"ß\" =\"ss\"))\n",
    "data_csv_clean$V2 <- str_replace_all(data_csv_clean$V2, c(\"ä\" = \"ae\", \"ö\" = \"oe\", \"ü\" =\"ue\", \"ß\" =\"ss\"))"
   ]
  },
  {
   "cell_type": "markdown",
   "id": "f553bdd5",
   "metadata": {},
   "source": [
    "**Erklärung des Codes:**  \n",
    "\n",
    "-   `data_csv_utf8$V1`:  \n",
    "    Durch das Anhängen eines `$`- Zeichens an den Namen der Tabelle\n",
    "    signalisieren Sie **R**, dass Sie sich nur auf einen bestimmte\n",
    "    Variable - hier die Spalte **V1** - beziehen möchten.  \n",
    "\n",
    "-   `str_replace_all`:  \n",
    "    Suchen und ersetzen von einzelnen Zeichen(-ketten) in ihrer\n",
    "    Tabelle.  \n",
    "\n",
    "-   `c(\"ä\" = \"ae\", \"ö\" = \"oe\",...)`:  \n",
    "    Der Befehl `c` erstellt einen Vektor. Ein Vektor kombiniert von\n",
    "    Ihnen festgelegte Zahlen- oder Zeichenketten (letzteres wird auch\n",
    "    **“String”** genannt. Beispiele für \"Strings\" sind “Apfel”, “Birne” oder\n",
    "    “Kiwi”).  \n",
    "    Im hier verwendeten Zusammenhang mit `str_replace_all()` wird **R**\n",
    "    befohlen, alle “ä” durch “ae” zu ersetzen und alle “ö” durch “oe”\n",
    "    usw."
   ]
  },
  {
   "cell_type": "markdown",
   "id": "5ce48a3e",
   "metadata": {},
   "source": [
    "**Ergebnis ansehen**:  \n",
    "Über die `show()`-Funktion könnten Sie jetzt die Tabelle erneut sichten\n",
    "und überprüfen, ob die Zeichenumkodierung funktioniert hat. Wenn Ihre\n",
    "Tabelle jedoch sehr lang ist (so wie in diesem Fall) und Sie nur einen\n",
    "Teil Ihrer Tabelle betrachten möchten, können Sie sich auch nur\n",
    "bestimmte Bereiche anzeigen lassen. Hierfür setzen Sie hinter den\n",
    "Dateinamen eckige Klammern und bestimmen den\n",
    "Wertebereich:`[*Zeilenbereich*,*Spaltenbereich*]`.  "
   ]
  },
  {
   "cell_type": "markdown",
   "id": "4e94679b",
   "metadata": {},
   "source": [
    "```{admonition} Hinweis\n",
    ":class: hinweis\n",
    "Wenn Sie einen Wertebereich angeben wollen, platzieren Sie\n",
    "zwischen den ersten und letzten Wert einen Doppelpunkt`:` und **R**\n",
    "inkludiert alle dazwischenliegenden Werte (“von… bis…”). Ein Komma\n",
    "separiert Bereiche.\n",
    "```\n",
    "**Allgemeines Beispiel:**"
   ]
  },
  {
   "cell_type": "code",
   "execution_count": null,
   "id": "0d917166",
   "metadata": {},
   "outputs": [
    {
     "data": {
      "text/html": [
       "<style>\n",
       ".list-inline {list-style: none; margin:0; padding: 0}\n",
       ".list-inline>li {display: inline-block}\n",
       ".list-inline>li:not(:last-child)::after {content: \"\\00b7\"; padding: 0 .5ex}\n",
       "</style>\n",
       "<ol class=list-inline><li>1</li><li>2</li><li>3</li><li>4</li><li>5</li></ol>\n"
      ],
      "text/latex": [
       "\\begin{enumerate*}\n",
       "\\item 1\n",
       "\\item 2\n",
       "\\item 3\n",
       "\\item 4\n",
       "\\item 5\n",
       "\\end{enumerate*}\n"
      ],
      "text/markdown": [
       "1. 1\n",
       "2. 2\n",
       "3. 3\n",
       "4. 4\n",
       "5. 5\n",
       "\n",
       "\n"
      ],
      "text/plain": [
       "[1] 1 2 3 4 5"
      ]
     },
     "metadata": {},
     "output_type": "display_data"
    }
   ],
   "source": [
    "1:5"
   ]
  },
  {
   "cell_type": "markdown",
   "id": "e0fc6c2e",
   "metadata": {},
   "source": [
    "Ein Vektor mit Wertebereichen:"
   ]
  },
  {
   "cell_type": "code",
   "execution_count": null,
   "id": "17a17f0e",
   "metadata": {},
   "outputs": [
    {
     "data": {
      "text/html": [
       "<style>\n",
       ".list-inline {list-style: none; margin:0; padding: 0}\n",
       ".list-inline>li {display: inline-block}\n",
       ".list-inline>li:not(:last-child)::after {content: \"\\00b7\"; padding: 0 .5ex}\n",
       "</style>\n",
       "<ol class=list-inline><li>1</li><li>2</li><li>3</li><li>4</li><li>5</li><li>11</li><li>12</li><li>13</li><li>14</li><li>15</li></ol>\n"
      ],
      "text/latex": [
       "\\begin{enumerate*}\n",
       "\\item 1\n",
       "\\item 2\n",
       "\\item 3\n",
       "\\item 4\n",
       "\\item 5\n",
       "\\item 11\n",
       "\\item 12\n",
       "\\item 13\n",
       "\\item 14\n",
       "\\item 15\n",
       "\\end{enumerate*}\n"
      ],
      "text/markdown": [
       "1. 1\n",
       "2. 2\n",
       "3. 3\n",
       "4. 4\n",
       "5. 5\n",
       "6. 11\n",
       "7. 12\n",
       "8. 13\n",
       "9. 14\n",
       "10. 15\n",
       "\n",
       "\n"
      ],
      "text/plain": [
       " [1]  1  2  3  4  5 11 12 13 14 15"
      ]
     },
     "metadata": {},
     "output_type": "display_data"
    }
   ],
   "source": [
    "c(1:5, 11:15)"
   ]
  },
  {
   "cell_type": "markdown",
   "id": "cd89547a",
   "metadata": {},
   "source": [
    "**Angewendet auf die vorliegende CSV-Tabelle:**"
   ]
  },
  {
   "cell_type": "code",
   "execution_count": null,
   "id": "0b9facc8",
   "metadata": {},
   "outputs": [
    {
     "name": "stdout",
     "output_type": "stream",
     "text": [
      "                                                     V1        V2     V3\n",
      "8       Wissenschaftliches und kuenstlerisches Personal maennlich 247720\n",
      "9       Wissenschaftliches und kuenstlerisches Personal  weiblich 167112\n",
      "10      Wissenschaftliches und kuenstlerisches Personal Insgesamt 414832\n",
      "11   Hauptberufl. wissenschaftl. u. kuenstler. Personal maennlich 159567\n",
      "12   Hauptberufl. wissenschaftl. u. kuenstler. Personal  weiblich 109708\n",
      "13   Hauptberufl. wissenschaftl. u. kuenstler. Personal Insgesamt 269275\n",
      "14                                          Professoren maennlich  36344\n",
      "15                                          Professoren  weiblich  12949\n",
      "16                                          Professoren Insgesamt  49293\n",
      "17                             Dozenten und Assistenten maennlich   2182\n",
      "18                             Dozenten und Assistenten  weiblich   1546\n",
      "19                             Dozenten und Assistenten Insgesamt   3728\n",
      "20     Wissenschaftliche und kuenstlerische Mitarbeiter maennlich 116004\n"
     ]
    }
   ],
   "source": [
    "show(data_csv_clean[8:20,1:3])"
   ]
  },
  {
   "cell_type": "markdown",
   "id": "218288fd",
   "metadata": {},
   "source": [
    "Wie Sie erkennen können, wurden die Umlaute erfolgreich umgeschrieben."
   ]
  },
  {
   "cell_type": "markdown",
   "id": "227b60a9",
   "metadata": {},
   "source": [
    "### Tabelle unterteilen \n",
    "\n",
    "Damit die Tabelle eine bessere Struktur erlangt, empfiehlt sich eine\n",
    "Separierung in Metadaten und Tabellendaten.  "
   ]
  },
  {
   "cell_type": "code",
   "execution_count": null,
   "id": "b0e807a9",
   "metadata": {},
   "outputs": [],
   "source": [
    "Metadaten <- data_csv_clean[c(1:6, 87:88), 1]\n",
    "Tabellendaten <- data_csv_clean[8:85, 1:3]"
   ]
  },
  {
   "cell_type": "code",
   "execution_count": null,
   "id": "61be7142",
   "metadata": {},
   "outputs": [
    {
     "name": "stdout",
     "output_type": "stream",
     "text": [
      "[1] \"GENESIS-Tabelle: 21341-0001\"                                \n",
      "[2] \"Personal an Hochschulen: Deutschland, Jahre,\"               \n",
      "[3] \"Personalgruppen nach Beschaeftigungsverhaeltnis, Geschlecht\"\n",
      "[4] \"Statistik des Hochschulpersonals\"                           \n",
      "[5] \"Deutschland\"                                                \n",
      "[6] \"Personal an Hochschulen (Anzahl)\"                           \n",
      "[7] \"© Statistisches Bundesamt (Destatis), 2023\"                 \n",
      "[8] \"Stand: 04.04.2024 / 18:30:01\"                               \n"
     ]
    }
   ],
   "source": [
    "show(Metadaten)"
   ]
  },
  {
   "cell_type": "code",
   "execution_count": null,
   "id": "6f473eb0",
   "metadata": {},
   "outputs": [
    {
     "data": {
      "text/html": [
       "<table class=\"dataframe\">\n",
       "<caption>A data.frame: 6 × 3</caption>\n",
       "<thead>\n",
       "\t<tr><th></th><th scope=col>V1</th><th scope=col>V2</th><th scope=col>V3</th></tr>\n",
       "\t<tr><th></th><th scope=col>&lt;chr&gt;</th><th scope=col>&lt;chr&gt;</th><th scope=col>&lt;chr&gt;</th></tr>\n",
       "</thead>\n",
       "<tbody>\n",
       "\t<tr><th scope=row>8</th><td>Wissenschaftliches und kuenstlerisches Personal     </td><td>maennlich</td><td>247720</td></tr>\n",
       "\t<tr><th scope=row>9</th><td>Wissenschaftliches und kuenstlerisches Personal     </td><td>weiblich </td><td>167112</td></tr>\n",
       "\t<tr><th scope=row>10</th><td>Wissenschaftliches und kuenstlerisches Personal     </td><td>Insgesamt</td><td>414832</td></tr>\n",
       "\t<tr><th scope=row>11</th><td>  Hauptberufl. wissenschaftl. u. kuenstler. Personal</td><td>maennlich</td><td>159567</td></tr>\n",
       "\t<tr><th scope=row>12</th><td>  Hauptberufl. wissenschaftl. u. kuenstler. Personal</td><td>weiblich </td><td>109708</td></tr>\n",
       "\t<tr><th scope=row>13</th><td>  Hauptberufl. wissenschaftl. u. kuenstler. Personal</td><td>Insgesamt</td><td>269275</td></tr>\n",
       "</tbody>\n",
       "</table>\n"
      ],
      "text/latex": [
       "A data.frame: 6 × 3\n",
       "\\begin{tabular}{r|lll}\n",
       "  & V1 & V2 & V3\\\\\n",
       "  & <chr> & <chr> & <chr>\\\\\n",
       "\\hline\n",
       "\t8 & Wissenschaftliches und kuenstlerisches Personal      & maennlich & 247720\\\\\n",
       "\t9 & Wissenschaftliches und kuenstlerisches Personal      & weiblich  & 167112\\\\\n",
       "\t10 & Wissenschaftliches und kuenstlerisches Personal      & Insgesamt & 414832\\\\\n",
       "\t11 &   Hauptberufl. wissenschaftl. u. kuenstler. Personal & maennlich & 159567\\\\\n",
       "\t12 &   Hauptberufl. wissenschaftl. u. kuenstler. Personal & weiblich  & 109708\\\\\n",
       "\t13 &   Hauptberufl. wissenschaftl. u. kuenstler. Personal & Insgesamt & 269275\\\\\n",
       "\\end{tabular}\n"
      ],
      "text/markdown": [
       "\n",
       "A data.frame: 6 × 3\n",
       "\n",
       "| <!--/--> | V1 &lt;chr&gt; | V2 &lt;chr&gt; | V3 &lt;chr&gt; |\n",
       "|---|---|---|---|\n",
       "| 8 | Wissenschaftliches und kuenstlerisches Personal      | maennlich | 247720 |\n",
       "| 9 | Wissenschaftliches und kuenstlerisches Personal      | weiblich  | 167112 |\n",
       "| 10 | Wissenschaftliches und kuenstlerisches Personal      | Insgesamt | 414832 |\n",
       "| 11 |   Hauptberufl. wissenschaftl. u. kuenstler. Personal | maennlich | 159567 |\n",
       "| 12 |   Hauptberufl. wissenschaftl. u. kuenstler. Personal | weiblich  | 109708 |\n",
       "| 13 |   Hauptberufl. wissenschaftl. u. kuenstler. Personal | Insgesamt | 269275 |\n",
       "\n"
      ],
      "text/plain": [
       "   V1                                                   V2        V3    \n",
       "8  Wissenschaftliches und kuenstlerisches Personal      maennlich 247720\n",
       "9  Wissenschaftliches und kuenstlerisches Personal      weiblich  167112\n",
       "10 Wissenschaftliches und kuenstlerisches Personal      Insgesamt 414832\n",
       "11   Hauptberufl. wissenschaftl. u. kuenstler. Personal maennlich 159567\n",
       "12   Hauptberufl. wissenschaftl. u. kuenstler. Personal weiblich  109708\n",
       "13   Hauptberufl. wissenschaftl. u. kuenstler. Personal Insgesamt 269275"
      ]
     },
     "metadata": {},
     "output_type": "display_data"
    }
   ],
   "source": [
    "head(Tabellendaten)"
   ]
  },
  {
   "cell_type": "markdown",
   "id": "9d2f70fb",
   "metadata": {},
   "source": [
    "### Spaltenüberschriften setzen\n",
    "Der Befehl `colnames()`ermöglicht es Ihnen Spaltenüberschriften zu\n",
    "setzen.  \n",
    "\n",
    "Sie können dies entweder für jede Spalte mit einem einzelnen Befehl\n",
    "durchführen:"
   ]
  },
  {
   "cell_type": "code",
   "execution_count": null,
   "id": "845f9f4b",
   "metadata": {},
   "outputs": [],
   "source": [
    "colnames(Tabellendaten)[1] <- \"Angestelltenverhaeltnis\""
   ]
  },
  {
   "cell_type": "code",
   "execution_count": null,
   "id": "808f0a69",
   "metadata": {},
   "outputs": [
    {
     "data": {
      "text/html": [
       "<table class=\"dataframe\">\n",
       "<caption>A data.frame: 6 × 3</caption>\n",
       "<thead>\n",
       "\t<tr><th></th><th scope=col>Angestelltenverhaeltnis</th><th scope=col>V2</th><th scope=col>V3</th></tr>\n",
       "\t<tr><th></th><th scope=col>&lt;chr&gt;</th><th scope=col>&lt;chr&gt;</th><th scope=col>&lt;chr&gt;</th></tr>\n",
       "</thead>\n",
       "<tbody>\n",
       "\t<tr><th scope=row>8</th><td>Wissenschaftliches und kuenstlerisches Personal     </td><td>maennlich</td><td>247720</td></tr>\n",
       "\t<tr><th scope=row>9</th><td>Wissenschaftliches und kuenstlerisches Personal     </td><td>weiblich </td><td>167112</td></tr>\n",
       "\t<tr><th scope=row>10</th><td>Wissenschaftliches und kuenstlerisches Personal     </td><td>Insgesamt</td><td>414832</td></tr>\n",
       "\t<tr><th scope=row>11</th><td>  Hauptberufl. wissenschaftl. u. kuenstler. Personal</td><td>maennlich</td><td>159567</td></tr>\n",
       "\t<tr><th scope=row>12</th><td>  Hauptberufl. wissenschaftl. u. kuenstler. Personal</td><td>weiblich </td><td>109708</td></tr>\n",
       "\t<tr><th scope=row>13</th><td>  Hauptberufl. wissenschaftl. u. kuenstler. Personal</td><td>Insgesamt</td><td>269275</td></tr>\n",
       "</tbody>\n",
       "</table>\n"
      ],
      "text/latex": [
       "A data.frame: 6 × 3\n",
       "\\begin{tabular}{r|lll}\n",
       "  & Angestelltenverhaeltnis & V2 & V3\\\\\n",
       "  & <chr> & <chr> & <chr>\\\\\n",
       "\\hline\n",
       "\t8 & Wissenschaftliches und kuenstlerisches Personal      & maennlich & 247720\\\\\n",
       "\t9 & Wissenschaftliches und kuenstlerisches Personal      & weiblich  & 167112\\\\\n",
       "\t10 & Wissenschaftliches und kuenstlerisches Personal      & Insgesamt & 414832\\\\\n",
       "\t11 &   Hauptberufl. wissenschaftl. u. kuenstler. Personal & maennlich & 159567\\\\\n",
       "\t12 &   Hauptberufl. wissenschaftl. u. kuenstler. Personal & weiblich  & 109708\\\\\n",
       "\t13 &   Hauptberufl. wissenschaftl. u. kuenstler. Personal & Insgesamt & 269275\\\\\n",
       "\\end{tabular}\n"
      ],
      "text/markdown": [
       "\n",
       "A data.frame: 6 × 3\n",
       "\n",
       "| <!--/--> | Angestelltenverhaeltnis &lt;chr&gt; | V2 &lt;chr&gt; | V3 &lt;chr&gt; |\n",
       "|---|---|---|---|\n",
       "| 8 | Wissenschaftliches und kuenstlerisches Personal      | maennlich | 247720 |\n",
       "| 9 | Wissenschaftliches und kuenstlerisches Personal      | weiblich  | 167112 |\n",
       "| 10 | Wissenschaftliches und kuenstlerisches Personal      | Insgesamt | 414832 |\n",
       "| 11 |   Hauptberufl. wissenschaftl. u. kuenstler. Personal | maennlich | 159567 |\n",
       "| 12 |   Hauptberufl. wissenschaftl. u. kuenstler. Personal | weiblich  | 109708 |\n",
       "| 13 |   Hauptberufl. wissenschaftl. u. kuenstler. Personal | Insgesamt | 269275 |\n",
       "\n"
      ],
      "text/plain": [
       "   Angestelltenverhaeltnis                              V2        V3    \n",
       "8  Wissenschaftliches und kuenstlerisches Personal      maennlich 247720\n",
       "9  Wissenschaftliches und kuenstlerisches Personal      weiblich  167112\n",
       "10 Wissenschaftliches und kuenstlerisches Personal      Insgesamt 414832\n",
       "11   Hauptberufl. wissenschaftl. u. kuenstler. Personal maennlich 159567\n",
       "12   Hauptberufl. wissenschaftl. u. kuenstler. Personal weiblich  109708\n",
       "13   Hauptberufl. wissenschaftl. u. kuenstler. Personal Insgesamt 269275"
      ]
     },
     "metadata": {},
     "output_type": "display_data"
    }
   ],
   "source": [
    "head(Tabellendaten)"
   ]
  },
  {
   "cell_type": "markdown",
   "id": "21e88883",
   "metadata": {},
   "source": [
    "Oder alle Spaltenüberschriften mittels eines Vektors gleichzeitig neu\n",
    "setzen:"
   ]
  },
  {
   "cell_type": "code",
   "execution_count": null,
   "id": "bba3798b",
   "metadata": {},
   "outputs": [],
   "source": [
    "colnames(Tabellendaten) <- c(\"Angestelltenverhaeltnis\", \"Geschlecht\", \"Angestelltenzahl_2020\")"
   ]
  },
  {
   "cell_type": "code",
   "execution_count": null,
   "id": "1d928c94",
   "metadata": {},
   "outputs": [
    {
     "data": {
      "text/html": [
       "<table class=\"dataframe\">\n",
       "<caption>A data.frame: 6 × 3</caption>\n",
       "<thead>\n",
       "\t<tr><th></th><th scope=col>Angestelltenverhaeltnis</th><th scope=col>Geschlecht</th><th scope=col>Angestelltenzahl_2020</th></tr>\n",
       "\t<tr><th></th><th scope=col>&lt;chr&gt;</th><th scope=col>&lt;chr&gt;</th><th scope=col>&lt;chr&gt;</th></tr>\n",
       "</thead>\n",
       "<tbody>\n",
       "\t<tr><th scope=row>8</th><td>Wissenschaftliches und kuenstlerisches Personal     </td><td>maennlich</td><td>247720</td></tr>\n",
       "\t<tr><th scope=row>9</th><td>Wissenschaftliches und kuenstlerisches Personal     </td><td>weiblich </td><td>167112</td></tr>\n",
       "\t<tr><th scope=row>10</th><td>Wissenschaftliches und kuenstlerisches Personal     </td><td>Insgesamt</td><td>414832</td></tr>\n",
       "\t<tr><th scope=row>11</th><td>  Hauptberufl. wissenschaftl. u. kuenstler. Personal</td><td>maennlich</td><td>159567</td></tr>\n",
       "\t<tr><th scope=row>12</th><td>  Hauptberufl. wissenschaftl. u. kuenstler. Personal</td><td>weiblich </td><td>109708</td></tr>\n",
       "\t<tr><th scope=row>13</th><td>  Hauptberufl. wissenschaftl. u. kuenstler. Personal</td><td>Insgesamt</td><td>269275</td></tr>\n",
       "</tbody>\n",
       "</table>\n"
      ],
      "text/latex": [
       "A data.frame: 6 × 3\n",
       "\\begin{tabular}{r|lll}\n",
       "  & Angestelltenverhaeltnis & Geschlecht & Angestelltenzahl\\_2020\\\\\n",
       "  & <chr> & <chr> & <chr>\\\\\n",
       "\\hline\n",
       "\t8 & Wissenschaftliches und kuenstlerisches Personal      & maennlich & 247720\\\\\n",
       "\t9 & Wissenschaftliches und kuenstlerisches Personal      & weiblich  & 167112\\\\\n",
       "\t10 & Wissenschaftliches und kuenstlerisches Personal      & Insgesamt & 414832\\\\\n",
       "\t11 &   Hauptberufl. wissenschaftl. u. kuenstler. Personal & maennlich & 159567\\\\\n",
       "\t12 &   Hauptberufl. wissenschaftl. u. kuenstler. Personal & weiblich  & 109708\\\\\n",
       "\t13 &   Hauptberufl. wissenschaftl. u. kuenstler. Personal & Insgesamt & 269275\\\\\n",
       "\\end{tabular}\n"
      ],
      "text/markdown": [
       "\n",
       "A data.frame: 6 × 3\n",
       "\n",
       "| <!--/--> | Angestelltenverhaeltnis &lt;chr&gt; | Geschlecht &lt;chr&gt; | Angestelltenzahl_2020 &lt;chr&gt; |\n",
       "|---|---|---|---|\n",
       "| 8 | Wissenschaftliches und kuenstlerisches Personal      | maennlich | 247720 |\n",
       "| 9 | Wissenschaftliches und kuenstlerisches Personal      | weiblich  | 167112 |\n",
       "| 10 | Wissenschaftliches und kuenstlerisches Personal      | Insgesamt | 414832 |\n",
       "| 11 |   Hauptberufl. wissenschaftl. u. kuenstler. Personal | maennlich | 159567 |\n",
       "| 12 |   Hauptberufl. wissenschaftl. u. kuenstler. Personal | weiblich  | 109708 |\n",
       "| 13 |   Hauptberufl. wissenschaftl. u. kuenstler. Personal | Insgesamt | 269275 |\n",
       "\n"
      ],
      "text/plain": [
       "   Angestelltenverhaeltnis                              Geschlecht\n",
       "8  Wissenschaftliches und kuenstlerisches Personal      maennlich \n",
       "9  Wissenschaftliches und kuenstlerisches Personal      weiblich  \n",
       "10 Wissenschaftliches und kuenstlerisches Personal      Insgesamt \n",
       "11   Hauptberufl. wissenschaftl. u. kuenstler. Personal maennlich \n",
       "12   Hauptberufl. wissenschaftl. u. kuenstler. Personal weiblich  \n",
       "13   Hauptberufl. wissenschaftl. u. kuenstler. Personal Insgesamt \n",
       "   Angestelltenzahl_2020\n",
       "8  247720               \n",
       "9  167112               \n",
       "10 414832               \n",
       "11 159567               \n",
       "12 109708               \n",
       "13 269275               "
      ]
     },
     "metadata": {},
     "output_type": "display_data"
    }
   ],
   "source": [
    "head(Tabellendaten)"
   ]
  },
  {
   "cell_type": "markdown",
   "id": "655289ec",
   "metadata": {},
   "source": [
    "Damit die Nummerierung der Tabellenzeilen nicht bei der Zahl 8 startet,\n",
    "empfiehlt sich die Nummerierung der Zeilen neu zu setzen. Herzu kann der\n",
    "Befehl `row.names` eingesetzt werden:"
   ]
  },
  {
   "cell_type": "code",
   "execution_count": null,
   "id": "0c75c153",
   "metadata": {},
   "outputs": [],
   "source": [
    "row.names(Tabellendaten) <- 1:78"
   ]
  },
  {
   "cell_type": "markdown",
   "id": "01dbb073",
   "metadata": {},
   "source": [
    "Vollständig aufbereitet sehen die `Tabellendaten` dann wie folgt aus:"
   ]
  },
  {
   "cell_type": "code",
   "execution_count": null,
   "id": "84340ec8",
   "metadata": {},
   "outputs": [
    {
     "data": {
      "text/html": [
       "<table class=\"dataframe\">\n",
       "<caption>A data.frame: 6 × 3</caption>\n",
       "<thead>\n",
       "\t<tr><th></th><th scope=col>Angestelltenverhaeltnis</th><th scope=col>Geschlecht</th><th scope=col>Angestelltenzahl_2020</th></tr>\n",
       "\t<tr><th></th><th scope=col>&lt;chr&gt;</th><th scope=col>&lt;chr&gt;</th><th scope=col>&lt;chr&gt;</th></tr>\n",
       "</thead>\n",
       "<tbody>\n",
       "\t<tr><th scope=row>1</th><td>Wissenschaftliches und kuenstlerisches Personal     </td><td>maennlich</td><td>247720</td></tr>\n",
       "\t<tr><th scope=row>2</th><td>Wissenschaftliches und kuenstlerisches Personal     </td><td>weiblich </td><td>167112</td></tr>\n",
       "\t<tr><th scope=row>3</th><td>Wissenschaftliches und kuenstlerisches Personal     </td><td>Insgesamt</td><td>414832</td></tr>\n",
       "\t<tr><th scope=row>4</th><td>  Hauptberufl. wissenschaftl. u. kuenstler. Personal</td><td>maennlich</td><td>159567</td></tr>\n",
       "\t<tr><th scope=row>5</th><td>  Hauptberufl. wissenschaftl. u. kuenstler. Personal</td><td>weiblich </td><td>109708</td></tr>\n",
       "\t<tr><th scope=row>6</th><td>  Hauptberufl. wissenschaftl. u. kuenstler. Personal</td><td>Insgesamt</td><td>269275</td></tr>\n",
       "</tbody>\n",
       "</table>\n"
      ],
      "text/latex": [
       "A data.frame: 6 × 3\n",
       "\\begin{tabular}{r|lll}\n",
       "  & Angestelltenverhaeltnis & Geschlecht & Angestelltenzahl\\_2020\\\\\n",
       "  & <chr> & <chr> & <chr>\\\\\n",
       "\\hline\n",
       "\t1 & Wissenschaftliches und kuenstlerisches Personal      & maennlich & 247720\\\\\n",
       "\t2 & Wissenschaftliches und kuenstlerisches Personal      & weiblich  & 167112\\\\\n",
       "\t3 & Wissenschaftliches und kuenstlerisches Personal      & Insgesamt & 414832\\\\\n",
       "\t4 &   Hauptberufl. wissenschaftl. u. kuenstler. Personal & maennlich & 159567\\\\\n",
       "\t5 &   Hauptberufl. wissenschaftl. u. kuenstler. Personal & weiblich  & 109708\\\\\n",
       "\t6 &   Hauptberufl. wissenschaftl. u. kuenstler. Personal & Insgesamt & 269275\\\\\n",
       "\\end{tabular}\n"
      ],
      "text/markdown": [
       "\n",
       "A data.frame: 6 × 3\n",
       "\n",
       "| <!--/--> | Angestelltenverhaeltnis &lt;chr&gt; | Geschlecht &lt;chr&gt; | Angestelltenzahl_2020 &lt;chr&gt; |\n",
       "|---|---|---|---|\n",
       "| 1 | Wissenschaftliches und kuenstlerisches Personal      | maennlich | 247720 |\n",
       "| 2 | Wissenschaftliches und kuenstlerisches Personal      | weiblich  | 167112 |\n",
       "| 3 | Wissenschaftliches und kuenstlerisches Personal      | Insgesamt | 414832 |\n",
       "| 4 |   Hauptberufl. wissenschaftl. u. kuenstler. Personal | maennlich | 159567 |\n",
       "| 5 |   Hauptberufl. wissenschaftl. u. kuenstler. Personal | weiblich  | 109708 |\n",
       "| 6 |   Hauptberufl. wissenschaftl. u. kuenstler. Personal | Insgesamt | 269275 |\n",
       "\n"
      ],
      "text/plain": [
       "  Angestelltenverhaeltnis                              Geschlecht\n",
       "1 Wissenschaftliches und kuenstlerisches Personal      maennlich \n",
       "2 Wissenschaftliches und kuenstlerisches Personal      weiblich  \n",
       "3 Wissenschaftliches und kuenstlerisches Personal      Insgesamt \n",
       "4   Hauptberufl. wissenschaftl. u. kuenstler. Personal maennlich \n",
       "5   Hauptberufl. wissenschaftl. u. kuenstler. Personal weiblich  \n",
       "6   Hauptberufl. wissenschaftl. u. kuenstler. Personal Insgesamt \n",
       "  Angestelltenzahl_2020\n",
       "1 247720               \n",
       "2 167112               \n",
       "3 414832               \n",
       "4 159567               \n",
       "5 109708               \n",
       "6 269275               "
      ]
     },
     "metadata": {},
     "output_type": "display_data"
    }
   ],
   "source": [
    "head(Tabellendaten)"
   ]
  },
  {
   "cell_type": "markdown",
   "id": "fb3a2ba9",
   "metadata": {},
   "source": [
    "````{admonition} Vollständiger Code zur Fehlerkontrolle \n",
    ":class: hinweis, dropdown\n",
    "```\n",
    "#TidyVerse Package Installation\n",
    "install.packages(\"tidyverse\")\n",
    "library(tidyverse)\n",
    "\n",
    "#Daten einlesen\n",
    "data_csv_clean <- read.csv2(\"Data/21341-0001_F_2020.csv\", header = FALSE, encoding = \"latin1\")\n",
    "\n",
    "#Ergebnisse ansehen\n",
    "head(data_csv_clean)\n",
    "\n",
    "#Umlaute entfernen\n",
    "data_csv_clean$V1 <- str_replace_all(data_csv_clean$V1, c(\"ä\" = \"ae\", \"ö\" = \"oe\", \"ü\" =\"ue\", \"ß\" =\"ss\"))\n",
    "data_csv_clean$V2 <- str_replace_all(data_csv_clean$V2, c(\"ä\" = \"ae\", \"ö\" = \"oe\", \"ü\" =\"ue\", \"ß\" =\"ss\"))\n",
    "\n",
    "#Ausgewählte Ergebnisse ansehen\n",
    "show(data_csv_clean[8:20,1:3])\n",
    "\n",
    "#Tabelle unterteilen\n",
    "Metadaten <- data_csv_clean[c(1:6, 87:88), 1]\n",
    "Tabellendaten <- data_csv_clean[8:85, 1:3]\n",
    "\n",
    "#Spaltenüberschriften setzen\n",
    "colnames(Tabellendaten) <- c(\"Angestelltenverhaeltnis\", \"Geschlecht\", \"Angestelltenzahl_2020\")\n",
    "\n",
    "#Nummerierung neu setzen\n",
    "row.names(Tabellendaten) <- 1:78\n",
    "\n",
    "#Ergebnis ansehen\n",
    "head(Tabellendaten) \n",
    "```\n",
    "````"
   ]
  }
 ],
 "metadata": {
  "kernelspec": {
   "display_name": "R",
   "language": "R",
   "name": "ir"
  }
 },
 "nbformat": 4,
 "nbformat_minor": 5
}
