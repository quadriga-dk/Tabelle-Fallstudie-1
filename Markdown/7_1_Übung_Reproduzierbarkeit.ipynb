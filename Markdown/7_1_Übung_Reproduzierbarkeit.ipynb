{
 "cells": [
  {
   "cell_type": "markdown",
   "id": "a2194f45",
   "metadata": {},
   "source": [
    "(Uebung_Reproduzierbarkeit)=\n",
    "# Übung: Reproduzierbarkeit Nationaler Bildungsbericht\n",
    "\n",
    "In dem vorangegangenen Kapitel wurden Sie  mit ersten Grundbausteinen im Arbeiten mit **R** vertraut gemacht.  Diese Fähigkeiten können Sie nutzen, um die *Reproduzierbarkeit* von Grafiken, Daten, etc. zu überprüfen.\n",
    "\n",
    "```{admonition} Doch was genau ist eigentlich Reproduzierbarkeit?\n",
    ":class: keypoint\n",
    "Der Begriff Reproduzierbarkeit umschreibt in der Wissenschaft die Möglichkeit, durch Verwenden der gleichen Ausgangsdaten und Auswertungsmethoden die gleichen Ergebnisse zu erhalten {cite}`noauthor_reproducibility_2019`. Dadurch können diese validiert werden, um sicherzustellen, dass sie nicht durch Zufall oder falsche Annahmen entstanden sind. Reproduzierbarkeit erfordert das Offenlegen von Forschungsdaten und -techniken.\n",
    "```"
   ]
  },
  {
   "cell_type": "markdown",
   "id": "52abb4ff",
   "metadata": {},
   "source": [
    "## Fallbeispiel: Bildungsbericht \n",
    "\n",
    "Im nationalen [Bildungsbericht 2022](https://www.bildungsbericht.de/de/bildungsberichte-seit-2006/bildungsbericht-2022)\n",
    "befindet sich auf der Seite 259 folgende Abbildung:\n",
    "\n",
    "```{figure} _images/Abb_H1-3.png\n",
    "---\n",
    "name: fig-wissenschaftliches-personal-kreisdiagramme\n",
    "alt: Kreisdiagramme, die die Verteilung von wissenschaftlichem und künstlerischem Personal an Hochschulen zeigen.\n",
    "---\n",
    "Die Abb.H1-3 aus dem Nationalen Bildungsbericht 2022.\n",
    "```\n",
    "\n",
    "Werfen wir einen Blick auf das erste Kreisdiagramm links oben *\"Hochschulen insgesamt\"* und *\"Personen\"*. Wir wollen dieses Diagramm als Ergebnis der Auswertung eines Datensatzen reproduzieren. Dafür analysieren wir die Daten aus der Primärquelle.\n",
    "\n",
    "```{admonition} Achtung!\n",
    ":class: caution\n",
    "Der Bildungsbericht verweist auf einzelne Excel-Dateien als Datenbasis (Hier: \"Tab. H1-9web\"), die der Veröffentlichung des Berichts beigefügt sind. Wir wollen aber einen Schritt weiter gehen und prüfen, ob das Ergebnis auch aus der Primärquelle nachvollzogen werden kann. \n",
    "```"
   ]
  },
  {
   "cell_type": "markdown",
   "id": "e8ea0072",
   "metadata": {},
   "source": [
    "### Primärquelle finden \n",
    "\n",
    "Unter der Grafik sind als Quelle unter anderem die \"Statistische[n] Ämter des Bundes und der Länder\" angegeben. \n",
    "Wie Sie vermutlich erkannt haben, handelt es sich bei der nun von uns benötigten Datei um die CSV-Ausgangsdatei aus dem vorangegangenen Kapitel (s. [6.2 Übung: Arbeiten mit CSV-Dateien in R](/Markdown/6_2_Übung_Arbeiten_CSV_in_R.ipynb)). "
   ]
  },
  {
   "cell_type": "markdown",
   "id": "9695d2fb",
   "metadata": {},
   "source": [
    "### Nachbauen des Kreisdiagramms in R\n",
    "Das nachfolgende Skript knüpft an die vorangegangene Übung an. Es wird vorausgesetzt, dass die Daten entsprechend des Skriptes angepasst wurden.\n",
    "Ihre Tabellendaten sollten wie folgt aussehen:"
   ]
  },
  {
   "cell_type": "markdown",
   "id": "da96b20d",
   "metadata": {},
   "source": [
    "````{admonition} in 6.2 und 6.3 bereits ausgeführter Code: \n",
    ":class: hinweis, dropdown\n",
    "```\n",
    "#TidyVerse Package Installation\n",
    "install.packages(\"tidyverse\")\n",
    "library(tidyverse)\n",
    "\n",
    "#Daten einlesen\n",
    "data_csv_clean <- read.csv2(\"Data/21341-0001_F_2020.csv\", header = FALSE, encoding = \"latin1\")\n",
    "\n",
    "#Ergebnisse ansehen\n",
    "head(data_csv_clean)\n",
    "\n",
    "#Umlaute entfernen\n",
    "data_csv_clean$V1 <- str_replace_all(data_csv_clean$V1, c(\"ä\" = \"ae\", \"ö\" = \"oe\", \"ü\" =\"ue\", \"ß\" =\"ss\"))\n",
    "data_csv_clean$V2 <- str_replace_all(data_csv_clean$V2, c(\"ä\" = \"ae\", \"ö\" = \"oe\", \"ü\" =\"ue\", \"ß\" =\"ss\"))\n",
    "\n",
    "#Ausgewählte Ergebnisse ansehen\n",
    "show(data_csv_clean[8:20,1:3])\n",
    "\n",
    "#Tabelle unterteilen\n",
    "Metadaten <- data_csv_clean[c(1:6, 87:88), 1]\n",
    "Tabellendaten <- data_csv_clean[8:85, 1:3]\n",
    "\n",
    "#Spaltenüberschriften setzen\n",
    "colnames(Tabellendaten) <- c(\"Angestelltenverhaeltnis\", \"Geschlecht\", \"Angestelltenzahl_2020\")\n",
    "\n",
    "#Nummerierung neu setzen\n",
    "row.names(Tabellendaten) <- 1:78\n",
    "\n",
    "#Ergebnis ansehen\n",
    "head(Tabellendaten) \n",
    "\n",
    "#Variablenklassen bestimmen\n",
    "class(Tabellendaten$Angestelltenverhaeltnis) #sollte als character oder factor gelesen werden\n",
    "class(Tabellendaten$Geschlecht) #sollte als character oder factor gelesen werden\n",
    "class(Tabellendaten$Angestelltenzahl_2020) #sollte als numerisch oder integer gelesen werden\n",
    "\n",
    "#Variablenklassen ändern\n",
    "Tabellendaten$Angestelltenzahl_2020 <- as.integer(Tabellendaten$Angestelltenzahl_2020)\n",
    "\n",
    "#Maximalwert anzeigen lassen\n",
    "max(Tabellendaten$Angestelltenzahl_2020, na.rm = TRUE)\n",
    "\n",
    "#Variablen sichten\n",
    "unique(Tabellendaten$Angestelltenverhaeltnis)\n",
    "\n",
    "#Neue Variablen erstellen\n",
    "#1.Ebene: Neue Variable \"Personalkategorie\"\n",
    "Tabellendaten$Personalkategorie <- c(NA)\n",
    "#2.Ebene: Neue Variable \"Art der Anstellung\"\n",
    "Tabellendaten$Art_der_Anstellung <- c(NA)\n",
    "\n",
    "#Einpflegen des Variableninhalts\n",
    "#1.Ebene\n",
    "Tabellendaten$Personalkategorie[76:78] <- \"Insgesamt\"\n",
    "Tabellendaten$Personalkategorie[1:30] <- \"Wissenschaftliches und künstlerisches Personal\"\n",
    "Tabellendaten$Personalkategorie[31:75] <- \"Verwaltungs-, technisches und sonstiges Personal\"\n",
    "#2.Ebene\n",
    "Tabellendaten$Art_der_Anstellung[c(1:3, 31:33, 76:78)] <- \"Insgesamt\"\n",
    "Tabellendaten$Art_der_Anstellung[c(4:18,34:66)] <- \"Hauptberuflich\"\n",
    "Tabellendaten$Art_der_Anstellung[c(19:30,67:75)] <- \"Nebenberuflich\"\n",
    "\n",
    "#Unterkategorisieren\n",
    "#Geschlecht\n",
    "Tabelle_maennlich <- subset(Tabellendaten, Geschlecht == \"maennlich\")\n",
    "Tabelle_weiblich <- subset(Tabellendaten, Geschlecht == \"weiblich\")\n",
    "Tabelle_Insgesamt <- subset(Tabellendaten, Geschlecht == \"Insgesamt\")\n",
    "\n",
    "#Redundante Tabelle entfernen\n",
    "Tabelle_Insgesamt <- subset(Tabelle_Insgesamt, select= c(-Geschlecht))\n",
    "\n",
    "#Tabellendaten filtern\n",
    "#Nach Angestelltenzahl unter 5000 filtern\n",
    "filter(Tabelle_Insgesamt, Tabelle_Insgesamt$Angestelltenzahl_2020 <= 5000)\n",
    "#Nach weiblichen Wiss.& Künstl.Personal filtern\n",
    "filter(Tabellendaten, Tabellendaten$Personalkategorie == \"Wissenschaftliches und künstlerisches Personal\" & Tabellendaten$Geschlecht == \"weiblich\" )\n",
    "#Filtern nach niedrigstem Wert\n",
    "filter(Tabellendaten, Tabellendaten$Angestelltenzahl_2020 == min(Tabellendaten$Angestelltenzahl_2020, na.rm = TRUE))\n",
    "\n",
    "#Fehlerbehebung Leerzeichen entfernen\n",
    "Tabellendaten$Angestelltenverhaeltnis <- trimws(Tabellendaten$Angestelltenverhaeltnis)\n",
    "\n",
    "#Filter nach 'Professoren'\n",
    "filter(Tabellendaten, Tabellendaten$Angestelltenverhaeltnis == \"Professoren\")\n",
    "\n",
    "#Sortieren von Tabellendaten\n",
    "Tabelle_Insgesamt_Sortiert <- Tabelle_Insgesamt[order(Tabelle_Insgesamt$Angestelltenzahl_2020, decreasing = TRUE),]\n",
    "\n",
    "#Ergebnis ansehen\n",
    "head(Tabelle_Insgesamt_Sortiert)\n",
    "```\n",
    "````"
   ]
  },
  {
   "cell_type": "code",
   "execution_count": 1,
   "id": "ee73ada9",
   "metadata": {
    "tags": [
     "remove-cell"
    ],
    "vscode": {
     "languageId": "r"
    }
   },
   "outputs": [
    {
     "name": "stderr",
     "output_type": "stream",
     "text": [
      "Installiere Paket nach ‘/opt/homebrew/lib/R/4.5/site-library’\n",
      "(da ‘lib’ nicht spezifiziert)\n",
      "\n",
      "── \u001b[1mAttaching core tidyverse packages\u001b[22m ──────────────────────── tidyverse 2.0.0 ──\n",
      "\u001b[32m✔\u001b[39m \u001b[34mdplyr    \u001b[39m 1.1.4     \u001b[32m✔\u001b[39m \u001b[34mreadr    \u001b[39m 2.1.5\n",
      "\u001b[32m✔\u001b[39m \u001b[34mforcats  \u001b[39m 1.0.0     \u001b[32m✔\u001b[39m \u001b[34mstringr  \u001b[39m 1.5.1\n",
      "\u001b[32m✔\u001b[39m \u001b[34mggplot2  \u001b[39m 3.5.2     \u001b[32m✔\u001b[39m \u001b[34mtibble   \u001b[39m 3.2.1\n",
      "\u001b[32m✔\u001b[39m \u001b[34mlubridate\u001b[39m 1.9.4     \u001b[32m✔\u001b[39m \u001b[34mtidyr    \u001b[39m 1.3.1\n",
      "\u001b[32m✔\u001b[39m \u001b[34mpurrr    \u001b[39m 1.0.4     \n",
      "── \u001b[1mConflicts\u001b[22m ────────────────────────────────────────── tidyverse_conflicts() ──\n",
      "\u001b[31m✖\u001b[39m \u001b[34mdplyr\u001b[39m::\u001b[32mfilter()\u001b[39m masks \u001b[34mstats\u001b[39m::filter()\n",
      "\u001b[31m✖\u001b[39m \u001b[34mdplyr\u001b[39m::\u001b[32mlag()\u001b[39m    masks \u001b[34mstats\u001b[39m::lag()\n",
      "\u001b[36mℹ\u001b[39m Use the conflicted package (\u001b[3m\u001b[34m<http://conflicted.r-lib.org/>\u001b[39m\u001b[23m) to force all conflicts to become errors\n",
      "Warning message:\n",
      "“NAs durch Umwandlung erzeugt”\n"
     ]
    },
    {
     "data": {
      "text/html": [
       "759065"
      ],
      "text/latex": [
       "759065"
      ],
      "text/markdown": [
       "759065"
      ],
      "text/plain": [
       "[1] 759065"
      ]
     },
     "metadata": {},
     "output_type": "display_data"
    },
    {
     "data": {
      "text/html": [
       "<style>\n",
       ".list-inline {list-style: none; margin:0; padding: 0}\n",
       ".list-inline>li {display: inline-block}\n",
       ".list-inline>li:not(:last-child)::after {content: \"\\00b7\"; padding: 0 .5ex}\n",
       "</style>\n",
       "<ol class=list-inline><li>'Wissenschaftliches und kuenstlerisches Personal'</li><li><span style=white-space:pre-wrap>'  Hauptberufl. wissenschaftl. u. kuenstler. Personal'</span></li><li><span style=white-space:pre-wrap>'    Professoren'</span></li><li><span style=white-space:pre-wrap>'    Dozenten und Assistenten'</span></li><li><span style=white-space:pre-wrap>'    Wissenschaftliche und kuenstlerische Mitarbeiter'</span></li><li><span style=white-space:pre-wrap>'    Lehrkraefte fuer besondere Aufgaben'</span></li><li><span style=white-space:pre-wrap>'  Nebenberufl. wissenschaftl. u. kuenstler. Personal'</span></li><li><span style=white-space:pre-wrap>'    Gastprofessoren, Emeriti'</span></li><li><span style=white-space:pre-wrap>'    Lehrbeauftragte'</span></li><li><span style=white-space:pre-wrap>'    Wissenschaftliche Hilfskraefte'</span></li><li>'Verwaltungs-, technisches und sonstiges Personal'</li><li><span style=white-space:pre-wrap>'  Hauptberufl. Verwaltungs-, techn. u.sonst.Personal'</span></li><li><span style=white-space:pre-wrap>'    Verwaltungspersonal'</span></li><li><span style=white-space:pre-wrap>'    Bibliothekspersonal'</span></li><li><span style=white-space:pre-wrap>'    Technisches Personal'</span></li><li><span style=white-space:pre-wrap>'    Sonstiges Personal'</span></li><li><span style=white-space:pre-wrap>'    Pflegepersonal'</span></li><li><span style=white-space:pre-wrap>'    Arbeiter'</span></li><li><span style=white-space:pre-wrap>'    Auszubildende'</span></li><li><span style=white-space:pre-wrap>'    Praktikanten'</span></li><li><span style=white-space:pre-wrap>'    Sonstiges Personal fuer Lehre und Forschung'</span></li><li><span style=white-space:pre-wrap>'    Leitungs- und Verwaltungspersonal'</span></li><li><span style=white-space:pre-wrap>'  Nebenberufl. Verwaltungs-, techn. u.sonst.Personal'</span></li><li><span style=white-space:pre-wrap>'    Sonstige Hilfskraefte'</span></li><li><span style=white-space:pre-wrap>'    Zeitweilig Beschaeftigte'</span></li><li>'Insgesamt'</li></ol>\n"
      ],
      "text/latex": [
       "\\begin{enumerate*}\n",
       "\\item 'Wissenschaftliches und kuenstlerisches Personal'\n",
       "\\item '  Hauptberufl. wissenschaftl. u. kuenstler. Personal'\n",
       "\\item '    Professoren'\n",
       "\\item '    Dozenten und Assistenten'\n",
       "\\item '    Wissenschaftliche und kuenstlerische Mitarbeiter'\n",
       "\\item '    Lehrkraefte fuer besondere Aufgaben'\n",
       "\\item '  Nebenberufl. wissenschaftl. u. kuenstler. Personal'\n",
       "\\item '    Gastprofessoren, Emeriti'\n",
       "\\item '    Lehrbeauftragte'\n",
       "\\item '    Wissenschaftliche Hilfskraefte'\n",
       "\\item 'Verwaltungs-, technisches und sonstiges Personal'\n",
       "\\item '  Hauptberufl. Verwaltungs-, techn. u.sonst.Personal'\n",
       "\\item '    Verwaltungspersonal'\n",
       "\\item '    Bibliothekspersonal'\n",
       "\\item '    Technisches Personal'\n",
       "\\item '    Sonstiges Personal'\n",
       "\\item '    Pflegepersonal'\n",
       "\\item '    Arbeiter'\n",
       "\\item '    Auszubildende'\n",
       "\\item '    Praktikanten'\n",
       "\\item '    Sonstiges Personal fuer Lehre und Forschung'\n",
       "\\item '    Leitungs- und Verwaltungspersonal'\n",
       "\\item '  Nebenberufl. Verwaltungs-, techn. u.sonst.Personal'\n",
       "\\item '    Sonstige Hilfskraefte'\n",
       "\\item '    Zeitweilig Beschaeftigte'\n",
       "\\item 'Insgesamt'\n",
       "\\end{enumerate*}\n"
      ],
      "text/markdown": [
       "1. 'Wissenschaftliches und kuenstlerisches Personal'\n",
       "2. <span style=white-space:pre-wrap>'  Hauptberufl. wissenschaftl. u. kuenstler. Personal'</span>\n",
       "3. <span style=white-space:pre-wrap>'    Professoren'</span>\n",
       "4. <span style=white-space:pre-wrap>'    Dozenten und Assistenten'</span>\n",
       "5. <span style=white-space:pre-wrap>'    Wissenschaftliche und kuenstlerische Mitarbeiter'</span>\n",
       "6. <span style=white-space:pre-wrap>'    Lehrkraefte fuer besondere Aufgaben'</span>\n",
       "7. <span style=white-space:pre-wrap>'  Nebenberufl. wissenschaftl. u. kuenstler. Personal'</span>\n",
       "8. <span style=white-space:pre-wrap>'    Gastprofessoren, Emeriti'</span>\n",
       "9. <span style=white-space:pre-wrap>'    Lehrbeauftragte'</span>\n",
       "10. <span style=white-space:pre-wrap>'    Wissenschaftliche Hilfskraefte'</span>\n",
       "11. 'Verwaltungs-, technisches und sonstiges Personal'\n",
       "12. <span style=white-space:pre-wrap>'  Hauptberufl. Verwaltungs-, techn. u.sonst.Personal'</span>\n",
       "13. <span style=white-space:pre-wrap>'    Verwaltungspersonal'</span>\n",
       "14. <span style=white-space:pre-wrap>'    Bibliothekspersonal'</span>\n",
       "15. <span style=white-space:pre-wrap>'    Technisches Personal'</span>\n",
       "16. <span style=white-space:pre-wrap>'    Sonstiges Personal'</span>\n",
       "17. <span style=white-space:pre-wrap>'    Pflegepersonal'</span>\n",
       "18. <span style=white-space:pre-wrap>'    Arbeiter'</span>\n",
       "19. <span style=white-space:pre-wrap>'    Auszubildende'</span>\n",
       "20. <span style=white-space:pre-wrap>'    Praktikanten'</span>\n",
       "21. <span style=white-space:pre-wrap>'    Sonstiges Personal fuer Lehre und Forschung'</span>\n",
       "22. <span style=white-space:pre-wrap>'    Leitungs- und Verwaltungspersonal'</span>\n",
       "23. <span style=white-space:pre-wrap>'  Nebenberufl. Verwaltungs-, techn. u.sonst.Personal'</span>\n",
       "24. <span style=white-space:pre-wrap>'    Sonstige Hilfskraefte'</span>\n",
       "25. <span style=white-space:pre-wrap>'    Zeitweilig Beschaeftigte'</span>\n",
       "26. 'Insgesamt'\n",
       "\n",
       "\n"
      ],
      "text/plain": [
       " [1] \"Wissenschaftliches und kuenstlerisches Personal\"     \n",
       " [2] \"  Hauptberufl. wissenschaftl. u. kuenstler. Personal\"\n",
       " [3] \"    Professoren\"                                     \n",
       " [4] \"    Dozenten und Assistenten\"                        \n",
       " [5] \"    Wissenschaftliche und kuenstlerische Mitarbeiter\"\n",
       " [6] \"    Lehrkraefte fuer besondere Aufgaben\"             \n",
       " [7] \"  Nebenberufl. wissenschaftl. u. kuenstler. Personal\"\n",
       " [8] \"    Gastprofessoren, Emeriti\"                        \n",
       " [9] \"    Lehrbeauftragte\"                                 \n",
       "[10] \"    Wissenschaftliche Hilfskraefte\"                  \n",
       "[11] \"Verwaltungs-, technisches und sonstiges Personal\"    \n",
       "[12] \"  Hauptberufl. Verwaltungs-, techn. u.sonst.Personal\"\n",
       "[13] \"    Verwaltungspersonal\"                             \n",
       "[14] \"    Bibliothekspersonal\"                             \n",
       "[15] \"    Technisches Personal\"                            \n",
       "[16] \"    Sonstiges Personal\"                              \n",
       "[17] \"    Pflegepersonal\"                                  \n",
       "[18] \"    Arbeiter\"                                        \n",
       "[19] \"    Auszubildende\"                                   \n",
       "[20] \"    Praktikanten\"                                    \n",
       "[21] \"    Sonstiges Personal fuer Lehre und Forschung\"     \n",
       "[22] \"    Leitungs- und Verwaltungspersonal\"               \n",
       "[23] \"  Nebenberufl. Verwaltungs-, techn. u.sonst.Personal\"\n",
       "[24] \"    Sonstige Hilfskraefte\"                           \n",
       "[25] \"    Zeitweilig Beschaeftigte\"                        \n",
       "[26] \"Insgesamt\"                                           "
      ]
     },
     "metadata": {},
     "output_type": "display_data"
    },
    {
     "data": {
      "text/html": [
       "<table class=\"dataframe\">\n",
       "<caption>A data.frame: 3 × 4</caption>\n",
       "<thead>\n",
       "\t<tr><th scope=col>Angestelltenverhaeltnis</th><th scope=col>Angestelltenzahl_2020</th><th scope=col>Personalkategorie</th><th scope=col>Art_der_Anstellung</th></tr>\n",
       "\t<tr><th scope=col>&lt;chr&gt;</th><th scope=col>&lt;int&gt;</th><th scope=col>&lt;chr&gt;</th><th scope=col>&lt;chr&gt;</th></tr>\n",
       "</thead>\n",
       "<tbody>\n",
       "\t<tr><td>    Dozenten und Assistenten</td><td>3728</td><td>Wissenschaftliches und künstlerisches Personal  </td><td>Hauptberuflich</td></tr>\n",
       "\t<tr><td>    Gastprofessoren, Emeriti</td><td>1793</td><td>Wissenschaftliches und künstlerisches Personal  </td><td>Nebenberuflich</td></tr>\n",
       "\t<tr><td>    Praktikanten            </td><td>2061</td><td>Verwaltungs-, technisches und sonstiges Personal</td><td>Hauptberuflich</td></tr>\n",
       "</tbody>\n",
       "</table>\n"
      ],
      "text/latex": [
       "A data.frame: 3 × 4\n",
       "\\begin{tabular}{llll}\n",
       " Angestelltenverhaeltnis & Angestelltenzahl\\_2020 & Personalkategorie & Art\\_der\\_Anstellung\\\\\n",
       " <chr> & <int> & <chr> & <chr>\\\\\n",
       "\\hline\n",
       "\t     Dozenten und Assistenten & 3728 & Wissenschaftliches und künstlerisches Personal   & Hauptberuflich\\\\\n",
       "\t     Gastprofessoren, Emeriti & 1793 & Wissenschaftliches und künstlerisches Personal   & Nebenberuflich\\\\\n",
       "\t     Praktikanten             & 2061 & Verwaltungs-, technisches und sonstiges Personal & Hauptberuflich\\\\\n",
       "\\end{tabular}\n"
      ],
      "text/markdown": [
       "\n",
       "A data.frame: 3 × 4\n",
       "\n",
       "| Angestelltenverhaeltnis &lt;chr&gt; | Angestelltenzahl_2020 &lt;int&gt; | Personalkategorie &lt;chr&gt; | Art_der_Anstellung &lt;chr&gt; |\n",
       "|---|---|---|---|\n",
       "|     Dozenten und Assistenten | 3728 | Wissenschaftliches und künstlerisches Personal   | Hauptberuflich |\n",
       "|     Gastprofessoren, Emeriti | 1793 | Wissenschaftliches und künstlerisches Personal   | Nebenberuflich |\n",
       "|     Praktikanten             | 2061 | Verwaltungs-, technisches und sonstiges Personal | Hauptberuflich |\n",
       "\n"
      ],
      "text/plain": [
       "  Angestelltenverhaeltnis      Angestelltenzahl_2020\n",
       "1     Dozenten und Assistenten 3728                 \n",
       "2     Gastprofessoren, Emeriti 1793                 \n",
       "3     Praktikanten             2061                 \n",
       "  Personalkategorie                                Art_der_Anstellung\n",
       "1 Wissenschaftliches und künstlerisches Personal   Hauptberuflich    \n",
       "2 Wissenschaftliches und künstlerisches Personal   Nebenberuflich    \n",
       "3 Verwaltungs-, technisches und sonstiges Personal Hauptberuflich    "
      ]
     },
     "metadata": {},
     "output_type": "display_data"
    },
    {
     "data": {
      "text/html": [
       "<table class=\"dataframe\">\n",
       "<caption>A data.frame: 10 × 5</caption>\n",
       "<thead>\n",
       "\t<tr><th scope=col>Angestelltenverhaeltnis</th><th scope=col>Geschlecht</th><th scope=col>Angestelltenzahl_2020</th><th scope=col>Personalkategorie</th><th scope=col>Art_der_Anstellung</th></tr>\n",
       "\t<tr><th scope=col>&lt;chr&gt;</th><th scope=col>&lt;chr&gt;</th><th scope=col>&lt;int&gt;</th><th scope=col>&lt;chr&gt;</th><th scope=col>&lt;chr&gt;</th></tr>\n",
       "</thead>\n",
       "<tbody>\n",
       "\t<tr><td>Wissenschaftliches und kuenstlerisches Personal     </td><td>weiblich</td><td>167112</td><td>Wissenschaftliches und künstlerisches Personal</td><td>Insgesamt     </td></tr>\n",
       "\t<tr><td>  Hauptberufl. wissenschaftl. u. kuenstler. Personal</td><td>weiblich</td><td>109708</td><td>Wissenschaftliches und künstlerisches Personal</td><td>Hauptberuflich</td></tr>\n",
       "\t<tr><td>    Professoren                                     </td><td>weiblich</td><td> 12949</td><td>Wissenschaftliches und künstlerisches Personal</td><td>Hauptberuflich</td></tr>\n",
       "\t<tr><td>    Dozenten und Assistenten                        </td><td>weiblich</td><td>  1546</td><td>Wissenschaftliches und künstlerisches Personal</td><td>Hauptberuflich</td></tr>\n",
       "\t<tr><td>    Wissenschaftliche und kuenstlerische Mitarbeiter</td><td>weiblich</td><td> 89383</td><td>Wissenschaftliches und künstlerisches Personal</td><td>Hauptberuflich</td></tr>\n",
       "\t<tr><td>    Lehrkraefte fuer besondere Aufgaben             </td><td>weiblich</td><td>  5830</td><td>Wissenschaftliches und künstlerisches Personal</td><td>Hauptberuflich</td></tr>\n",
       "\t<tr><td>  Nebenberufl. wissenschaftl. u. kuenstler. Personal</td><td>weiblich</td><td> 57404</td><td>Wissenschaftliches und künstlerisches Personal</td><td>Nebenberuflich</td></tr>\n",
       "\t<tr><td>    Gastprofessoren, Emeriti                        </td><td>weiblich</td><td>   259</td><td>Wissenschaftliches und künstlerisches Personal</td><td>Nebenberuflich</td></tr>\n",
       "\t<tr><td>    Lehrbeauftragte                                 </td><td>weiblich</td><td> 35238</td><td>Wissenschaftliches und künstlerisches Personal</td><td>Nebenberuflich</td></tr>\n",
       "\t<tr><td>    Wissenschaftliche Hilfskraefte                  </td><td>weiblich</td><td> 21907</td><td>Wissenschaftliches und künstlerisches Personal</td><td>Nebenberuflich</td></tr>\n",
       "</tbody>\n",
       "</table>\n"
      ],
      "text/latex": [
       "A data.frame: 10 × 5\n",
       "\\begin{tabular}{lllll}\n",
       " Angestelltenverhaeltnis & Geschlecht & Angestelltenzahl\\_2020 & Personalkategorie & Art\\_der\\_Anstellung\\\\\n",
       " <chr> & <chr> & <int> & <chr> & <chr>\\\\\n",
       "\\hline\n",
       "\t Wissenschaftliches und kuenstlerisches Personal      & weiblich & 167112 & Wissenschaftliches und künstlerisches Personal & Insgesamt     \\\\\n",
       "\t   Hauptberufl. wissenschaftl. u. kuenstler. Personal & weiblich & 109708 & Wissenschaftliches und künstlerisches Personal & Hauptberuflich\\\\\n",
       "\t     Professoren                                      & weiblich &  12949 & Wissenschaftliches und künstlerisches Personal & Hauptberuflich\\\\\n",
       "\t     Dozenten und Assistenten                         & weiblich &   1546 & Wissenschaftliches und künstlerisches Personal & Hauptberuflich\\\\\n",
       "\t     Wissenschaftliche und kuenstlerische Mitarbeiter & weiblich &  89383 & Wissenschaftliches und künstlerisches Personal & Hauptberuflich\\\\\n",
       "\t     Lehrkraefte fuer besondere Aufgaben              & weiblich &   5830 & Wissenschaftliches und künstlerisches Personal & Hauptberuflich\\\\\n",
       "\t   Nebenberufl. wissenschaftl. u. kuenstler. Personal & weiblich &  57404 & Wissenschaftliches und künstlerisches Personal & Nebenberuflich\\\\\n",
       "\t     Gastprofessoren, Emeriti                         & weiblich &    259 & Wissenschaftliches und künstlerisches Personal & Nebenberuflich\\\\\n",
       "\t     Lehrbeauftragte                                  & weiblich &  35238 & Wissenschaftliches und künstlerisches Personal & Nebenberuflich\\\\\n",
       "\t     Wissenschaftliche Hilfskraefte                   & weiblich &  21907 & Wissenschaftliches und künstlerisches Personal & Nebenberuflich\\\\\n",
       "\\end{tabular}\n"
      ],
      "text/markdown": [
       "\n",
       "A data.frame: 10 × 5\n",
       "\n",
       "| Angestelltenverhaeltnis &lt;chr&gt; | Geschlecht &lt;chr&gt; | Angestelltenzahl_2020 &lt;int&gt; | Personalkategorie &lt;chr&gt; | Art_der_Anstellung &lt;chr&gt; |\n",
       "|---|---|---|---|---|\n",
       "| Wissenschaftliches und kuenstlerisches Personal      | weiblich | 167112 | Wissenschaftliches und künstlerisches Personal | Insgesamt      |\n",
       "|   Hauptberufl. wissenschaftl. u. kuenstler. Personal | weiblich | 109708 | Wissenschaftliches und künstlerisches Personal | Hauptberuflich |\n",
       "|     Professoren                                      | weiblich |  12949 | Wissenschaftliches und künstlerisches Personal | Hauptberuflich |\n",
       "|     Dozenten und Assistenten                         | weiblich |   1546 | Wissenschaftliches und künstlerisches Personal | Hauptberuflich |\n",
       "|     Wissenschaftliche und kuenstlerische Mitarbeiter | weiblich |  89383 | Wissenschaftliches und künstlerisches Personal | Hauptberuflich |\n",
       "|     Lehrkraefte fuer besondere Aufgaben              | weiblich |   5830 | Wissenschaftliches und künstlerisches Personal | Hauptberuflich |\n",
       "|   Nebenberufl. wissenschaftl. u. kuenstler. Personal | weiblich |  57404 | Wissenschaftliches und künstlerisches Personal | Nebenberuflich |\n",
       "|     Gastprofessoren, Emeriti                         | weiblich |    259 | Wissenschaftliches und künstlerisches Personal | Nebenberuflich |\n",
       "|     Lehrbeauftragte                                  | weiblich |  35238 | Wissenschaftliches und künstlerisches Personal | Nebenberuflich |\n",
       "|     Wissenschaftliche Hilfskraefte                   | weiblich |  21907 | Wissenschaftliches und künstlerisches Personal | Nebenberuflich |\n",
       "\n"
      ],
      "text/plain": [
       "   Angestelltenverhaeltnis                              Geschlecht\n",
       "1  Wissenschaftliches und kuenstlerisches Personal      weiblich  \n",
       "2    Hauptberufl. wissenschaftl. u. kuenstler. Personal weiblich  \n",
       "3      Professoren                                      weiblich  \n",
       "4      Dozenten und Assistenten                         weiblich  \n",
       "5      Wissenschaftliche und kuenstlerische Mitarbeiter weiblich  \n",
       "6      Lehrkraefte fuer besondere Aufgaben              weiblich  \n",
       "7    Nebenberufl. wissenschaftl. u. kuenstler. Personal weiblich  \n",
       "8      Gastprofessoren, Emeriti                         weiblich  \n",
       "9      Lehrbeauftragte                                  weiblich  \n",
       "10     Wissenschaftliche Hilfskraefte                   weiblich  \n",
       "   Angestelltenzahl_2020 Personalkategorie                             \n",
       "1  167112                Wissenschaftliches und künstlerisches Personal\n",
       "2  109708                Wissenschaftliches und künstlerisches Personal\n",
       "3   12949                Wissenschaftliches und künstlerisches Personal\n",
       "4    1546                Wissenschaftliches und künstlerisches Personal\n",
       "5   89383                Wissenschaftliches und künstlerisches Personal\n",
       "6    5830                Wissenschaftliches und künstlerisches Personal\n",
       "7   57404                Wissenschaftliches und künstlerisches Personal\n",
       "8     259                Wissenschaftliches und künstlerisches Personal\n",
       "9   35238                Wissenschaftliches und künstlerisches Personal\n",
       "10  21907                Wissenschaftliches und künstlerisches Personal\n",
       "   Art_der_Anstellung\n",
       "1  Insgesamt         \n",
       "2  Hauptberuflich    \n",
       "3  Hauptberuflich    \n",
       "4  Hauptberuflich    \n",
       "5  Hauptberuflich    \n",
       "6  Hauptberuflich    \n",
       "7  Nebenberuflich    \n",
       "8  Nebenberuflich    \n",
       "9  Nebenberuflich    \n",
       "10 Nebenberuflich    "
      ]
     },
     "metadata": {},
     "output_type": "display_data"
    },
    {
     "data": {
      "text/html": [
       "<table class=\"dataframe\">\n",
       "<caption>A data.frame: 1 × 5</caption>\n",
       "<thead>\n",
       "\t<tr><th scope=col>Angestelltenverhaeltnis</th><th scope=col>Geschlecht</th><th scope=col>Angestelltenzahl_2020</th><th scope=col>Personalkategorie</th><th scope=col>Art_der_Anstellung</th></tr>\n",
       "\t<tr><th scope=col>&lt;chr&gt;</th><th scope=col>&lt;chr&gt;</th><th scope=col>&lt;int&gt;</th><th scope=col>&lt;chr&gt;</th><th scope=col>&lt;chr&gt;</th></tr>\n",
       "</thead>\n",
       "<tbody>\n",
       "\t<tr><td>    Gastprofessoren, Emeriti</td><td>weiblich</td><td>259</td><td>Wissenschaftliches und künstlerisches Personal</td><td>Nebenberuflich</td></tr>\n",
       "</tbody>\n",
       "</table>\n"
      ],
      "text/latex": [
       "A data.frame: 1 × 5\n",
       "\\begin{tabular}{lllll}\n",
       " Angestelltenverhaeltnis & Geschlecht & Angestelltenzahl\\_2020 & Personalkategorie & Art\\_der\\_Anstellung\\\\\n",
       " <chr> & <chr> & <int> & <chr> & <chr>\\\\\n",
       "\\hline\n",
       "\t     Gastprofessoren, Emeriti & weiblich & 259 & Wissenschaftliches und künstlerisches Personal & Nebenberuflich\\\\\n",
       "\\end{tabular}\n"
      ],
      "text/markdown": [
       "\n",
       "A data.frame: 1 × 5\n",
       "\n",
       "| Angestelltenverhaeltnis &lt;chr&gt; | Geschlecht &lt;chr&gt; | Angestelltenzahl_2020 &lt;int&gt; | Personalkategorie &lt;chr&gt; | Art_der_Anstellung &lt;chr&gt; |\n",
       "|---|---|---|---|---|\n",
       "|     Gastprofessoren, Emeriti | weiblich | 259 | Wissenschaftliches und künstlerisches Personal | Nebenberuflich |\n",
       "\n"
      ],
      "text/plain": [
       "  Angestelltenverhaeltnis      Geschlecht Angestelltenzahl_2020\n",
       "1     Gastprofessoren, Emeriti weiblich   259                  \n",
       "  Personalkategorie                              Art_der_Anstellung\n",
       "1 Wissenschaftliches und künstlerisches Personal Nebenberuflich    "
      ]
     },
     "metadata": {},
     "output_type": "display_data"
    },
    {
     "data": {
      "text/html": [
       "<table class=\"dataframe\">\n",
       "<caption>A data.frame: 3 × 5</caption>\n",
       "<thead>\n",
       "\t<tr><th scope=col>Angestelltenverhaeltnis</th><th scope=col>Geschlecht</th><th scope=col>Angestelltenzahl_2020</th><th scope=col>Personalkategorie</th><th scope=col>Art_der_Anstellung</th></tr>\n",
       "\t<tr><th scope=col>&lt;chr&gt;</th><th scope=col>&lt;chr&gt;</th><th scope=col>&lt;int&gt;</th><th scope=col>&lt;chr&gt;</th><th scope=col>&lt;chr&gt;</th></tr>\n",
       "</thead>\n",
       "<tbody>\n",
       "\t<tr><td>Professoren</td><td>maennlich</td><td>36344</td><td>Wissenschaftliches und künstlerisches Personal</td><td>Hauptberuflich</td></tr>\n",
       "\t<tr><td>Professoren</td><td>weiblich </td><td>12949</td><td>Wissenschaftliches und künstlerisches Personal</td><td>Hauptberuflich</td></tr>\n",
       "\t<tr><td>Professoren</td><td>Insgesamt</td><td>49293</td><td>Wissenschaftliches und künstlerisches Personal</td><td>Hauptberuflich</td></tr>\n",
       "</tbody>\n",
       "</table>\n"
      ],
      "text/latex": [
       "A data.frame: 3 × 5\n",
       "\\begin{tabular}{lllll}\n",
       " Angestelltenverhaeltnis & Geschlecht & Angestelltenzahl\\_2020 & Personalkategorie & Art\\_der\\_Anstellung\\\\\n",
       " <chr> & <chr> & <int> & <chr> & <chr>\\\\\n",
       "\\hline\n",
       "\t Professoren & maennlich & 36344 & Wissenschaftliches und künstlerisches Personal & Hauptberuflich\\\\\n",
       "\t Professoren & weiblich  & 12949 & Wissenschaftliches und künstlerisches Personal & Hauptberuflich\\\\\n",
       "\t Professoren & Insgesamt & 49293 & Wissenschaftliches und künstlerisches Personal & Hauptberuflich\\\\\n",
       "\\end{tabular}\n"
      ],
      "text/markdown": [
       "\n",
       "A data.frame: 3 × 5\n",
       "\n",
       "| Angestelltenverhaeltnis &lt;chr&gt; | Geschlecht &lt;chr&gt; | Angestelltenzahl_2020 &lt;int&gt; | Personalkategorie &lt;chr&gt; | Art_der_Anstellung &lt;chr&gt; |\n",
       "|---|---|---|---|---|\n",
       "| Professoren | maennlich | 36344 | Wissenschaftliches und künstlerisches Personal | Hauptberuflich |\n",
       "| Professoren | weiblich  | 12949 | Wissenschaftliches und künstlerisches Personal | Hauptberuflich |\n",
       "| Professoren | Insgesamt | 49293 | Wissenschaftliches und künstlerisches Personal | Hauptberuflich |\n",
       "\n"
      ],
      "text/plain": [
       "  Angestelltenverhaeltnis Geschlecht Angestelltenzahl_2020\n",
       "1 Professoren             maennlich  36344                \n",
       "2 Professoren             weiblich   12949                \n",
       "3 Professoren             Insgesamt  49293                \n",
       "  Personalkategorie                              Art_der_Anstellung\n",
       "1 Wissenschaftliches und künstlerisches Personal Hauptberuflich    \n",
       "2 Wissenschaftliches und künstlerisches Personal Hauptberuflich    \n",
       "3 Wissenschaftliches und künstlerisches Personal Hauptberuflich    "
      ]
     },
     "metadata": {},
     "output_type": "display_data"
    }
   ],
   "source": [
    "#TidyVerse Package Installation\n",
    "install.packages(\"tidyverse\")\n",
    "library(tidyverse)\n",
    "\n",
    "#Daten einlesen\n",
    "data_csv_clean <- read.csv2(\"Data/21341-0001_F_2020.csv\", header = FALSE, encoding = \"latin1\")\n",
    "\n",
    "#Umlaute entfernen\n",
    "data_csv_clean$V1 <- str_replace_all(data_csv_clean$V1, c(\"ä\" = \"ae\", \"ö\" = \"oe\", \"ü\" =\"ue\", \"ß\" =\"ss\"))\n",
    "data_csv_clean$V2 <- str_replace_all(data_csv_clean$V2, c(\"ä\" = \"ae\", \"ö\" = \"oe\", \"ü\" =\"ue\", \"ß\" =\"ss\"))\n",
    "\n",
    "#Tabelle unterteilen\n",
    "Metadaten <- data_csv_clean[c(1:6, 87:88), 1]\n",
    "Tabellendaten <- data_csv_clean[8:85, 1:3]\n",
    "\n",
    "#Spaltenüberschriften setzen\n",
    "colnames(Tabellendaten) <- c(\"Angestelltenverhaeltnis\", \"Geschlecht\", \"Angestelltenzahl_2020\")\n",
    "\n",
    "#Nummerierung neu setzen\n",
    "row.names(Tabellendaten) <- 1:78\n",
    "\n",
    "#Variablenklassen ändern\n",
    "Tabellendaten$Angestelltenzahl_2020 <- as.integer(Tabellendaten$Angestelltenzahl_2020)\n",
    "\n",
    "#Maximalwert anzeigen lassen\n",
    "max(Tabellendaten$Angestelltenzahl_2020, na.rm = TRUE)\n",
    "\n",
    "#Variablen sichten\n",
    "unique(Tabellendaten$Angestelltenverhaeltnis)\n",
    "\n",
    "#Neue Variablen erstellen\n",
    "#1.Ebene: Neue Variable \"Personalkategorie\"\n",
    "Tabellendaten$Personalkategorie <- c(NA)\n",
    "#2.Ebene: Neue Variable \"Art der Anstellung\"\n",
    "Tabellendaten$Art_der_Anstellung <- c(NA)\n",
    "\n",
    "#Einpflegen des Variableninhalts\n",
    "#1.Ebene\n",
    "Tabellendaten$Personalkategorie[76:78] <- \"Insgesamt\"\n",
    "Tabellendaten$Personalkategorie[1:30] <- \"Wissenschaftliches und künstlerisches Personal\"\n",
    "Tabellendaten$Personalkategorie[31:75] <- \"Verwaltungs-, technisches und sonstiges Personal\"\n",
    "#2.Ebene\n",
    "Tabellendaten$Art_der_Anstellung[c(1:3, 31:33, 76:78)] <- \"Insgesamt\"\n",
    "Tabellendaten$Art_der_Anstellung[c(4:18,34:66)] <- \"Hauptberuflich\"\n",
    "Tabellendaten$Art_der_Anstellung[c(19:30,67:75)] <- \"Nebenberuflich\"\n",
    "\n",
    "#Unterkategorisieren\n",
    "#Geschlecht\n",
    "Tabelle_maennlich <- subset(Tabellendaten, Geschlecht == \"maennlich\")\n",
    "Tabelle_weiblich <- subset(Tabellendaten, Geschlecht == \"weiblich\")\n",
    "Tabelle_Insgesamt <- subset(Tabellendaten, Geschlecht == \"Insgesamt\")\n",
    "\n",
    "#Redundante Tabelle entfernen\n",
    "Tabelle_Insgesamt <- subset(Tabelle_Insgesamt, select= c(-Geschlecht))\n",
    "\n",
    "#Tabellendaten filtern\n",
    "#Nach Angestelltenzahl unter 5000 filtern\n",
    "filter(Tabelle_Insgesamt, Tabelle_Insgesamt$Angestelltenzahl_2020 <= 5000)\n",
    "#Nach weiblichen Wiss.& Künstl.Personal filtern\n",
    "filter(Tabellendaten, Tabellendaten$Personalkategorie == \"Wissenschaftliches und künstlerisches Personal\" & Tabellendaten$Geschlecht == \"weiblich\" )\n",
    "#Filtern nach niedrigstem Wert\n",
    "filter(Tabellendaten, Tabellendaten$Angestelltenzahl_2020 == min(Tabellendaten$Angestelltenzahl_2020, na.rm = TRUE))\n",
    "\n",
    "#Fehlerbehebung Leerzeichen entfernen\n",
    "Tabellendaten$Angestelltenverhaeltnis <- trimws(Tabellendaten$Angestelltenverhaeltnis)\n",
    "\n",
    "#Filter nach 'Professoren'\n",
    "filter(Tabellendaten, Tabellendaten$Angestelltenverhaeltnis == \"Professoren\")\n",
    "\n",
    "#Sortieren von Tabellendaten\n",
    "Tabelle_Insgesamt_Sortiert <- Tabelle_Insgesamt[order(Tabelle_Insgesamt$Angestelltenzahl_2020, decreasing = TRUE),]"
   ]
  },
  {
   "cell_type": "code",
   "execution_count": 2,
   "id": "ecb4a2d3",
   "metadata": {
    "vscode": {
     "languageId": "r"
    }
   },
   "outputs": [
    {
     "data": {
      "text/html": [
       "<table class=\"dataframe\">\n",
       "<caption>A data.frame: 6 × 5</caption>\n",
       "<thead>\n",
       "\t<tr><th></th><th scope=col>Angestelltenverhaeltnis</th><th scope=col>Geschlecht</th><th scope=col>Angestelltenzahl_2020</th><th scope=col>Personalkategorie</th><th scope=col>Art_der_Anstellung</th></tr>\n",
       "\t<tr><th></th><th scope=col>&lt;chr&gt;</th><th scope=col>&lt;chr&gt;</th><th scope=col>&lt;int&gt;</th><th scope=col>&lt;chr&gt;</th><th scope=col>&lt;chr&gt;</th></tr>\n",
       "</thead>\n",
       "<tbody>\n",
       "\t<tr><th scope=row>1</th><td>Wissenschaftliches und kuenstlerisches Personal   </td><td>maennlich</td><td>247720</td><td>Wissenschaftliches und künstlerisches Personal</td><td>Insgesamt     </td></tr>\n",
       "\t<tr><th scope=row>2</th><td>Wissenschaftliches und kuenstlerisches Personal   </td><td>weiblich </td><td>167112</td><td>Wissenschaftliches und künstlerisches Personal</td><td>Insgesamt     </td></tr>\n",
       "\t<tr><th scope=row>3</th><td>Wissenschaftliches und kuenstlerisches Personal   </td><td>Insgesamt</td><td>414832</td><td>Wissenschaftliches und künstlerisches Personal</td><td>Insgesamt     </td></tr>\n",
       "\t<tr><th scope=row>4</th><td>Hauptberufl. wissenschaftl. u. kuenstler. Personal</td><td>maennlich</td><td>159567</td><td>Wissenschaftliches und künstlerisches Personal</td><td>Hauptberuflich</td></tr>\n",
       "\t<tr><th scope=row>5</th><td>Hauptberufl. wissenschaftl. u. kuenstler. Personal</td><td>weiblich </td><td>109708</td><td>Wissenschaftliches und künstlerisches Personal</td><td>Hauptberuflich</td></tr>\n",
       "\t<tr><th scope=row>6</th><td>Hauptberufl. wissenschaftl. u. kuenstler. Personal</td><td>Insgesamt</td><td>269275</td><td>Wissenschaftliches und künstlerisches Personal</td><td>Hauptberuflich</td></tr>\n",
       "</tbody>\n",
       "</table>\n"
      ],
      "text/latex": [
       "A data.frame: 6 × 5\n",
       "\\begin{tabular}{r|lllll}\n",
       "  & Angestelltenverhaeltnis & Geschlecht & Angestelltenzahl\\_2020 & Personalkategorie & Art\\_der\\_Anstellung\\\\\n",
       "  & <chr> & <chr> & <int> & <chr> & <chr>\\\\\n",
       "\\hline\n",
       "\t1 & Wissenschaftliches und kuenstlerisches Personal    & maennlich & 247720 & Wissenschaftliches und künstlerisches Personal & Insgesamt     \\\\\n",
       "\t2 & Wissenschaftliches und kuenstlerisches Personal    & weiblich  & 167112 & Wissenschaftliches und künstlerisches Personal & Insgesamt     \\\\\n",
       "\t3 & Wissenschaftliches und kuenstlerisches Personal    & Insgesamt & 414832 & Wissenschaftliches und künstlerisches Personal & Insgesamt     \\\\\n",
       "\t4 & Hauptberufl. wissenschaftl. u. kuenstler. Personal & maennlich & 159567 & Wissenschaftliches und künstlerisches Personal & Hauptberuflich\\\\\n",
       "\t5 & Hauptberufl. wissenschaftl. u. kuenstler. Personal & weiblich  & 109708 & Wissenschaftliches und künstlerisches Personal & Hauptberuflich\\\\\n",
       "\t6 & Hauptberufl. wissenschaftl. u. kuenstler. Personal & Insgesamt & 269275 & Wissenschaftliches und künstlerisches Personal & Hauptberuflich\\\\\n",
       "\\end{tabular}\n"
      ],
      "text/markdown": [
       "\n",
       "A data.frame: 6 × 5\n",
       "\n",
       "| <!--/--> | Angestelltenverhaeltnis &lt;chr&gt; | Geschlecht &lt;chr&gt; | Angestelltenzahl_2020 &lt;int&gt; | Personalkategorie &lt;chr&gt; | Art_der_Anstellung &lt;chr&gt; |\n",
       "|---|---|---|---|---|---|\n",
       "| 1 | Wissenschaftliches und kuenstlerisches Personal    | maennlich | 247720 | Wissenschaftliches und künstlerisches Personal | Insgesamt      |\n",
       "| 2 | Wissenschaftliches und kuenstlerisches Personal    | weiblich  | 167112 | Wissenschaftliches und künstlerisches Personal | Insgesamt      |\n",
       "| 3 | Wissenschaftliches und kuenstlerisches Personal    | Insgesamt | 414832 | Wissenschaftliches und künstlerisches Personal | Insgesamt      |\n",
       "| 4 | Hauptberufl. wissenschaftl. u. kuenstler. Personal | maennlich | 159567 | Wissenschaftliches und künstlerisches Personal | Hauptberuflich |\n",
       "| 5 | Hauptberufl. wissenschaftl. u. kuenstler. Personal | weiblich  | 109708 | Wissenschaftliches und künstlerisches Personal | Hauptberuflich |\n",
       "| 6 | Hauptberufl. wissenschaftl. u. kuenstler. Personal | Insgesamt | 269275 | Wissenschaftliches und künstlerisches Personal | Hauptberuflich |\n",
       "\n"
      ],
      "text/plain": [
       "  Angestelltenverhaeltnis                            Geschlecht\n",
       "1 Wissenschaftliches und kuenstlerisches Personal    maennlich \n",
       "2 Wissenschaftliches und kuenstlerisches Personal    weiblich  \n",
       "3 Wissenschaftliches und kuenstlerisches Personal    Insgesamt \n",
       "4 Hauptberufl. wissenschaftl. u. kuenstler. Personal maennlich \n",
       "5 Hauptberufl. wissenschaftl. u. kuenstler. Personal weiblich  \n",
       "6 Hauptberufl. wissenschaftl. u. kuenstler. Personal Insgesamt \n",
       "  Angestelltenzahl_2020 Personalkategorie                             \n",
       "1 247720                Wissenschaftliches und künstlerisches Personal\n",
       "2 167112                Wissenschaftliches und künstlerisches Personal\n",
       "3 414832                Wissenschaftliches und künstlerisches Personal\n",
       "4 159567                Wissenschaftliches und künstlerisches Personal\n",
       "5 109708                Wissenschaftliches und künstlerisches Personal\n",
       "6 269275                Wissenschaftliches und künstlerisches Personal\n",
       "  Art_der_Anstellung\n",
       "1 Insgesamt         \n",
       "2 Insgesamt         \n",
       "3 Insgesamt         \n",
       "4 Hauptberuflich    \n",
       "5 Hauptberuflich    \n",
       "6 Hauptberuflich    "
      ]
     },
     "metadata": {},
     "output_type": "display_data"
    }
   ],
   "source": [
    "head(Tabellendaten)"
   ]
  },
  {
   "cell_type": "markdown",
   "id": "504e4777",
   "metadata": {},
   "source": [
    "#### Aufbau des Kreisdiagramms \n",
    "\n",
    "```{figure} _images/Abb_H1-3_fokus.png\n",
    "---\n",
    "name: fig-wissenschaftliches-personal-fokus\n",
    "alt: Abbildung von Kreisdiagrammen mit Hervorhebung des Diagramms zu Personal an Hochschulen insgesamt.\n",
    "---\n",
    "Das zu reproduzierende Kreisdiagramm aus dem Bildungsbericht 2022.\n",
    "```\n",
    "\n",
    "Um das Kreisdiagramm reproduzieren zu können, müssen Sie zunächst die einzelnen Bestandteile verstehen.\n",
    "Das Diagramm unterteilt in die folgenden drei Personalgruppen: \n",
    "\n",
    "- Professor:innen\n",
    "- Wissenschaftliche und künstlerische Mitarbeiter:innen \n",
    "- Nebenberufliche Mitarbeiter:innen\n",
    "\n",
    "Zu diesen Personalgruppen werden jeweils die absoluten Beschäftigungszahlen und der jeweilige prozentuale Anteil zur Gesamtsumme für das Jahr 2020 \n",
    "angegeben.\n",
    "\n",
    "*Lesebeispiel: Im Jahr 2020 waren insgesamt 49.293 Professor:innen an Universitäten und Fachhochschulen in Deutschland angestellt.*\n"
   ]
  },
  {
   "cell_type": "markdown",
   "id": "825494eb",
   "metadata": {},
   "source": [
    "#### Einzelne Datenwerte finden\n",
    "Zur eigenständigen Erstellung des Kreisdiagramms müssen Sie nun die absoluten Beschäftigungszahlen in Ihren Tabellendaten finden. \n",
    "Hierzu bietet sich das Suchen mittels der `filter()`-Funktion an, welche zum Ende der letzten Übung thematisiert wurde.\n",
    "\n",
    "Filtern nach Professoren: "
   ]
  },
  {
   "cell_type": "code",
   "execution_count": 3,
   "id": "a6d2eeef",
   "metadata": {
    "vscode": {
     "languageId": "r"
    }
   },
   "outputs": [
    {
     "data": {
      "text/html": [
       "<table class=\"dataframe\">\n",
       "<caption>A data.frame: 1 × 5</caption>\n",
       "<thead>\n",
       "\t<tr><th scope=col>Angestelltenverhaeltnis</th><th scope=col>Geschlecht</th><th scope=col>Angestelltenzahl_2020</th><th scope=col>Personalkategorie</th><th scope=col>Art_der_Anstellung</th></tr>\n",
       "\t<tr><th scope=col>&lt;chr&gt;</th><th scope=col>&lt;chr&gt;</th><th scope=col>&lt;int&gt;</th><th scope=col>&lt;chr&gt;</th><th scope=col>&lt;chr&gt;</th></tr>\n",
       "</thead>\n",
       "<tbody>\n",
       "\t<tr><td>Professoren</td><td>Insgesamt</td><td>49293</td><td>Wissenschaftliches und künstlerisches Personal</td><td>Hauptberuflich</td></tr>\n",
       "</tbody>\n",
       "</table>\n"
      ],
      "text/latex": [
       "A data.frame: 1 × 5\n",
       "\\begin{tabular}{lllll}\n",
       " Angestelltenverhaeltnis & Geschlecht & Angestelltenzahl\\_2020 & Personalkategorie & Art\\_der\\_Anstellung\\\\\n",
       " <chr> & <chr> & <int> & <chr> & <chr>\\\\\n",
       "\\hline\n",
       "\t Professoren & Insgesamt & 49293 & Wissenschaftliches und künstlerisches Personal & Hauptberuflich\\\\\n",
       "\\end{tabular}\n"
      ],
      "text/markdown": [
       "\n",
       "A data.frame: 1 × 5\n",
       "\n",
       "| Angestelltenverhaeltnis &lt;chr&gt; | Geschlecht &lt;chr&gt; | Angestelltenzahl_2020 &lt;int&gt; | Personalkategorie &lt;chr&gt; | Art_der_Anstellung &lt;chr&gt; |\n",
       "|---|---|---|---|---|\n",
       "| Professoren | Insgesamt | 49293 | Wissenschaftliches und künstlerisches Personal | Hauptberuflich |\n",
       "\n"
      ],
      "text/plain": [
       "  Angestelltenverhaeltnis Geschlecht Angestelltenzahl_2020\n",
       "1 Professoren             Insgesamt  49293                \n",
       "  Personalkategorie                              Art_der_Anstellung\n",
       "1 Wissenschaftliches und künstlerisches Personal Hauptberuflich    "
      ]
     },
     "metadata": {},
     "output_type": "display_data"
    }
   ],
   "source": [
    "filter(Tabellendaten, Tabellendaten$Angestelltenverhaeltnis == \"Professoren\" & Tabellendaten$Geschlecht == \"Insgesamt\")"
   ]
  },
  {
   "cell_type": "markdown",
   "id": "16f8a694",
   "metadata": {},
   "source": [
    "Wie Sie erkennen können, stimmt die Angestelltenzahl von 49293 mit der aus dem Kreisdiagramm überein.\n",
    "Diese Ausgabe können Sie sich nun abspeichern."
   ]
  },
  {
   "cell_type": "code",
   "execution_count": 4,
   "id": "85f3015c",
   "metadata": {
    "vscode": {
     "languageId": "r"
    }
   },
   "outputs": [],
   "source": [
    "Professoren_Insgesamt <- filter(Tabellendaten, Tabellendaten$Angestelltenverhaeltnis == \"Professoren\" & Tabellendaten$Geschlecht == \"Insgesamt\")"
   ]
  },
  {
   "cell_type": "markdown",
   "id": "efb83baa",
   "metadata": {},
   "source": [
    "Für Nebenberufliche Mitarbeiter:innen gehen Sie analog vor:"
   ]
  },
  {
   "cell_type": "code",
   "execution_count": 5,
   "id": "86a63ded",
   "metadata": {
    "vscode": {
     "languageId": "r"
    }
   },
   "outputs": [
    {
     "data": {
      "text/html": [
       "<table class=\"dataframe\">\n",
       "<caption>A data.frame: 1 × 5</caption>\n",
       "<thead>\n",
       "\t<tr><th scope=col>Angestelltenverhaeltnis</th><th scope=col>Geschlecht</th><th scope=col>Angestelltenzahl_2020</th><th scope=col>Personalkategorie</th><th scope=col>Art_der_Anstellung</th></tr>\n",
       "\t<tr><th scope=col>&lt;chr&gt;</th><th scope=col>&lt;chr&gt;</th><th scope=col>&lt;int&gt;</th><th scope=col>&lt;chr&gt;</th><th scope=col>&lt;chr&gt;</th></tr>\n",
       "</thead>\n",
       "<tbody>\n",
       "\t<tr><td>Nebenberufl. wissenschaftl. u. kuenstler. Personal</td><td>Insgesamt</td><td>145557</td><td>Wissenschaftliches und künstlerisches Personal</td><td>Nebenberuflich</td></tr>\n",
       "</tbody>\n",
       "</table>\n"
      ],
      "text/latex": [
       "A data.frame: 1 × 5\n",
       "\\begin{tabular}{lllll}\n",
       " Angestelltenverhaeltnis & Geschlecht & Angestelltenzahl\\_2020 & Personalkategorie & Art\\_der\\_Anstellung\\\\\n",
       " <chr> & <chr> & <int> & <chr> & <chr>\\\\\n",
       "\\hline\n",
       "\t Nebenberufl. wissenschaftl. u. kuenstler. Personal & Insgesamt & 145557 & Wissenschaftliches und künstlerisches Personal & Nebenberuflich\\\\\n",
       "\\end{tabular}\n"
      ],
      "text/markdown": [
       "\n",
       "A data.frame: 1 × 5\n",
       "\n",
       "| Angestelltenverhaeltnis &lt;chr&gt; | Geschlecht &lt;chr&gt; | Angestelltenzahl_2020 &lt;int&gt; | Personalkategorie &lt;chr&gt; | Art_der_Anstellung &lt;chr&gt; |\n",
       "|---|---|---|---|---|\n",
       "| Nebenberufl. wissenschaftl. u. kuenstler. Personal | Insgesamt | 145557 | Wissenschaftliches und künstlerisches Personal | Nebenberuflich |\n",
       "\n"
      ],
      "text/plain": [
       "  Angestelltenverhaeltnis                            Geschlecht\n",
       "1 Nebenberufl. wissenschaftl. u. kuenstler. Personal Insgesamt \n",
       "  Angestelltenzahl_2020 Personalkategorie                             \n",
       "1 145557                Wissenschaftliches und künstlerisches Personal\n",
       "  Art_der_Anstellung\n",
       "1 Nebenberuflich    "
      ]
     },
     "metadata": {},
     "output_type": "display_data"
    }
   ],
   "source": [
    "Nebenberuflich_Insgesamt <- filter(Tabellendaten, Tabellendaten$Angestelltenverhaeltnis == \"Nebenberufl. wissenschaftl. u. kuenstler. Personal\" & Tabellendaten$Geschlecht == \"Insgesamt\")\n",
    "Nebenberuflich_Insgesamt"
   ]
  },
  {
   "cell_type": "markdown",
   "id": "9be1644f",
   "metadata": {},
   "source": [
    "Den Wert für \"wissenschaftlichen und künstlerischen Mitarbeiter:innen\" im Kreisdiagramm können Sie nicht direkt aus der Tabelle ablesen.\n",
    "Sie erhalten diese Zahl indem Sie die \"Professoren - Insgesamt\" von \"Hauptberuflich wissenschaftliches und künstlerisches Personal - Insgesamt\" abziehen, da die Professoren in der DESTATIS-Datei auch unter der Kategorie \"Hauptberuflich wissenschaftliches und künstlerisches Personal\" gelistet werden."
   ]
  },
  {
   "cell_type": "code",
   "execution_count": 6,
   "id": "28d26e20",
   "metadata": {
    "vscode": {
     "languageId": "r"
    }
   },
   "outputs": [
    {
     "data": {
      "text/html": [
       "<table class=\"dataframe\">\n",
       "<caption>A data.frame: 1 × 5</caption>\n",
       "<thead>\n",
       "\t<tr><th scope=col>Angestelltenverhaeltnis</th><th scope=col>Geschlecht</th><th scope=col>Angestelltenzahl_2020</th><th scope=col>Personalkategorie</th><th scope=col>Art_der_Anstellung</th></tr>\n",
       "\t<tr><th scope=col>&lt;chr&gt;</th><th scope=col>&lt;chr&gt;</th><th scope=col>&lt;int&gt;</th><th scope=col>&lt;chr&gt;</th><th scope=col>&lt;chr&gt;</th></tr>\n",
       "</thead>\n",
       "<tbody>\n",
       "\t<tr><td>Hauptberufl. wissenschaftl. u. kuenstler. Personal</td><td>Insgesamt</td><td>269275</td><td>Wissenschaftliches und künstlerisches Personal</td><td>Hauptberuflich</td></tr>\n",
       "</tbody>\n",
       "</table>\n"
      ],
      "text/latex": [
       "A data.frame: 1 × 5\n",
       "\\begin{tabular}{lllll}\n",
       " Angestelltenverhaeltnis & Geschlecht & Angestelltenzahl\\_2020 & Personalkategorie & Art\\_der\\_Anstellung\\\\\n",
       " <chr> & <chr> & <int> & <chr> & <chr>\\\\\n",
       "\\hline\n",
       "\t Hauptberufl. wissenschaftl. u. kuenstler. Personal & Insgesamt & 269275 & Wissenschaftliches und künstlerisches Personal & Hauptberuflich\\\\\n",
       "\\end{tabular}\n"
      ],
      "text/markdown": [
       "\n",
       "A data.frame: 1 × 5\n",
       "\n",
       "| Angestelltenverhaeltnis &lt;chr&gt; | Geschlecht &lt;chr&gt; | Angestelltenzahl_2020 &lt;int&gt; | Personalkategorie &lt;chr&gt; | Art_der_Anstellung &lt;chr&gt; |\n",
       "|---|---|---|---|---|\n",
       "| Hauptberufl. wissenschaftl. u. kuenstler. Personal | Insgesamt | 269275 | Wissenschaftliches und künstlerisches Personal | Hauptberuflich |\n",
       "\n"
      ],
      "text/plain": [
       "  Angestelltenverhaeltnis                            Geschlecht\n",
       "1 Hauptberufl. wissenschaftl. u. kuenstler. Personal Insgesamt \n",
       "  Angestelltenzahl_2020 Personalkategorie                             \n",
       "1 269275                Wissenschaftliches und künstlerisches Personal\n",
       "  Art_der_Anstellung\n",
       "1 Hauptberuflich    "
      ]
     },
     "metadata": {},
     "output_type": "display_data"
    }
   ],
   "source": [
    "Hauptberuflich_Insgesamt <- filter(Tabellendaten, Tabellendaten$Angestelltenverhaeltnis == \"Hauptberufl. wissenschaftl. u. kuenstler. Personal\" & Tabellendaten$Geschlecht == \"Insgesamt\")\n",
    "Hauptberuflich_Insgesamt"
   ]
  },
  {
   "cell_type": "code",
   "execution_count": 7,
   "id": "b4ff7702",
   "metadata": {
    "vscode": {
     "languageId": "r"
    }
   },
   "outputs": [
    {
     "data": {
      "text/html": [
       "219982"
      ],
      "text/latex": [
       "219982"
      ],
      "text/markdown": [
       "219982"
      ],
      "text/plain": [
       "[1] 219982"
      ]
     },
     "metadata": {},
     "output_type": "display_data"
    }
   ],
   "source": [
    "Hauptberuflich_exlusive_Professoren <- Hauptberuflich_Insgesamt$Angestelltenzahl_2020 - Professoren_Insgesamt$Angestelltenzahl_2020\n",
    "Hauptberuflich_exlusive_Professoren"
   ]
  },
  {
   "cell_type": "markdown",
   "id": "57e8236f",
   "metadata": {},
   "source": [
    "`````{margin}\n",
    "````{admonition} Hinweis\n",
    ":class: hinweis\n",
    "Als Dataframe wird eine Datenstruktur bezeichnet, die aus Spalten (Variablen) und Zeilen (Beobachtungen) besteht und damit einer einfachen, zweidimensionalen Tabelle gleicht. Dataframes finden sich in den programmiersprachen R, aber auch in Python.\n",
    "```\n",
    "````\n",
    "`````"
   ]
  },
  {
   "cell_type": "markdown",
   "id": "c1b92e2f",
   "metadata": {},
   "source": [
    "#### Dataframe  erstellen\n",
    "Sie haben nun die einzelnen Datenwerte abgespeichert. Damit Sie diese für ein Kreisdiagramm verwenden können, müssen Sie diese Werte in einem neu erstellen Dataframe kombinieren.\n",
    "\n",
    "Hierzu erstellen Sie zunächst einen Vektor mit den passenden Bezeichnungen (Grundlage: Legende der Originalabbildung)."
   ]
  },
  {
   "cell_type": "code",
   "execution_count": 8,
   "id": "9f44711c",
   "metadata": {
    "vscode": {
     "languageId": "r"
    }
   },
   "outputs": [
    {
     "data": {
      "text/html": [
       "<style>\n",
       ".list-inline {list-style: none; margin:0; padding: 0}\n",
       ".list-inline>li {display: inline-block}\n",
       ".list-inline>li:not(:last-child)::after {content: \"\\00b7\"; padding: 0 .5ex}\n",
       "</style>\n",
       "<ol class=list-inline><li>'Wissenschaftliche und kuenstlerische Mitarbeiter:innen'</li><li>'Professor:innen'</li><li>'Nebenberufliche Mitarbeiter:innen'</li></ol>\n"
      ],
      "text/latex": [
       "\\begin{enumerate*}\n",
       "\\item 'Wissenschaftliche und kuenstlerische Mitarbeiter:innen'\n",
       "\\item 'Professor:innen'\n",
       "\\item 'Nebenberufliche Mitarbeiter:innen'\n",
       "\\end{enumerate*}\n"
      ],
      "text/markdown": [
       "1. 'Wissenschaftliche und kuenstlerische Mitarbeiter:innen'\n",
       "2. 'Professor:innen'\n",
       "3. 'Nebenberufliche Mitarbeiter:innen'\n",
       "\n",
       "\n"
      ],
      "text/plain": [
       "[1] \"Wissenschaftliche und kuenstlerische Mitarbeiter:innen\"\n",
       "[2] \"Professor:innen\"                                       \n",
       "[3] \"Nebenberufliche Mitarbeiter:innen\"                     "
      ]
     },
     "metadata": {},
     "output_type": "display_data"
    }
   ],
   "source": [
    "Personalgruppe <- c(\"Wissenschaftliche und kuenstlerische Mitarbeiter:innen\", \"Professor:innen\", \"Nebenberufliche Mitarbeiter:innen\")\n",
    "Personalgruppe"
   ]
  },
  {
   "cell_type": "markdown",
   "id": "da07c63b",
   "metadata": {},
   "source": [
    "Nun erzeugen Sie einen zweiten Vektor, welcher die abgespeicherten Datenwerte zu den jeweiligen Personalgruppen enthält.\n",
    "\n",
    "**Achtung!:** Hier ist die richtige Reihenfolge analog zum Vektor \"Arbeitsverhältnis\" wichtig."
   ]
  },
  {
   "cell_type": "code",
   "execution_count": 9,
   "id": "cf832ac2",
   "metadata": {
    "vscode": {
     "languageId": "r"
    }
   },
   "outputs": [
    {
     "data": {
      "text/html": [
       "<style>\n",
       ".list-inline {list-style: none; margin:0; padding: 0}\n",
       ".list-inline>li {display: inline-block}\n",
       ".list-inline>li:not(:last-child)::after {content: \"\\00b7\"; padding: 0 .5ex}\n",
       "</style>\n",
       "<ol class=list-inline><li>219982</li><li>49293</li><li>145557</li></ol>\n"
      ],
      "text/latex": [
       "\\begin{enumerate*}\n",
       "\\item 219982\n",
       "\\item 49293\n",
       "\\item 145557\n",
       "\\end{enumerate*}\n"
      ],
      "text/markdown": [
       "1. 219982\n",
       "2. 49293\n",
       "3. 145557\n",
       "\n",
       "\n"
      ],
      "text/plain": [
       "[1] 219982  49293 145557"
      ]
     },
     "metadata": {},
     "output_type": "display_data"
    }
   ],
   "source": [
    "Absolute_Werte <- c(Hauptberuflich_exlusive_Professoren, Professoren_Insgesamt$Angestelltenzahl_2020, Nebenberuflich_Insgesamt$Angestelltenzahl_2020)\n",
    "Absolute_Werte"
   ]
  },
  {
   "cell_type": "markdown",
   "id": "a058a1c2",
   "metadata": {},
   "source": [
    "Nun können Sie beide Vektoren kombinieren und einen Dataframe erstellen:"
   ]
  },
  {
   "cell_type": "code",
   "execution_count": 10,
   "id": "00589ba4",
   "metadata": {
    "vscode": {
     "languageId": "r"
    }
   },
   "outputs": [
    {
     "data": {
      "text/html": [
       "<table class=\"dataframe\">\n",
       "<caption>A data.frame: 3 × 2</caption>\n",
       "<thead>\n",
       "\t<tr><th scope=col>Personalgruppe</th><th scope=col>Absolute_Werte</th></tr>\n",
       "\t<tr><th scope=col>&lt;chr&gt;</th><th scope=col>&lt;int&gt;</th></tr>\n",
       "</thead>\n",
       "<tbody>\n",
       "\t<tr><td>Wissenschaftliche und kuenstlerische Mitarbeiter:innen</td><td>219982</td></tr>\n",
       "\t<tr><td>Professor:innen                                       </td><td> 49293</td></tr>\n",
       "\t<tr><td>Nebenberufliche Mitarbeiter:innen                     </td><td>145557</td></tr>\n",
       "</tbody>\n",
       "</table>\n"
      ],
      "text/latex": [
       "A data.frame: 3 × 2\n",
       "\\begin{tabular}{ll}\n",
       " Personalgruppe & Absolute\\_Werte\\\\\n",
       " <chr> & <int>\\\\\n",
       "\\hline\n",
       "\t Wissenschaftliche und kuenstlerische Mitarbeiter:innen & 219982\\\\\n",
       "\t Professor:innen                                        &  49293\\\\\n",
       "\t Nebenberufliche Mitarbeiter:innen                      & 145557\\\\\n",
       "\\end{tabular}\n"
      ],
      "text/markdown": [
       "\n",
       "A data.frame: 3 × 2\n",
       "\n",
       "| Personalgruppe &lt;chr&gt; | Absolute_Werte &lt;int&gt; |\n",
       "|---|---|\n",
       "| Wissenschaftliche und kuenstlerische Mitarbeiter:innen | 219982 |\n",
       "| Professor:innen                                        |  49293 |\n",
       "| Nebenberufliche Mitarbeiter:innen                      | 145557 |\n",
       "\n"
      ],
      "text/plain": [
       "  Personalgruppe                                         Absolute_Werte\n",
       "1 Wissenschaftliche und kuenstlerische Mitarbeiter:innen 219982        \n",
       "2 Professor:innen                                         49293        \n",
       "3 Nebenberufliche Mitarbeiter:innen                      145557        "
      ]
     },
     "metadata": {},
     "output_type": "display_data"
    }
   ],
   "source": [
    "Daten_kreisdiagramm <- data.frame(Personalgruppe, Absolute_Werte)\n",
    "Daten_kreisdiagramm"
   ]
  },
  {
   "cell_type": "markdown",
   "id": "74552ec5",
   "metadata": {},
   "source": [
    "Der erstellte Dataframe kann nun um eine neue Variable erweitert werden, welche die Datenwerte in Prozent zum Gesamtwert anzeigt.\n",
    "Hierfür können Sie sich die folgenden zwei Befehle zu nutze machen:\n",
    "\n",
    "- Der Befehl `round()`rundet eine Zahl auf die nach dem Komma angegebene Nachkommastelle.\n",
    "- Der Befehl `paste()` kombiniert zwei einzelne Objekte (z.B. Vektoren, einzelne Datenwerte, etc.). Mittels `sep =` können Sie angeben, welches Zeichen zwischen den Objekten stehen soll. Falls Sie diese Spezifikation weglassen, wird **R** ein einzelnes Leerzeichen verwenden.\n"
   ]
  },
  {
   "cell_type": "code",
   "execution_count": 11,
   "id": "0dbf0d57",
   "metadata": {
    "vscode": {
     "languageId": "r"
    }
   },
   "outputs": [
    {
     "data": {
      "text/html": [
       "<table class=\"dataframe\">\n",
       "<caption>A data.frame: 3 × 4</caption>\n",
       "<thead>\n",
       "\t<tr><th scope=col>Personalgruppe</th><th scope=col>Absolute_Werte</th><th scope=col>Prozent</th><th scope=col>Werte_kombiniert</th></tr>\n",
       "\t<tr><th scope=col>&lt;chr&gt;</th><th scope=col>&lt;int&gt;</th><th scope=col>&lt;chr&gt;</th><th scope=col>&lt;chr&gt;</th></tr>\n",
       "</thead>\n",
       "<tbody>\n",
       "\t<tr><td>Wissenschaftliche und kuenstlerische Mitarbeiter:innen</td><td>219982</td><td>53 %</td><td>219982 | 53 %</td></tr>\n",
       "\t<tr><td>Professor:innen                                       </td><td> 49293</td><td>12 %</td><td>49293 | 12 % </td></tr>\n",
       "\t<tr><td>Nebenberufliche Mitarbeiter:innen                     </td><td>145557</td><td>35 %</td><td>145557 | 35 %</td></tr>\n",
       "</tbody>\n",
       "</table>\n"
      ],
      "text/latex": [
       "A data.frame: 3 × 4\n",
       "\\begin{tabular}{llll}\n",
       " Personalgruppe & Absolute\\_Werte & Prozent & Werte\\_kombiniert\\\\\n",
       " <chr> & <int> & <chr> & <chr>\\\\\n",
       "\\hline\n",
       "\t Wissenschaftliche und kuenstlerische Mitarbeiter:innen & 219982 & 53 \\% & 219982 \\textbar{} 53 \\%\\\\\n",
       "\t Professor:innen                                        &  49293 & 12 \\% & 49293 \\textbar{} 12 \\% \\\\\n",
       "\t Nebenberufliche Mitarbeiter:innen                      & 145557 & 35 \\% & 145557 \\textbar{} 35 \\%\\\\\n",
       "\\end{tabular}\n"
      ],
      "text/markdown": [
       "\n",
       "A data.frame: 3 × 4\n",
       "\n",
       "| Personalgruppe &lt;chr&gt; | Absolute_Werte &lt;int&gt; | Prozent &lt;chr&gt; | Werte_kombiniert &lt;chr&gt; |\n",
       "|---|---|---|---|\n",
       "| Wissenschaftliche und kuenstlerische Mitarbeiter:innen | 219982 | 53 % | 219982 | 53 % |\n",
       "| Professor:innen                                        |  49293 | 12 % | 49293 | 12 %  |\n",
       "| Nebenberufliche Mitarbeiter:innen                      | 145557 | 35 % | 145557 | 35 % |\n",
       "\n"
      ],
      "text/plain": [
       "  Personalgruppe                                         Absolute_Werte Prozent\n",
       "1 Wissenschaftliche und kuenstlerische Mitarbeiter:innen 219982         53 %   \n",
       "2 Professor:innen                                         49293         12 %   \n",
       "3 Nebenberufliche Mitarbeiter:innen                      145557         35 %   \n",
       "  Werte_kombiniert\n",
       "1 219982 | 53 %   \n",
       "2 49293 | 12 %    \n",
       "3 145557 | 35 %   "
      ]
     },
     "metadata": {},
     "output_type": "display_data"
    }
   ],
   "source": [
    "#Varibale \"Prozent\" erzeugen\n",
    "Daten_kreisdiagramm$Prozent <- paste(round(Daten_kreisdiagramm$Absolute_Werte/sum(Daten_kreisdiagramm$Absolute_Werte)*100,0), \"%\")\n",
    "\n",
    "#Absolute Werte und Prozentwerte kombinieren\n",
    "Daten_kreisdiagramm$Werte_kombiniert <- paste(Daten_kreisdiagramm$Absolute_Werte, sep = \" | \", Daten_kreisdiagramm$Prozent)\n",
    "\n",
    "#Neue Variablen begutachten\n",
    "Daten_kreisdiagramm"
   ]
  },
  {
   "cell_type": "markdown",
   "id": "08d86507",
   "metadata": {},
   "source": [
    "Falls Sie wie in dem originalen Kreisdiagramm Tausenderpunkte angezeigt bekommen möchten, können Sie die Funktion `prettyNum` verwenden."
   ]
  },
  {
   "cell_type": "code",
   "execution_count": 12,
   "id": "6a025508",
   "metadata": {
    "vscode": {
     "languageId": "r"
    }
   },
   "outputs": [],
   "source": [
    "Daten_kreisdiagramm$Werte_kombiniert <- prettyNum(Daten_kreisdiagramm$Werte_kombiniert, big.mark = \".\", decimal.mark = \",\")"
   ]
  },
  {
   "cell_type": "markdown",
   "id": "e22c376b",
   "metadata": {},
   "source": [
    "#### Visualisierung des Kreisdiagramms\n",
    "Aus dem erzeugten Dataframe können Sie sich nun ein Kreisdiagramm erstellen lassen. Hierzu könnten Sie den Befehl `pie()` nutzen. Diese Funktion bietet jedoch nicht viele Anpassungsmöglichkeiten und im folgenden wird auf die weit verbreitete `ggplot`-Funktion zurückgegriffen.\n",
    "\n",
    "Lassen Sie sich nicht von der Länge des folgenden Codes abschrecken. Jede einzelne Zeile spezifiziert den Aufbau des Kreisdiagramms. Wenn Sie weitere Details zu bestimmten Befehlen erfahren wollen, schlagen Sie diese in der R-Dokumentation nach (z.B. `?geom_label()`) oder lassen Sie mal bestimmte Zeilen weg, um nachzugucken, was sich am Output verändert."
   ]
  },
  {
   "cell_type": "code",
   "execution_count": 13,
   "id": "a199b5b4",
   "metadata": {
    "vscode": {
     "languageId": "r"
    }
   },
   "outputs": [
    {
     "data": {
      "image/png": "[encoded data removed]",
      "text/plain": [
       "plot without title"
      ]
     },
     "metadata": {
      "image/png": {
       "height": 420,
       "width": 420
      }
     },
     "output_type": "display_data"
    }
   ],
   "source": [
    "ggplot(Daten_kreisdiagramm, aes(x=\"\", y=Absolute_Werte, fill=Personalgruppe))+ #Setzen der Datenbasis\n",
    "  geom_bar(stat=\"identity\")+ #Setzen wie die Werte verarbeitet werden sollen\n",
    "  coord_polar(\"y\")+ #Zusatz für Kreisdiagramme\n",
    "  theme_void()+ #Hintergrund wird weiß eingefärbt\n",
    "  scale_fill_manual(values = c(\"#FF9900\", \"#333399\", \"#CC0033\"))+ #Farben für einzelne Diagrammteile setzen. Farbcodes sind online abrufbar.\n",
    "  ggtitle(\"Hochschulen insgesamt\")+ #Überschrift setzen\n",
    "  geom_label(aes(label=Werte_kombiniert), #Beschriftung setzen\n",
    "             position = position_stack(vjust = 0.5), #Position der Beschriftung setzen\n",
    "             color=\"white\", #Schriftfarbe setzen\n",
    "             label.size = 0, #Größe des Randes um Beschriftung setzen\n",
    "             size=4, #Schriftgröße setzen\n",
    "             show.legend = FALSE) #Beschriftung soll nicht in der Legende angezeigt werden"
   ]
  },
  {
   "cell_type": "markdown",
   "id": "f6344de1",
   "metadata": {},
   "source": [
    "Voilà, Sie haben soeben das Kreisdiagramm nachgebaut!"
   ]
  },
  {
   "cell_type": "markdown",
   "id": "47372274",
   "metadata": {},
   "source": [
    "#### Fazit \n",
    "Betrachten Sie nun das originale Diagramm aus dem Bildungsbericht und das von Ihnen selbstständig erzeugte im Vergleich:\n",
    "\n",
    "```{figure} _images/Pie_vergleich.png\n",
    "---\n",
    "name: diagramme-vergleich\n",
    "alt: Das mit R nachgebaute Kreisdiagramm und das originale Kreisdiagramm zu Personal an Hochschulen im Vergleich.\n",
    "---\n",
    "Vergleich des nachgebauten (links) und des originalen (rechts) Kreisdiagramms.\n",
    "```\n",
    "\n",
    "Bis auf kleine Schönheitsfehler fällt im direkten Vergleich kein Unterschied auf.\n",
    "\n",
    "**Das Kreisdiagramm ist somit mittels der Primärquelle reproduzierbar!**"
   ]
  },
  {
   "cell_type": "markdown",
   "id": "ba90ac32",
   "metadata": {},
   "source": [
    "\n",
    "````{admonition} Zur Kontrolle finden Sie hier den gesamten Code der Übung(en): \n",
    ":class: hinweis, dropdown\n",
    "```\n",
    "#Benötigtes Package zum Start der Session laden, damit alle hier verwendeteten Befehle verfügbar sind\n",
    "library(tidyverse) \n",
    "\n",
    "#Daten einlesen\n",
    "data_csv_clean <- read.csv2(\"Data/21341-0001_F_2020.csv\", header = FALSE, encoding = \"latin1\")\n",
    "\n",
    "#Ergebnisse ansehen\n",
    "head(data_csv_clean)\n",
    "\n",
    "#Umlaute entfernen\n",
    "data_csv_clean$V1 <- str_replace_all(data_csv_clean$V1, c(\"ä\" = \"ae\", \"ö\" = \"oe\", \"ü\" =\"ue\", \"ß\" =\"ss\"))\n",
    "data_csv_clean$V2 <- str_replace_all(data_csv_clean$V2, c(\"ä\" = \"ae\", \"ö\" = \"oe\", \"ü\" =\"ue\", \"ß\" =\"ss\"))\n",
    "\n",
    "#Ausgewählte Ergebnisse ansehen\n",
    "show(data_csv_clean[8:20,1:3])\n",
    "\n",
    "#Tabelle unterteilen\n",
    "Metadaten <- data_csv_clean[c(1:6, 87:88), 1]\n",
    "Tabellendaten <- data_csv_clean[8:85, 1:3]\n",
    "\n",
    "#Spaltenüberschriften setzen\n",
    "colnames(Tabellendaten) <- c(\"Angestelltenverhaeltnis\", \"Geschlecht\", \"Angestelltenzahl_2020\")\n",
    "\n",
    "#Nummerierung neu setzen\n",
    "row.names(Tabellendaten) <- 1:78\n",
    "\n",
    "#Ergebnis ansehen\n",
    "head(Tabellendaten) \n",
    "\n",
    "#Variablenklassen bestimmen\n",
    "class(Tabellendaten$Angestelltenverhaeltnis) #sollte als character oder factor gelesen werden\n",
    "class(Tabellendaten$Geschlecht) #sollte als character oder factor gelesen werden\n",
    "class(Tabellendaten$Angestelltenzahl_2020) #sollte als numerisch oder integer gelesen werden\n",
    "\n",
    "#Variablenklassen ändern\n",
    "Tabellendaten$Angestelltenzahl_2020 <- as.integer(Tabellendaten$Angestelltenzahl_2020)\n",
    "\n",
    "#Maximalwert anzeigen lassen\n",
    "max(Tabellendaten$Angestelltenzahl_2020, na.rm = TRUE)\n",
    "\n",
    "#Variablen sichten\n",
    "unique(Tabellendaten$Angestelltenverhaeltnis)\n",
    "\n",
    "#Neue Variablen erstellen\n",
    "#1.Ebene: Neue Variable \"Personalkategorie\"\n",
    "Tabellendaten$Personalkategorie <- c(NA)\n",
    "#2.Ebene: Neue Variable \"Art der Anstellung\"\n",
    "Tabellendaten$Art_der_Anstellung <- c(NA)\n",
    "\n",
    "#Einpflegen des Variableninhalts\n",
    "#1.Ebene\n",
    "Tabellendaten$Personalkategorie[76:78] <- \"Insgesamt\"\n",
    "Tabellendaten$Personalkategorie[1:30] <- \"Wissenschaftliches und künstlerisches Personal\"\n",
    "Tabellendaten$Personalkategorie[31:75] <- \"Verwaltungs-, technisches und sonstiges Personal\"\n",
    "#2.Ebene\n",
    "Tabellendaten$Art_der_Anstellung[c(1:3, 31:33, 76:78)] <- \"Insgesamt\"\n",
    "Tabellendaten$Art_der_Anstellung[c(4:18,34:66)] <- \"Hauptberuflich\"\n",
    "Tabellendaten$Art_der_Anstellung[c(19:30,67:75)] <- \"Nebenberuflich\"\n",
    "\n",
    "#Unterkategorisieren\n",
    "#Geschlecht\n",
    "Tabelle_maennlich <- subset(Tabellendaten, Geschlecht == \"maennlich\")\n",
    "Tabelle_weiblich <- subset(Tabellendaten, Geschlecht == \"weiblich\")\n",
    "Tabelle_Insgesamt <- subset(Tabellendaten, Geschlecht == \"Insgesamt\")\n",
    "\n",
    "#Redundante Tabelle entfernen\n",
    "Tabelle_Insgesamt <- subset(Tabelle_Insgesamt, select= c(-Geschlecht))\n",
    "\n",
    "#Tabellendaten filtern\n",
    "#Fehlerbehebung Leerzeichen entfernen\n",
    "Tabellendaten$Angestelltenverhaeltnis <- trimws(Tabellendaten$Angestelltenverhaeltnis)\n",
    "\n",
    "#Filter nach 'Professoren'\n",
    "filter(Tabellendaten, Tabellendaten$Angestelltenverhaeltnis == \"Professoren\" & Tabellendaten$Geschlecht == \"Insgesamt\")\n",
    "\n",
    "#Abspeichern Professoren\n",
    "Professoren_Insgesamt <- filter(Tabellendaten, Tabellendaten$Angestelltenverhaeltnis == \"Professoren\" & Tabellendaten$Geschlecht == \"Insgesamt\")\n",
    "\n",
    "#Abspeichern Nebenberuflich\n",
    "Nebenberuflich_Insgesamt <- filter(Tabellendaten, Tabellendaten$Angestelltenverhaeltnis == \"Nebenberufl. wissenschaftl. u. kuenstler. Personal\" & Tabellendaten$Geschlecht == \"Insgesamt\")\n",
    "\n",
    "#Wert anzeigen lassen\n",
    "Nebenberuflich_Insgesamt\n",
    "\n",
    "Professoren_Insgesamt <- filter(Tabellendaten, Tabellendaten$Angestelltenverhaeltnis == \"Professoren\" &\n",
    "                                  Tabellendaten$Geschlecht == \"Insgesamt\")\n",
    "\n",
    "Hauptberuflich_Insgesamt <- filter(Tabellendaten, Tabellendaten$Angestelltenverhaeltnis == \"Hauptberufl. wissenschaftl. u. kuenstler. Personal\" &\n",
    "                                     Tabellendaten$Geschlecht == \"Insgesamt\")\n",
    "\n",
    "Hauptberuflich_exlusive_Professoren <- Hauptberuflich_Insgesamt$Angestelltenzahl_2020 - Professoren_Insgesamt$Angestelltenzahl_2020\n",
    "\n",
    "#Wert anzeigen lassen\n",
    "Hauptberuflich_exlusive_Professoren\n",
    "\n",
    "#Vektor ertsellen mit Namen Personalgruppe\n",
    "Personalgruppe <- c(\"Wissenschaftliche und kuenstlerische Mitarbeiter:innen\", \"Professor:innen\", \"Nebenberufliche Mitarbeiter:innen\")\n",
    "\n",
    "#Zweiter Vektor Datenwerte Personalgruppen \n",
    "Absolute_Werte <- c(Hauptberuflich_exlusive_Professoren, Professoren_Insgesamt$Angestelltenzahl_2020, \n",
    "                    Nebenberuflich_Insgesamt$Angestelltenzahl_2020)\n",
    "\n",
    "#Dataframe\n",
    "Daten_kreisdiagramm <- data.frame(Personalgruppe, Absolute_Werte)\n",
    "\n",
    "#Dataframe anzeigen lassen\n",
    "Daten_kreisdiagramm\n",
    "\n",
    "#Varibale \"Prozent\" erzeugen \n",
    "Daten_kreisdiagramm$Prozent <- paste(round(Daten_kreisdiagramm$Absolute_Werte/sum(Daten_kreisdiagramm$Absolute_Werte)*100,0), \"%\")\n",
    "\n",
    "#Absolute Werte und Prozentwerte kombinieren \n",
    "Daten_kreisdiagramm$Werte_kombiniert <- paste(Daten_kreisdiagramm$Absolute_Werte, sep = \" | \", Daten_kreisdiagramm$Prozent)\n",
    "\n",
    "#Neue Variablen begutachten\n",
    "Daten_kreisdiagramm\n",
    "\n",
    "#Tausenderpunkte im Kreisdiagramm\n",
    "Daten_kreisdiagramm$Werte_kombiniert <- prettyNum(Daten_kreisdiagramm$Werte_kombiniert, big.mark = \".\", decimal.mark = \",\")\n",
    "\n",
    "#ggplot zur Visualisierung des Kreisdiagramms\n",
    "ggplot(Daten_kreisdiagramm, aes(x=\"\", y=Absolute_Werte, fill=Personalgruppe))+ #Setzen der Datenbasis\n",
    "  geom_bar(stat=\"identity\")+ #Setzen wie die Werte verarbeitet werden sollen\n",
    "  coord_polar(\"y\")+ #Zusatz für Kreisdiagramme\n",
    "  theme_void()+ #Hintergrund wird weiß eingefärbt\n",
    "  scale_fill_manual(values = c(\"#FF9900\", \"#333399\", \"#CC0033\"))+ #Farben für einzelne Diagrammteile setzen. Farbcodes sind online abrufbar.\n",
    "  ggtitle(\"Hochschulen insgesamt\")+ #Überschrift setzen\n",
    "  geom_label(aes(label=Werte_kombiniert), #Beschriftung setzen\n",
    "             position = position_stack(vjust = 0.5), #Position der Beschriftung setzen\n",
    "             color=\"white\", #Schriftfarbe setzen\n",
    "             label.size = 0, #Größe des Randes um Beschriftung setzen\n",
    "             size=4, #Schriftgröße setzen\n",
    "             show.legend = FALSE) #Beschriftung soll nicht in der Legende angezeigt werden\n",
    "```\n",
    "````\n",
    "\n"
   ]
  },
  {
   "cell_type": "markdown",
   "id": "c789b6b3",
   "metadata": {},
   "source": [
    "## Literatur\n",
    "\n",
    "```{bibliography}\n",
    ":filter: docname in docnames\n",
    "```"
   ]
  }
 ],
 "metadata": {
  "kernelspec": {
   "display_name": "R",
   "language": "R",
   "name": "ir"
  },
  "language_info": {
   "codemirror_mode": "r",
   "file_extension": ".r",
   "mimetype": "text/x-r-source",
   "name": "R",
   "pygments_lexer": "r",
   "version": "4.5.0"
  }
 },
 "nbformat": 4,
 "nbformat_minor": 5
}
