{
 "cells": [
  {
   "cell_type": "markdown",
   "id": "a316d720",
   "metadata": {},
   "source": [
    "(Übung_Auswertung)=\n",
    "# Übung: Auswerten von CSV-Dateien in R\n",
    "\n",
    "In der vorangegangenen Übung wurden Sie mit Ansätzen zur Organisation und Strukturierung von CSV-Dateien vertraut gemacht. Der folgende Abschnitt baut auf dem Code der letzten Übung auf und thematisiert Auswertungsmöglichkeiten von CSV-Dateien in R mit Fokus auf Untergruppierungen und Filterfunktionen."
   ]
  },
  {
   "cell_type": "markdown",
   "id": "46363cfc",
   "metadata": {},
   "source": [
    "````{admonition} Den Code für die Übung: Arbeiten mit CSV-Dateien in R finden Sie hier: \n",
    ":class: hinweis, dropdown\n",
    "```\n",
    "#TidyVerse Package Installation\n",
    "install.packages(\"tidyverse\")\n",
    "library(tidyverse)\n",
    "\n",
    "#Daten einlesen\n",
    "data_csv_clean <- read.csv2(\"Data/21341-0001_F_2020.csv\", header = FALSE, encoding = \"latin1\")\n",
    "\n",
    "#Ergebnisse ansehen\n",
    "head(data_csv_clean)\n",
    "\n",
    "#Umlaute entfernen\n",
    "data_csv_clean$V1 <- str_replace_all(data_csv_clean$V1, c(\"ä\" = \"ae\", \"ö\" = \"oe\", \"ü\" =\"ue\", \"ß\" =\"ss\"))\n",
    "data_csv_clean$V2 <- str_replace_all(data_csv_clean$V2, c(\"ä\" = \"ae\", \"ö\" = \"oe\", \"ü\" =\"ue\", \"ß\" =\"ss\"))\n",
    "\n",
    "#Ausgewählte Ergebnisse ansehen\n",
    "show(data_csv_clean[8:20,1:3])\n",
    "\n",
    "#Tabelle unterteilen\n",
    "Metadaten <- data_csv_clean[c(1:6, 87:88), 1]\n",
    "Tabellendaten <- data_csv_clean[8:85, 1:3]\n",
    "\n",
    "#Spaltenüberschriften setzen\n",
    "colnames(Tabellendaten) <- c(\"Angestelltenverhaeltnis\", \"Geschlecht\", \"Angestelltenzahl_2020\")\n",
    "\n",
    "#Nummerierung neu setzen\n",
    "row.names(Tabellendaten) <- 1:78\n",
    "\n",
    "#Ergebnis ansehen\n",
    "head(Tabellendaten) \n",
    "```\n",
    "````"
   ]
  },
  {
   "cell_type": "code",
   "execution_count": 5,
   "id": "4b568437",
   "metadata": {
    "tags": [
     "remove-cell"
    ],
    "vscode": {
     "languageId": "r"
    }
   },
   "outputs": [
    {
     "name": "stderr",
     "output_type": "stream",
     "text": [
      "Installiere Paket nach ‘/opt/homebrew/lib/R/4.5/site-library’\n",
      "(da ‘lib’ nicht spezifiziert)\n",
      "\n"
     ]
    }
   ],
   "source": [
    "install.packages(\"tidyverse\")\n",
    "library(tidyverse)\n",
    "\n",
    "data_csv_clean <- read.csv2(\"Data/21341-0001_F_2020.csv\", header = FALSE, encoding = \"latin1\")\n",
    "\n",
    "data_csv_clean$V1 <- str_replace_all(data_csv_clean$V1, c(\"ä\" = \"ae\", \"ö\" = \"oe\", \"ü\" =\"ue\", \"ß\" =\"ss\"))\n",
    "data_csv_clean$V2 <- str_replace_all(data_csv_clean$V2, c(\"ä\" = \"ae\", \"ö\" = \"oe\", \"ü\" =\"ue\", \"ß\" =\"ss\"))\n",
    "\n",
    "Metadaten <- data_csv_clean[c(1:6, 87:88), 1]\n",
    "Tabellendaten <- data_csv_clean[8:85, 1:3]\n",
    "\n",
    "colnames(Tabellendaten) <- c(\"Angestelltenverhaeltnis\", \"Geschlecht\", \"Angestelltenzahl_2020\")\n",
    "\n",
    "row.names(Tabellendaten) <- 1:78"
   ]
  },
  {
   "cell_type": "markdown",
   "id": "13a1bac2",
   "metadata": {},
   "source": [
    "## Variablenklassen bestimmen \n",
    "\n",
    "Damit Sie Ihre Daten adäquat auswerten können, müssen Sie sich über die\n",
    "Struktur und Klasse der Variablen bewusst sein.  \n",
    "\n",
    "**Die wichtigsten Variablenklassen im Überblick:**  \n",
    "\n",
    "-   `integer`: Ganze Zahlen.  \n",
    "    Beispiel: 1, 2, 5.\n",
    "\n",
    "-   `numeric`: Zahl mit Kommastellen.  \n",
    "    Beispiel: 1.99, 2.33, 5.00.\n",
    "\n",
    "-   `character`: Zeichenketten bzw. Strings.  \n",
    "    Beispiel: “Hallo”, “Apfel”, “Hannah”.\n",
    "\n",
    "-   `factor`: Kategoriale Variablen.  \n",
    "    Beispiel: “schlecht”, “gut”, “sehr gut”\n",
    "\n",
    "Die Variablenklasse ist ausschlaggebend dafür, wie Sie die\n",
    "Variablendaten auswerten können. Beispielsweise können Sie mit einer\n",
    "`numeric`-Variable rechnen, mit einer `character`-Variable jedoch\n",
    "nicht. "
   ]
  },
  {
   "cell_type": "markdown",
   "id": "720db743",
   "metadata": {},
   "source": [
    "`````{margin}\n",
    "````{admonition} Tipp für RStudio\n",
    ":class: hinweis\n",
    "Im *Environment* Fenster können Sie die Variablenklassen ebenfalls schnell einsehen.\n",
    "\n",
    "\n",
    "```{figure} _images/R_Environment_Variablenklassen.png\n",
    "---\n",
    "name: r-environment\n",
    "alt: Ein Screenshot, der den Ausschnitt des Environment-Fensters von R-Studio zeigt.\n",
    "---\n",
    "Environment-Fenster in RStudio.\n",
    "```\n",
    "````\n",
    "`````"
   ]
  },
  {
   "cell_type": "markdown",
   "id": "33a4fcdf",
   "metadata": {},
   "source": [
    "**Variablenklassen bestimmen im Code:**  \n",
    "Der Befehl `class()` gibt uns die jeweilige Klasse des Objektes wieder:  "
   ]
  },
  {
   "cell_type": "code",
   "execution_count": 6,
   "id": "dbf6a28f",
   "metadata": {
    "vscode": {
     "languageId": "r"
    }
   },
   "outputs": [
    {
     "data": {
      "text/html": [
       "'character'"
      ],
      "text/latex": [
       "'character'"
      ],
      "text/markdown": [
       "'character'"
      ],
      "text/plain": [
       "[1] \"character\""
      ]
     },
     "metadata": {},
     "output_type": "display_data"
    }
   ],
   "source": [
    "class(Tabellendaten$Angestelltenverhaeltnis) #sollte als character oder factor gelesen werden"
   ]
  },
  {
   "cell_type": "code",
   "execution_count": 7,
   "id": "95b11fa3",
   "metadata": {
    "vscode": {
     "languageId": "r"
    }
   },
   "outputs": [
    {
     "data": {
      "text/html": [
       "'character'"
      ],
      "text/latex": [
       "'character'"
      ],
      "text/markdown": [
       "'character'"
      ],
      "text/plain": [
       "[1] \"character\""
      ]
     },
     "metadata": {},
     "output_type": "display_data"
    }
   ],
   "source": [
    "class(Tabellendaten$Geschlecht) #sollte als character oder factor gelesen werden"
   ]
  },
  {
   "cell_type": "code",
   "execution_count": 8,
   "id": "bb31f623",
   "metadata": {
    "vscode": {
     "languageId": "r"
    }
   },
   "outputs": [
    {
     "data": {
      "text/html": [
       "'character'"
      ],
      "text/latex": [
       "'character'"
      ],
      "text/markdown": [
       "'character'"
      ],
      "text/plain": [
       "[1] \"character\""
      ]
     },
     "metadata": {},
     "output_type": "display_data"
    }
   ],
   "source": [
    "class(Tabellendaten$Angestelltenzahl_2020) #sollte als numerisch oder integer gelesen werden"
   ]
  },
  {
   "cell_type": "markdown",
   "id": "524be875",
   "metadata": {},
   "source": [
    "Die Variablenklassen für “Angestelltenverhaeltnis” und “Geschlecht” sind\n",
    "passend. Die Variable “Angestelltenzahl_2020” wird jedoch auch als\n",
    "`character` interpretiert. Dies muss manuell geändert werden, da sonst\n",
    "bestimmte Auswertungen nicht möglich sind und Fehler entstehen können.  "
   ]
  },
  {
   "cell_type": "markdown",
   "id": "f83d4d8c",
   "metadata": {},
   "source": [
    "**Fallbeispiel:** Betrachten Sie die Funktion `max()`, welche den\n",
    "Maximalwert in der jeweiligen Spalte zurückgeben soll. Hinweis:\n",
    "`na.rm = TRUE` muss hinzugefügt werden, damit die nicht vorhandenen\n",
    "Werte nicht berücksichtigt werden, ansonsten kommt es zu einem Error."
   ]
  },
  {
   "cell_type": "code",
   "execution_count": 9,
   "id": "c5055f64",
   "metadata": {
    "vscode": {
     "languageId": "r"
    }
   },
   "outputs": [
    {
     "data": {
      "text/html": [
       "'99730'"
      ],
      "text/latex": [
       "'99730'"
      ],
      "text/markdown": [
       "'99730'"
      ],
      "text/plain": [
       "[1] \"99730\""
      ]
     },
     "metadata": {},
     "output_type": "display_data"
    }
   ],
   "source": [
    "max(Tabellendaten$Angestelltenzahl_2020, na.rm = TRUE)"
   ]
  },
  {
   "cell_type": "markdown",
   "id": "d5a0901c",
   "metadata": {},
   "source": [
    "Wenn Sie jedoch einen Blick in die Tabelle werfen, sehen Sie schnell,\n",
    "dass es mehrere Angestelltenzahlen über 100.000 gibt. Die ausgegebene\n",
    "Zahl kann also nicht stimmen!"
   ]
  },
  {
   "cell_type": "markdown",
   "id": "03eb8ea1",
   "metadata": {},
   "source": [
    "**Wie kann es zu solch einem Fehler kommen?**  \n",
    "Da die Variable “Angestelltenzahl\\_2020” als `character` interpretiert\n",
    "wird, ändert sich auch die Bedeutung der Funktion `max()`. Die Funkion\n",
    "`max()` gibt nun nicht mehr den Maximalwert zurück, sondern den\n",
    "niedrigsten Platz in alphabetischer Sortierung. Nur wenn wenn die Werte\n",
    "in der Tabelle auch als Zahlen (also numerisch/integer) von **R**\n",
    "gelesen werden, gibt die Funktion `max()` den Maximalwert der Spalte\n",
    "zurück."
   ]
  },
  {
   "cell_type": "markdown",
   "id": "7a2ed62c",
   "metadata": {},
   "source": [
    "(Variablenklasse)=\n",
    "## Variablenklasse ändern \n",
    "\n",
    "Hierfür überspeichern Sie die Daten der jeweiligen Spalte mit den exakt\n",
    "selben Daten, nur das Sie durch den Befehl `as.integer` die Klasse der\n",
    "Variable ändern. Wenn Sie die Klasse in numerisch ändern wollen, würden\n",
    "Sie `as.numeric` verwenden."
   ]
  },
  {
   "cell_type": "code",
   "execution_count": 10,
   "id": "a8578576",
   "metadata": {
    "vscode": {
     "languageId": "r"
    }
   },
   "outputs": [
    {
     "name": "stderr",
     "output_type": "stream",
     "text": [
      "Warning message:\n",
      "“NAs durch Umwandlung erzeugt”\n"
     ]
    }
   ],
   "source": [
    "Tabellendaten$Angestelltenzahl_2020 <- as.integer(Tabellendaten$Angestelltenzahl_2020)"
   ]
  },
  {
   "cell_type": "markdown",
   "id": "d9e96662",
   "metadata": {},
   "source": [
    "Überprüfen Sie gegebenenfalls erneut die Klasse:"
   ]
  },
  {
   "cell_type": "code",
   "execution_count": 11,
   "id": "be6c56ee",
   "metadata": {
    "vscode": {
     "languageId": "r"
    }
   },
   "outputs": [
    {
     "data": {
      "text/html": [
       "'integer'"
      ],
      "text/latex": [
       "'integer'"
      ],
      "text/markdown": [
       "'integer'"
      ],
      "text/plain": [
       "[1] \"integer\""
      ]
     },
     "metadata": {},
     "output_type": "display_data"
    }
   ],
   "source": [
    "class(Tabellendaten$Angestelltenzahl_2020)"
   ]
  },
  {
   "cell_type": "markdown",
   "id": "dd564fa5",
   "metadata": {},
   "source": [
    "Wenn Sie nun noch einmal die Beispielfunktion `max()` heranziehen, dann\n",
    "bekommen Sie jetzt durch neuer Klassenzugehörigkeit der Variable den\n",
    "Maximalwert angezeigt:"
   ]
  },
  {
   "cell_type": "code",
   "execution_count": 12,
   "id": "1d07b158",
   "metadata": {
    "vscode": {
     "languageId": "r"
    }
   },
   "outputs": [
    {
     "data": {
      "text/html": [
       "759065"
      ],
      "text/latex": [
       "759065"
      ],
      "text/markdown": [
       "759065"
      ],
      "text/plain": [
       "[1] 759065"
      ]
     },
     "metadata": {},
     "output_type": "display_data"
    }
   ],
   "source": [
    "max(Tabellendaten$Angestelltenzahl_2020, na.rm = TRUE)"
   ]
  },
  {
   "cell_type": "markdown",
   "id": "205dde3a",
   "metadata": {},
   "source": [
    "```{admonition} Wichtig!\n",
    ":class: keypoint\n",
    "Überprüfen Sie immer die Art der Variablenklasse, welche **R** Ihren Daten zuweist und ändern Sie dies gegebenenfalls, um Fehler zu vermeiden.\n",
    "```"
   ]
  },
  {
   "cell_type": "markdown",
   "id": "e12f5ac5",
   "metadata": {},
   "source": [
    "## Variablen hinzufügen \n",
    "\n",
    "Eine gute **Kategorisierung** Ihrer Daten ist notwendig, um effizient zu\n",
    "filtern. Hierzu müssen Sie die Struktur der Daten nachvollziehen\n",
    "können.  \n",
    "Um die einzelnen Ausprägung der Variable “Angestelltenverhaeltnis” zu\n",
    "sichten, bietet Ihnen **R** den Befehl `unique()`:"
   ]
  },
  {
   "cell_type": "code",
   "execution_count": 13,
   "id": "44d9a0c6",
   "metadata": {
    "vscode": {
     "languageId": "r"
    }
   },
   "outputs": [
    {
     "data": {
      "text/html": [
       "<style>\n",
       ".list-inline {list-style: none; margin:0; padding: 0}\n",
       ".list-inline>li {display: inline-block}\n",
       ".list-inline>li:not(:last-child)::after {content: \"\\00b7\"; padding: 0 .5ex}\n",
       "</style>\n",
       "<ol class=list-inline><li>'Wissenschaftliches und kuenstlerisches Personal'</li><li><span style=white-space:pre-wrap>'  Hauptberufl. wissenschaftl. u. kuenstler. Personal'</span></li><li><span style=white-space:pre-wrap>'    Professoren'</span></li><li><span style=white-space:pre-wrap>'    Dozenten und Assistenten'</span></li><li><span style=white-space:pre-wrap>'    Wissenschaftliche und kuenstlerische Mitarbeiter'</span></li><li><span style=white-space:pre-wrap>'    Lehrkraefte fuer besondere Aufgaben'</span></li><li><span style=white-space:pre-wrap>'  Nebenberufl. wissenschaftl. u. kuenstler. Personal'</span></li><li><span style=white-space:pre-wrap>'    Gastprofessoren, Emeriti'</span></li><li><span style=white-space:pre-wrap>'    Lehrbeauftragte'</span></li><li><span style=white-space:pre-wrap>'    Wissenschaftliche Hilfskraefte'</span></li><li>'Verwaltungs-, technisches und sonstiges Personal'</li><li><span style=white-space:pre-wrap>'  Hauptberufl. Verwaltungs-, techn. u.sonst.Personal'</span></li><li><span style=white-space:pre-wrap>'    Verwaltungspersonal'</span></li><li><span style=white-space:pre-wrap>'    Bibliothekspersonal'</span></li><li><span style=white-space:pre-wrap>'    Technisches Personal'</span></li><li><span style=white-space:pre-wrap>'    Sonstiges Personal'</span></li><li><span style=white-space:pre-wrap>'    Pflegepersonal'</span></li><li><span style=white-space:pre-wrap>'    Arbeiter'</span></li><li><span style=white-space:pre-wrap>'    Auszubildende'</span></li><li><span style=white-space:pre-wrap>'    Praktikanten'</span></li><li><span style=white-space:pre-wrap>'    Sonstiges Personal fuer Lehre und Forschung'</span></li><li><span style=white-space:pre-wrap>'    Leitungs- und Verwaltungspersonal'</span></li><li><span style=white-space:pre-wrap>'  Nebenberufl. Verwaltungs-, techn. u.sonst.Personal'</span></li><li><span style=white-space:pre-wrap>'    Sonstige Hilfskraefte'</span></li><li><span style=white-space:pre-wrap>'    Zeitweilig Beschaeftigte'</span></li><li>'Insgesamt'</li></ol>\n"
      ],
      "text/latex": [
       "\\begin{enumerate*}\n",
       "\\item 'Wissenschaftliches und kuenstlerisches Personal'\n",
       "\\item '  Hauptberufl. wissenschaftl. u. kuenstler. Personal'\n",
       "\\item '    Professoren'\n",
       "\\item '    Dozenten und Assistenten'\n",
       "\\item '    Wissenschaftliche und kuenstlerische Mitarbeiter'\n",
       "\\item '    Lehrkraefte fuer besondere Aufgaben'\n",
       "\\item '  Nebenberufl. wissenschaftl. u. kuenstler. Personal'\n",
       "\\item '    Gastprofessoren, Emeriti'\n",
       "\\item '    Lehrbeauftragte'\n",
       "\\item '    Wissenschaftliche Hilfskraefte'\n",
       "\\item 'Verwaltungs-, technisches und sonstiges Personal'\n",
       "\\item '  Hauptberufl. Verwaltungs-, techn. u.sonst.Personal'\n",
       "\\item '    Verwaltungspersonal'\n",
       "\\item '    Bibliothekspersonal'\n",
       "\\item '    Technisches Personal'\n",
       "\\item '    Sonstiges Personal'\n",
       "\\item '    Pflegepersonal'\n",
       "\\item '    Arbeiter'\n",
       "\\item '    Auszubildende'\n",
       "\\item '    Praktikanten'\n",
       "\\item '    Sonstiges Personal fuer Lehre und Forschung'\n",
       "\\item '    Leitungs- und Verwaltungspersonal'\n",
       "\\item '  Nebenberufl. Verwaltungs-, techn. u.sonst.Personal'\n",
       "\\item '    Sonstige Hilfskraefte'\n",
       "\\item '    Zeitweilig Beschaeftigte'\n",
       "\\item 'Insgesamt'\n",
       "\\end{enumerate*}\n"
      ],
      "text/markdown": [
       "1. 'Wissenschaftliches und kuenstlerisches Personal'\n",
       "2. <span style=white-space:pre-wrap>'  Hauptberufl. wissenschaftl. u. kuenstler. Personal'</span>\n",
       "3. <span style=white-space:pre-wrap>'    Professoren'</span>\n",
       "4. <span style=white-space:pre-wrap>'    Dozenten und Assistenten'</span>\n",
       "5. <span style=white-space:pre-wrap>'    Wissenschaftliche und kuenstlerische Mitarbeiter'</span>\n",
       "6. <span style=white-space:pre-wrap>'    Lehrkraefte fuer besondere Aufgaben'</span>\n",
       "7. <span style=white-space:pre-wrap>'  Nebenberufl. wissenschaftl. u. kuenstler. Personal'</span>\n",
       "8. <span style=white-space:pre-wrap>'    Gastprofessoren, Emeriti'</span>\n",
       "9. <span style=white-space:pre-wrap>'    Lehrbeauftragte'</span>\n",
       "10. <span style=white-space:pre-wrap>'    Wissenschaftliche Hilfskraefte'</span>\n",
       "11. 'Verwaltungs-, technisches und sonstiges Personal'\n",
       "12. <span style=white-space:pre-wrap>'  Hauptberufl. Verwaltungs-, techn. u.sonst.Personal'</span>\n",
       "13. <span style=white-space:pre-wrap>'    Verwaltungspersonal'</span>\n",
       "14. <span style=white-space:pre-wrap>'    Bibliothekspersonal'</span>\n",
       "15. <span style=white-space:pre-wrap>'    Technisches Personal'</span>\n",
       "16. <span style=white-space:pre-wrap>'    Sonstiges Personal'</span>\n",
       "17. <span style=white-space:pre-wrap>'    Pflegepersonal'</span>\n",
       "18. <span style=white-space:pre-wrap>'    Arbeiter'</span>\n",
       "19. <span style=white-space:pre-wrap>'    Auszubildende'</span>\n",
       "20. <span style=white-space:pre-wrap>'    Praktikanten'</span>\n",
       "21. <span style=white-space:pre-wrap>'    Sonstiges Personal fuer Lehre und Forschung'</span>\n",
       "22. <span style=white-space:pre-wrap>'    Leitungs- und Verwaltungspersonal'</span>\n",
       "23. <span style=white-space:pre-wrap>'  Nebenberufl. Verwaltungs-, techn. u.sonst.Personal'</span>\n",
       "24. <span style=white-space:pre-wrap>'    Sonstige Hilfskraefte'</span>\n",
       "25. <span style=white-space:pre-wrap>'    Zeitweilig Beschaeftigte'</span>\n",
       "26. 'Insgesamt'\n",
       "\n",
       "\n"
      ],
      "text/plain": [
       " [1] \"Wissenschaftliches und kuenstlerisches Personal\"     \n",
       " [2] \"  Hauptberufl. wissenschaftl. u. kuenstler. Personal\"\n",
       " [3] \"    Professoren\"                                     \n",
       " [4] \"    Dozenten und Assistenten\"                        \n",
       " [5] \"    Wissenschaftliche und kuenstlerische Mitarbeiter\"\n",
       " [6] \"    Lehrkraefte fuer besondere Aufgaben\"             \n",
       " [7] \"  Nebenberufl. wissenschaftl. u. kuenstler. Personal\"\n",
       " [8] \"    Gastprofessoren, Emeriti\"                        \n",
       " [9] \"    Lehrbeauftragte\"                                 \n",
       "[10] \"    Wissenschaftliche Hilfskraefte\"                  \n",
       "[11] \"Verwaltungs-, technisches und sonstiges Personal\"    \n",
       "[12] \"  Hauptberufl. Verwaltungs-, techn. u.sonst.Personal\"\n",
       "[13] \"    Verwaltungspersonal\"                             \n",
       "[14] \"    Bibliothekspersonal\"                             \n",
       "[15] \"    Technisches Personal\"                            \n",
       "[16] \"    Sonstiges Personal\"                              \n",
       "[17] \"    Pflegepersonal\"                                  \n",
       "[18] \"    Arbeiter\"                                        \n",
       "[19] \"    Auszubildende\"                                   \n",
       "[20] \"    Praktikanten\"                                    \n",
       "[21] \"    Sonstiges Personal fuer Lehre und Forschung\"     \n",
       "[22] \"    Leitungs- und Verwaltungspersonal\"               \n",
       "[23] \"  Nebenberufl. Verwaltungs-, techn. u.sonst.Personal\"\n",
       "[24] \"    Sonstige Hilfskraefte\"                           \n",
       "[25] \"    Zeitweilig Beschaeftigte\"                        \n",
       "[26] \"Insgesamt\"                                           "
      ]
     },
     "metadata": {},
     "output_type": "display_data"
    }
   ],
   "source": [
    "unique(Tabellendaten$Angestelltenverhaeltnis)"
   ]
  },
  {
   "cell_type": "markdown",
   "id": "9db96ebe",
   "metadata": {},
   "source": [
    "Wie Sie erkennen können, ist die Variable “Angestelltenverhaeltnis”\n",
    "recht unübersichtlich, da sie verschiedene Unterkategorien enthält. Bei\n",
    "Betrachtung der einzelnen Positionen ist jedoch nicht erkennbar, zu\n",
    "welcher Überkategorie die Position gehört.\n",
    "\n",
    "**Bei genauerer Betrachtung der Tabelle fällt auf, dass es drei Ebenen\n",
    "gibt:**\n",
    "\n",
    "1.  Ebene: “Wissenschaftliches und kuenstlerisches Personal” und\n",
    "    “Verwaltungs-, technisches und sonstiges Personal”  \n",
    "\n",
    "2.  Ebene: “Hauptberuflich” und “Nebenberuflich”\n",
    "\n",
    "3.  Ebene: Die einzelnen Positionen der Berufsbezeichnungen z.B.\n",
    "    “Professoren”, “Dozenten und Assistenten”, etc.\n",
    "\n",
    "Für eine übersichtlichere Struktur in der Tabelle kann für die ersten\n",
    "zwei Ebenen jeweils eine neue Variable erstellt werden. Hierdurch werden\n",
    "zwei neue Spalten zur Tabelle hinzugefügt und Sie können dann bei\n",
    "Betrachtung einer einzelnen Zeile alle wichtigen Informationen\n",
    "herauslesen, was derzeit nicht möglich ist.  \n",
    "  \n",
    "**Neue Variablen erstellen**:  \n",
    "Da die Struktur es nicht erlaubt, die neuen Variablen durch Referenz auf\n",
    "die bereits vorhandenen Variablen zu erzeugen, müssen die neuen\n",
    "Variablen manuell strukturiert werden.  \n",
    "\n",
    "Erzeugen Sie hierfür zunächst neue Variablen und setzen Sie den Inhalt\n",
    "erst mal auf unbekannt (NA)."
   ]
  },
  {
   "cell_type": "code",
   "execution_count": 14,
   "id": "bdadda26",
   "metadata": {
    "vscode": {
     "languageId": "r"
    }
   },
   "outputs": [],
   "source": [
    "#1.Ebene: Neue Variable \"Personalkategorie\"\n",
    "Tabellendaten$Personalkategorie <- c(NA)"
   ]
  },
  {
   "cell_type": "code",
   "execution_count": 15,
   "id": "bdca698a",
   "metadata": {
    "vscode": {
     "languageId": "r"
    }
   },
   "outputs": [],
   "source": [
    "#2.Ebene: Neue Variable \"Art der Anstellung\"\n",
    "Tabellendaten$Art_der_Anstellung <- c(NA)"
   ]
  },
  {
   "cell_type": "markdown",
   "id": "bb2f0074",
   "metadata": {},
   "source": [
    "Der Spalteninhalt muss nun manuell eingetragen werden.  \n",
    "Achtung: Diese Weise ist leider recht fehleranfällig, ist jedoch durch\n",
    "den Aufbau der Datei, ohne komplexere Funktionen zu benutzen, nicht\n",
    "anders möglich."
   ]
  },
  {
   "cell_type": "markdown",
   "id": "86b3cdbe",
   "metadata": {},
   "source": [
    "```{admonition} Wichtig!\n",
    ":class: caution\n",
    "Wenn Sie Daten generieren, strukturieren Sie diese immer gut. Dies erleichtert Ihnen selbst, aber auch allen anderen, die Ihre Daten verwenden, das Arbeiten! Eine gute Struktur von Daten liefert der Tidy-Data Ansatz (s. Abschnitt [Datenstruktur](/Markdown/6_1_Datenstruktur.md)).\n",
    "```"
   ]
  },
  {
   "cell_type": "markdown",
   "id": "75588ba0",
   "metadata": {},
   "source": [
    "**Einpflegen des Variableninhalts**"
   ]
  },
  {
   "cell_type": "code",
   "execution_count": 16,
   "id": "15c6bf4b",
   "metadata": {
    "vscode": {
     "languageId": "r"
    }
   },
   "outputs": [],
   "source": [
    "#1.Ebene\n",
    "Tabellendaten$Personalkategorie[76:78] <- \"Insgesamt\"\n",
    "Tabellendaten$Personalkategorie[1:30] <- \"Wissenschaftliches und künstlerisches Personal\"\n",
    "Tabellendaten$Personalkategorie[31:75] <- \"Verwaltungs-, technisches und sonstiges Personal\""
   ]
  },
  {
   "cell_type": "code",
   "execution_count": 17,
   "id": "da130720",
   "metadata": {
    "vscode": {
     "languageId": "r"
    }
   },
   "outputs": [],
   "source": [
    "#2.Ebene\n",
    "Tabellendaten$Art_der_Anstellung[c(1:3, 31:33, 76:78)] <- \"Insgesamt\"\n",
    "Tabellendaten$Art_der_Anstellung[c(4:18,34:66)] <- \"Hauptberuflich\"\n",
    "Tabellendaten$Art_der_Anstellung[c(19:30,67:75)] <- \"Nebenberuflich\""
   ]
  },
  {
   "cell_type": "markdown",
   "id": "2f6d7767",
   "metadata": {},
   "source": [
    "Ergebnis ansehen:"
   ]
  },
  {
   "cell_type": "code",
   "execution_count": 20,
   "id": "fcbfee2a",
   "metadata": {
    "vscode": {
     "languageId": "r"
    }
   },
   "outputs": [
    {
     "data": {
      "text/html": [
       "<table class=\"dataframe\">\n",
       "<caption>A data.frame: 78 × 5</caption>\n",
       "<thead>\n",
       "\t<tr><th></th><th scope=col>Angestelltenverhaeltnis</th><th scope=col>Geschlecht</th><th scope=col>Angestelltenzahl_2020</th><th scope=col>Personalkategorie</th><th scope=col>Art_der_Anstellung</th></tr>\n",
       "\t<tr><th></th><th scope=col>&lt;chr&gt;</th><th scope=col>&lt;chr&gt;</th><th scope=col>&lt;int&gt;</th><th scope=col>&lt;chr&gt;</th><th scope=col>&lt;chr&gt;</th></tr>\n",
       "</thead>\n",
       "<tbody>\n",
       "\t<tr><th scope=row>1</th><td>Wissenschaftliches und kuenstlerisches Personal     </td><td>maennlich</td><td>247720</td><td>Wissenschaftliches und künstlerisches Personal</td><td>Insgesamt     </td></tr>\n",
       "\t<tr><th scope=row>2</th><td>Wissenschaftliches und kuenstlerisches Personal     </td><td>weiblich </td><td>167112</td><td>Wissenschaftliches und künstlerisches Personal</td><td>Insgesamt     </td></tr>\n",
       "\t<tr><th scope=row>3</th><td>Wissenschaftliches und kuenstlerisches Personal     </td><td>Insgesamt</td><td>414832</td><td>Wissenschaftliches und künstlerisches Personal</td><td>Insgesamt     </td></tr>\n",
       "\t<tr><th scope=row>4</th><td>  Hauptberufl. wissenschaftl. u. kuenstler. Personal</td><td>maennlich</td><td>159567</td><td>Wissenschaftliches und künstlerisches Personal</td><td>Hauptberuflich</td></tr>\n",
       "\t<tr><th scope=row>5</th><td>  Hauptberufl. wissenschaftl. u. kuenstler. Personal</td><td>weiblich </td><td>109708</td><td>Wissenschaftliches und künstlerisches Personal</td><td>Hauptberuflich</td></tr>\n",
       "\t<tr><th scope=row>6</th><td>  Hauptberufl. wissenschaftl. u. kuenstler. Personal</td><td>Insgesamt</td><td>269275</td><td>Wissenschaftliches und künstlerisches Personal</td><td>Hauptberuflich</td></tr>\n",
       "\t<tr><th scope=row>7</th><td>    Professoren                                     </td><td>maennlich</td><td> 36344</td><td>Wissenschaftliches und künstlerisches Personal</td><td>Hauptberuflich</td></tr>\n",
       "\t<tr><th scope=row>8</th><td>    Professoren                                     </td><td>weiblich </td><td> 12949</td><td>Wissenschaftliches und künstlerisches Personal</td><td>Hauptberuflich</td></tr>\n",
       "\t<tr><th scope=row>9</th><td>    Professoren                                     </td><td>Insgesamt</td><td> 49293</td><td>Wissenschaftliches und künstlerisches Personal</td><td>Hauptberuflich</td></tr>\n",
       "\t<tr><th scope=row>10</th><td>    Dozenten und Assistenten                        </td><td>maennlich</td><td>  2182</td><td>Wissenschaftliches und künstlerisches Personal</td><td>Hauptberuflich</td></tr>\n",
       "\t<tr><th scope=row>11</th><td>    Dozenten und Assistenten                        </td><td>weiblich </td><td>  1546</td><td>Wissenschaftliches und künstlerisches Personal</td><td>Hauptberuflich</td></tr>\n",
       "\t<tr><th scope=row>12</th><td>    Dozenten und Assistenten                        </td><td>Insgesamt</td><td>  3728</td><td>Wissenschaftliches und künstlerisches Personal</td><td>Hauptberuflich</td></tr>\n",
       "\t<tr><th scope=row>13</th><td>    Wissenschaftliche und kuenstlerische Mitarbeiter</td><td>maennlich</td><td>116004</td><td>Wissenschaftliches und künstlerisches Personal</td><td>Hauptberuflich</td></tr>\n",
       "\t<tr><th scope=row>14</th><td>    Wissenschaftliche und kuenstlerische Mitarbeiter</td><td>weiblich </td><td> 89383</td><td>Wissenschaftliches und künstlerisches Personal</td><td>Hauptberuflich</td></tr>\n",
       "\t<tr><th scope=row>15</th><td>    Wissenschaftliche und kuenstlerische Mitarbeiter</td><td>Insgesamt</td><td>205387</td><td>Wissenschaftliches und künstlerisches Personal</td><td>Hauptberuflich</td></tr>\n",
       "\t<tr><th scope=row>16</th><td>    Lehrkraefte fuer besondere Aufgaben             </td><td>maennlich</td><td>  5037</td><td>Wissenschaftliches und künstlerisches Personal</td><td>Hauptberuflich</td></tr>\n",
       "\t<tr><th scope=row>17</th><td>    Lehrkraefte fuer besondere Aufgaben             </td><td>weiblich </td><td>  5830</td><td>Wissenschaftliches und künstlerisches Personal</td><td>Hauptberuflich</td></tr>\n",
       "\t<tr><th scope=row>18</th><td>    Lehrkraefte fuer besondere Aufgaben             </td><td>Insgesamt</td><td> 10867</td><td>Wissenschaftliches und künstlerisches Personal</td><td>Hauptberuflich</td></tr>\n",
       "\t<tr><th scope=row>19</th><td>  Nebenberufl. wissenschaftl. u. kuenstler. Personal</td><td>maennlich</td><td> 88153</td><td>Wissenschaftliches und künstlerisches Personal</td><td>Nebenberuflich</td></tr>\n",
       "\t<tr><th scope=row>20</th><td>  Nebenberufl. wissenschaftl. u. kuenstler. Personal</td><td>weiblich </td><td> 57404</td><td>Wissenschaftliches und künstlerisches Personal</td><td>Nebenberuflich</td></tr>\n",
       "\t<tr><th scope=row>21</th><td>  Nebenberufl. wissenschaftl. u. kuenstler. Personal</td><td>Insgesamt</td><td>145557</td><td>Wissenschaftliches und künstlerisches Personal</td><td>Nebenberuflich</td></tr>\n",
       "\t<tr><th scope=row>22</th><td>    Gastprofessoren, Emeriti                        </td><td>maennlich</td><td>  1534</td><td>Wissenschaftliches und künstlerisches Personal</td><td>Nebenberuflich</td></tr>\n",
       "\t<tr><th scope=row>23</th><td>    Gastprofessoren, Emeriti                        </td><td>weiblich </td><td>   259</td><td>Wissenschaftliches und künstlerisches Personal</td><td>Nebenberuflich</td></tr>\n",
       "\t<tr><th scope=row>24</th><td>    Gastprofessoren, Emeriti                        </td><td>Insgesamt</td><td>  1793</td><td>Wissenschaftliches und künstlerisches Personal</td><td>Nebenberuflich</td></tr>\n",
       "\t<tr><th scope=row>25</th><td>    Lehrbeauftragte                                 </td><td>maennlich</td><td> 64492</td><td>Wissenschaftliches und künstlerisches Personal</td><td>Nebenberuflich</td></tr>\n",
       "\t<tr><th scope=row>26</th><td>    Lehrbeauftragte                                 </td><td>weiblich </td><td> 35238</td><td>Wissenschaftliches und künstlerisches Personal</td><td>Nebenberuflich</td></tr>\n",
       "\t<tr><th scope=row>27</th><td>    Lehrbeauftragte                                 </td><td>Insgesamt</td><td> 99730</td><td>Wissenschaftliches und künstlerisches Personal</td><td>Nebenberuflich</td></tr>\n",
       "\t<tr><th scope=row>28</th><td>    Wissenschaftliche Hilfskraefte                  </td><td>maennlich</td><td> 22127</td><td>Wissenschaftliches und künstlerisches Personal</td><td>Nebenberuflich</td></tr>\n",
       "\t<tr><th scope=row>29</th><td>    Wissenschaftliche Hilfskraefte                  </td><td>weiblich </td><td> 21907</td><td>Wissenschaftliches und künstlerisches Personal</td><td>Nebenberuflich</td></tr>\n",
       "\t<tr><th scope=row>30</th><td>    Wissenschaftliche Hilfskraefte                  </td><td>Insgesamt</td><td> 44034</td><td>Wissenschaftliches und künstlerisches Personal</td><td>Nebenberuflich</td></tr>\n",
       "\t<tr><th scope=row>⋮</th><td>⋮</td><td>⋮</td><td>⋮</td><td>⋮</td><td>⋮</td></tr>\n",
       "\t<tr><th scope=row>49</th><td>    Pflegepersonal                                  </td><td>maennlich</td><td> 15427</td><td>Verwaltungs-, technisches und sonstiges Personal</td><td>Hauptberuflich</td></tr>\n",
       "\t<tr><th scope=row>50</th><td>    Pflegepersonal                                  </td><td>weiblich </td><td> 63731</td><td>Verwaltungs-, technisches und sonstiges Personal</td><td>Hauptberuflich</td></tr>\n",
       "\t<tr><th scope=row>51</th><td>    Pflegepersonal                                  </td><td>Insgesamt</td><td> 79158</td><td>Verwaltungs-, technisches und sonstiges Personal</td><td>Hauptberuflich</td></tr>\n",
       "\t<tr><th scope=row>52</th><td>    Arbeiter                                        </td><td>maennlich</td><td>    NA</td><td>Verwaltungs-, technisches und sonstiges Personal</td><td>Hauptberuflich</td></tr>\n",
       "\t<tr><th scope=row>53</th><td>    Arbeiter                                        </td><td>weiblich </td><td>    NA</td><td>Verwaltungs-, technisches und sonstiges Personal</td><td>Hauptberuflich</td></tr>\n",
       "\t<tr><th scope=row>54</th><td>    Arbeiter                                        </td><td>Insgesamt</td><td>    NA</td><td>Verwaltungs-, technisches und sonstiges Personal</td><td>Hauptberuflich</td></tr>\n",
       "\t<tr><th scope=row>55</th><td>    Auszubildende                                   </td><td>maennlich</td><td>  6284</td><td>Verwaltungs-, technisches und sonstiges Personal</td><td>Hauptberuflich</td></tr>\n",
       "\t<tr><th scope=row>56</th><td>    Auszubildende                                   </td><td>weiblich </td><td> 16137</td><td>Verwaltungs-, technisches und sonstiges Personal</td><td>Hauptberuflich</td></tr>\n",
       "\t<tr><th scope=row>57</th><td>    Auszubildende                                   </td><td>Insgesamt</td><td> 22421</td><td>Verwaltungs-, technisches und sonstiges Personal</td><td>Hauptberuflich</td></tr>\n",
       "\t<tr><th scope=row>58</th><td>    Praktikanten                                    </td><td>maennlich</td><td>   705</td><td>Verwaltungs-, technisches und sonstiges Personal</td><td>Hauptberuflich</td></tr>\n",
       "\t<tr><th scope=row>59</th><td>    Praktikanten                                    </td><td>weiblich </td><td>  1356</td><td>Verwaltungs-, technisches und sonstiges Personal</td><td>Hauptberuflich</td></tr>\n",
       "\t<tr><th scope=row>60</th><td>    Praktikanten                                    </td><td>Insgesamt</td><td>  2061</td><td>Verwaltungs-, technisches und sonstiges Personal</td><td>Hauptberuflich</td></tr>\n",
       "\t<tr><th scope=row>61</th><td>    Sonstiges Personal fuer Lehre und Forschung     </td><td>maennlich</td><td>    NA</td><td>Verwaltungs-, technisches und sonstiges Personal</td><td>Hauptberuflich</td></tr>\n",
       "\t<tr><th scope=row>62</th><td>    Sonstiges Personal fuer Lehre und Forschung     </td><td>weiblich </td><td>    NA</td><td>Verwaltungs-, technisches und sonstiges Personal</td><td>Hauptberuflich</td></tr>\n",
       "\t<tr><th scope=row>63</th><td>    Sonstiges Personal fuer Lehre und Forschung     </td><td>Insgesamt</td><td>    NA</td><td>Verwaltungs-, technisches und sonstiges Personal</td><td>Hauptberuflich</td></tr>\n",
       "\t<tr><th scope=row>64</th><td>    Leitungs- und Verwaltungspersonal               </td><td>maennlich</td><td>    NA</td><td>Verwaltungs-, technisches und sonstiges Personal</td><td>Hauptberuflich</td></tr>\n",
       "\t<tr><th scope=row>65</th><td>    Leitungs- und Verwaltungspersonal               </td><td>weiblich </td><td>    NA</td><td>Verwaltungs-, technisches und sonstiges Personal</td><td>Hauptberuflich</td></tr>\n",
       "\t<tr><th scope=row>66</th><td>    Leitungs- und Verwaltungspersonal               </td><td>Insgesamt</td><td>    NA</td><td>Verwaltungs-, technisches und sonstiges Personal</td><td>Hauptberuflich</td></tr>\n",
       "\t<tr><th scope=row>67</th><td>  Nebenberufl. Verwaltungs-, techn. u.sonst.Personal</td><td>maennlich</td><td>  2073</td><td>Verwaltungs-, technisches und sonstiges Personal</td><td>Nebenberuflich</td></tr>\n",
       "\t<tr><th scope=row>68</th><td>  Nebenberufl. Verwaltungs-, techn. u.sonst.Personal</td><td>weiblich </td><td>  3494</td><td>Verwaltungs-, technisches und sonstiges Personal</td><td>Nebenberuflich</td></tr>\n",
       "\t<tr><th scope=row>69</th><td>  Nebenberufl. Verwaltungs-, techn. u.sonst.Personal</td><td>Insgesamt</td><td>  5567</td><td>Verwaltungs-, technisches und sonstiges Personal</td><td>Nebenberuflich</td></tr>\n",
       "\t<tr><th scope=row>70</th><td>    Sonstige Hilfskraefte                           </td><td>maennlich</td><td>  2073</td><td>Verwaltungs-, technisches und sonstiges Personal</td><td>Nebenberuflich</td></tr>\n",
       "\t<tr><th scope=row>71</th><td>    Sonstige Hilfskraefte                           </td><td>weiblich </td><td>  3494</td><td>Verwaltungs-, technisches und sonstiges Personal</td><td>Nebenberuflich</td></tr>\n",
       "\t<tr><th scope=row>72</th><td>    Sonstige Hilfskraefte                           </td><td>Insgesamt</td><td>  5567</td><td>Verwaltungs-, technisches und sonstiges Personal</td><td>Nebenberuflich</td></tr>\n",
       "\t<tr><th scope=row>73</th><td>    Zeitweilig Beschaeftigte                        </td><td>maennlich</td><td>    NA</td><td>Verwaltungs-, technisches und sonstiges Personal</td><td>Nebenberuflich</td></tr>\n",
       "\t<tr><th scope=row>74</th><td>    Zeitweilig Beschaeftigte                        </td><td>weiblich </td><td>    NA</td><td>Verwaltungs-, technisches und sonstiges Personal</td><td>Nebenberuflich</td></tr>\n",
       "\t<tr><th scope=row>75</th><td>    Zeitweilig Beschaeftigte                        </td><td>Insgesamt</td><td>    NA</td><td>Verwaltungs-, technisches und sonstiges Personal</td><td>Nebenberuflich</td></tr>\n",
       "\t<tr><th scope=row>76</th><td>Insgesamt                                           </td><td>maennlich</td><td>348040</td><td>Insgesamt                                       </td><td>Insgesamt     </td></tr>\n",
       "\t<tr><th scope=row>77</th><td>Insgesamt                                           </td><td>weiblich </td><td>411025</td><td>Insgesamt                                       </td><td>Insgesamt     </td></tr>\n",
       "\t<tr><th scope=row>78</th><td>Insgesamt                                           </td><td>Insgesamt</td><td>759065</td><td>Insgesamt                                       </td><td>Insgesamt     </td></tr>\n",
       "</tbody>\n",
       "</table>\n"
      ],
      "text/latex": [
       "A data.frame: 78 × 5\n",
       "\\begin{tabular}{r|lllll}\n",
       "  & Angestelltenverhaeltnis & Geschlecht & Angestelltenzahl\\_2020 & Personalkategorie & Art\\_der\\_Anstellung\\\\\n",
       "  & <chr> & <chr> & <int> & <chr> & <chr>\\\\\n",
       "\\hline\n",
       "\t1 & Wissenschaftliches und kuenstlerisches Personal      & maennlich & 247720 & Wissenschaftliches und künstlerisches Personal & Insgesamt     \\\\\n",
       "\t2 & Wissenschaftliches und kuenstlerisches Personal      & weiblich  & 167112 & Wissenschaftliches und künstlerisches Personal & Insgesamt     \\\\\n",
       "\t3 & Wissenschaftliches und kuenstlerisches Personal      & Insgesamt & 414832 & Wissenschaftliches und künstlerisches Personal & Insgesamt     \\\\\n",
       "\t4 &   Hauptberufl. wissenschaftl. u. kuenstler. Personal & maennlich & 159567 & Wissenschaftliches und künstlerisches Personal & Hauptberuflich\\\\\n",
       "\t5 &   Hauptberufl. wissenschaftl. u. kuenstler. Personal & weiblich  & 109708 & Wissenschaftliches und künstlerisches Personal & Hauptberuflich\\\\\n",
       "\t6 &   Hauptberufl. wissenschaftl. u. kuenstler. Personal & Insgesamt & 269275 & Wissenschaftliches und künstlerisches Personal & Hauptberuflich\\\\\n",
       "\t7 &     Professoren                                      & maennlich &  36344 & Wissenschaftliches und künstlerisches Personal & Hauptberuflich\\\\\n",
       "\t8 &     Professoren                                      & weiblich  &  12949 & Wissenschaftliches und künstlerisches Personal & Hauptberuflich\\\\\n",
       "\t9 &     Professoren                                      & Insgesamt &  49293 & Wissenschaftliches und künstlerisches Personal & Hauptberuflich\\\\\n",
       "\t10 &     Dozenten und Assistenten                         & maennlich &   2182 & Wissenschaftliches und künstlerisches Personal & Hauptberuflich\\\\\n",
       "\t11 &     Dozenten und Assistenten                         & weiblich  &   1546 & Wissenschaftliches und künstlerisches Personal & Hauptberuflich\\\\\n",
       "\t12 &     Dozenten und Assistenten                         & Insgesamt &   3728 & Wissenschaftliches und künstlerisches Personal & Hauptberuflich\\\\\n",
       "\t13 &     Wissenschaftliche und kuenstlerische Mitarbeiter & maennlich & 116004 & Wissenschaftliches und künstlerisches Personal & Hauptberuflich\\\\\n",
       "\t14 &     Wissenschaftliche und kuenstlerische Mitarbeiter & weiblich  &  89383 & Wissenschaftliches und künstlerisches Personal & Hauptberuflich\\\\\n",
       "\t15 &     Wissenschaftliche und kuenstlerische Mitarbeiter & Insgesamt & 205387 & Wissenschaftliches und künstlerisches Personal & Hauptberuflich\\\\\n",
       "\t16 &     Lehrkraefte fuer besondere Aufgaben              & maennlich &   5037 & Wissenschaftliches und künstlerisches Personal & Hauptberuflich\\\\\n",
       "\t17 &     Lehrkraefte fuer besondere Aufgaben              & weiblich  &   5830 & Wissenschaftliches und künstlerisches Personal & Hauptberuflich\\\\\n",
       "\t18 &     Lehrkraefte fuer besondere Aufgaben              & Insgesamt &  10867 & Wissenschaftliches und künstlerisches Personal & Hauptberuflich\\\\\n",
       "\t19 &   Nebenberufl. wissenschaftl. u. kuenstler. Personal & maennlich &  88153 & Wissenschaftliches und künstlerisches Personal & Nebenberuflich\\\\\n",
       "\t20 &   Nebenberufl. wissenschaftl. u. kuenstler. Personal & weiblich  &  57404 & Wissenschaftliches und künstlerisches Personal & Nebenberuflich\\\\\n",
       "\t21 &   Nebenberufl. wissenschaftl. u. kuenstler. Personal & Insgesamt & 145557 & Wissenschaftliches und künstlerisches Personal & Nebenberuflich\\\\\n",
       "\t22 &     Gastprofessoren, Emeriti                         & maennlich &   1534 & Wissenschaftliches und künstlerisches Personal & Nebenberuflich\\\\\n",
       "\t23 &     Gastprofessoren, Emeriti                         & weiblich  &    259 & Wissenschaftliches und künstlerisches Personal & Nebenberuflich\\\\\n",
       "\t24 &     Gastprofessoren, Emeriti                         & Insgesamt &   1793 & Wissenschaftliches und künstlerisches Personal & Nebenberuflich\\\\\n",
       "\t25 &     Lehrbeauftragte                                  & maennlich &  64492 & Wissenschaftliches und künstlerisches Personal & Nebenberuflich\\\\\n",
       "\t26 &     Lehrbeauftragte                                  & weiblich  &  35238 & Wissenschaftliches und künstlerisches Personal & Nebenberuflich\\\\\n",
       "\t27 &     Lehrbeauftragte                                  & Insgesamt &  99730 & Wissenschaftliches und künstlerisches Personal & Nebenberuflich\\\\\n",
       "\t28 &     Wissenschaftliche Hilfskraefte                   & maennlich &  22127 & Wissenschaftliches und künstlerisches Personal & Nebenberuflich\\\\\n",
       "\t29 &     Wissenschaftliche Hilfskraefte                   & weiblich  &  21907 & Wissenschaftliches und künstlerisches Personal & Nebenberuflich\\\\\n",
       "\t30 &     Wissenschaftliche Hilfskraefte                   & Insgesamt &  44034 & Wissenschaftliches und künstlerisches Personal & Nebenberuflich\\\\\n",
       "\t⋮ & ⋮ & ⋮ & ⋮ & ⋮ & ⋮\\\\\n",
       "\t49 &     Pflegepersonal                                   & maennlich &  15427 & Verwaltungs-, technisches und sonstiges Personal & Hauptberuflich\\\\\n",
       "\t50 &     Pflegepersonal                                   & weiblich  &  63731 & Verwaltungs-, technisches und sonstiges Personal & Hauptberuflich\\\\\n",
       "\t51 &     Pflegepersonal                                   & Insgesamt &  79158 & Verwaltungs-, technisches und sonstiges Personal & Hauptberuflich\\\\\n",
       "\t52 &     Arbeiter                                         & maennlich &     NA & Verwaltungs-, technisches und sonstiges Personal & Hauptberuflich\\\\\n",
       "\t53 &     Arbeiter                                         & weiblich  &     NA & Verwaltungs-, technisches und sonstiges Personal & Hauptberuflich\\\\\n",
       "\t54 &     Arbeiter                                         & Insgesamt &     NA & Verwaltungs-, technisches und sonstiges Personal & Hauptberuflich\\\\\n",
       "\t55 &     Auszubildende                                    & maennlich &   6284 & Verwaltungs-, technisches und sonstiges Personal & Hauptberuflich\\\\\n",
       "\t56 &     Auszubildende                                    & weiblich  &  16137 & Verwaltungs-, technisches und sonstiges Personal & Hauptberuflich\\\\\n",
       "\t57 &     Auszubildende                                    & Insgesamt &  22421 & Verwaltungs-, technisches und sonstiges Personal & Hauptberuflich\\\\\n",
       "\t58 &     Praktikanten                                     & maennlich &    705 & Verwaltungs-, technisches und sonstiges Personal & Hauptberuflich\\\\\n",
       "\t59 &     Praktikanten                                     & weiblich  &   1356 & Verwaltungs-, technisches und sonstiges Personal & Hauptberuflich\\\\\n",
       "\t60 &     Praktikanten                                     & Insgesamt &   2061 & Verwaltungs-, technisches und sonstiges Personal & Hauptberuflich\\\\\n",
       "\t61 &     Sonstiges Personal fuer Lehre und Forschung      & maennlich &     NA & Verwaltungs-, technisches und sonstiges Personal & Hauptberuflich\\\\\n",
       "\t62 &     Sonstiges Personal fuer Lehre und Forschung      & weiblich  &     NA & Verwaltungs-, technisches und sonstiges Personal & Hauptberuflich\\\\\n",
       "\t63 &     Sonstiges Personal fuer Lehre und Forschung      & Insgesamt &     NA & Verwaltungs-, technisches und sonstiges Personal & Hauptberuflich\\\\\n",
       "\t64 &     Leitungs- und Verwaltungspersonal                & maennlich &     NA & Verwaltungs-, technisches und sonstiges Personal & Hauptberuflich\\\\\n",
       "\t65 &     Leitungs- und Verwaltungspersonal                & weiblich  &     NA & Verwaltungs-, technisches und sonstiges Personal & Hauptberuflich\\\\\n",
       "\t66 &     Leitungs- und Verwaltungspersonal                & Insgesamt &     NA & Verwaltungs-, technisches und sonstiges Personal & Hauptberuflich\\\\\n",
       "\t67 &   Nebenberufl. Verwaltungs-, techn. u.sonst.Personal & maennlich &   2073 & Verwaltungs-, technisches und sonstiges Personal & Nebenberuflich\\\\\n",
       "\t68 &   Nebenberufl. Verwaltungs-, techn. u.sonst.Personal & weiblich  &   3494 & Verwaltungs-, technisches und sonstiges Personal & Nebenberuflich\\\\\n",
       "\t69 &   Nebenberufl. Verwaltungs-, techn. u.sonst.Personal & Insgesamt &   5567 & Verwaltungs-, technisches und sonstiges Personal & Nebenberuflich\\\\\n",
       "\t70 &     Sonstige Hilfskraefte                            & maennlich &   2073 & Verwaltungs-, technisches und sonstiges Personal & Nebenberuflich\\\\\n",
       "\t71 &     Sonstige Hilfskraefte                            & weiblich  &   3494 & Verwaltungs-, technisches und sonstiges Personal & Nebenberuflich\\\\\n",
       "\t72 &     Sonstige Hilfskraefte                            & Insgesamt &   5567 & Verwaltungs-, technisches und sonstiges Personal & Nebenberuflich\\\\\n",
       "\t73 &     Zeitweilig Beschaeftigte                         & maennlich &     NA & Verwaltungs-, technisches und sonstiges Personal & Nebenberuflich\\\\\n",
       "\t74 &     Zeitweilig Beschaeftigte                         & weiblich  &     NA & Verwaltungs-, technisches und sonstiges Personal & Nebenberuflich\\\\\n",
       "\t75 &     Zeitweilig Beschaeftigte                         & Insgesamt &     NA & Verwaltungs-, technisches und sonstiges Personal & Nebenberuflich\\\\\n",
       "\t76 & Insgesamt                                            & maennlich & 348040 & Insgesamt                                        & Insgesamt     \\\\\n",
       "\t77 & Insgesamt                                            & weiblich  & 411025 & Insgesamt                                        & Insgesamt     \\\\\n",
       "\t78 & Insgesamt                                            & Insgesamt & 759065 & Insgesamt                                        & Insgesamt     \\\\\n",
       "\\end{tabular}\n"
      ],
      "text/markdown": [
       "\n",
       "A data.frame: 78 × 5\n",
       "\n",
       "| <!--/--> | Angestelltenverhaeltnis &lt;chr&gt; | Geschlecht &lt;chr&gt; | Angestelltenzahl_2020 &lt;int&gt; | Personalkategorie &lt;chr&gt; | Art_der_Anstellung &lt;chr&gt; |\n",
       "|---|---|---|---|---|---|\n",
       "| 1 | Wissenschaftliches und kuenstlerisches Personal      | maennlich | 247720 | Wissenschaftliches und künstlerisches Personal | Insgesamt      |\n",
       "| 2 | Wissenschaftliches und kuenstlerisches Personal      | weiblich  | 167112 | Wissenschaftliches und künstlerisches Personal | Insgesamt      |\n",
       "| 3 | Wissenschaftliches und kuenstlerisches Personal      | Insgesamt | 414832 | Wissenschaftliches und künstlerisches Personal | Insgesamt      |\n",
       "| 4 |   Hauptberufl. wissenschaftl. u. kuenstler. Personal | maennlich | 159567 | Wissenschaftliches und künstlerisches Personal | Hauptberuflich |\n",
       "| 5 |   Hauptberufl. wissenschaftl. u. kuenstler. Personal | weiblich  | 109708 | Wissenschaftliches und künstlerisches Personal | Hauptberuflich |\n",
       "| 6 |   Hauptberufl. wissenschaftl. u. kuenstler. Personal | Insgesamt | 269275 | Wissenschaftliches und künstlerisches Personal | Hauptberuflich |\n",
       "| 7 |     Professoren                                      | maennlich |  36344 | Wissenschaftliches und künstlerisches Personal | Hauptberuflich |\n",
       "| 8 |     Professoren                                      | weiblich  |  12949 | Wissenschaftliches und künstlerisches Personal | Hauptberuflich |\n",
       "| 9 |     Professoren                                      | Insgesamt |  49293 | Wissenschaftliches und künstlerisches Personal | Hauptberuflich |\n",
       "| 10 |     Dozenten und Assistenten                         | maennlich |   2182 | Wissenschaftliches und künstlerisches Personal | Hauptberuflich |\n",
       "| 11 |     Dozenten und Assistenten                         | weiblich  |   1546 | Wissenschaftliches und künstlerisches Personal | Hauptberuflich |\n",
       "| 12 |     Dozenten und Assistenten                         | Insgesamt |   3728 | Wissenschaftliches und künstlerisches Personal | Hauptberuflich |\n",
       "| 13 |     Wissenschaftliche und kuenstlerische Mitarbeiter | maennlich | 116004 | Wissenschaftliches und künstlerisches Personal | Hauptberuflich |\n",
       "| 14 |     Wissenschaftliche und kuenstlerische Mitarbeiter | weiblich  |  89383 | Wissenschaftliches und künstlerisches Personal | Hauptberuflich |\n",
       "| 15 |     Wissenschaftliche und kuenstlerische Mitarbeiter | Insgesamt | 205387 | Wissenschaftliches und künstlerisches Personal | Hauptberuflich |\n",
       "| 16 |     Lehrkraefte fuer besondere Aufgaben              | maennlich |   5037 | Wissenschaftliches und künstlerisches Personal | Hauptberuflich |\n",
       "| 17 |     Lehrkraefte fuer besondere Aufgaben              | weiblich  |   5830 | Wissenschaftliches und künstlerisches Personal | Hauptberuflich |\n",
       "| 18 |     Lehrkraefte fuer besondere Aufgaben              | Insgesamt |  10867 | Wissenschaftliches und künstlerisches Personal | Hauptberuflich |\n",
       "| 19 |   Nebenberufl. wissenschaftl. u. kuenstler. Personal | maennlich |  88153 | Wissenschaftliches und künstlerisches Personal | Nebenberuflich |\n",
       "| 20 |   Nebenberufl. wissenschaftl. u. kuenstler. Personal | weiblich  |  57404 | Wissenschaftliches und künstlerisches Personal | Nebenberuflich |\n",
       "| 21 |   Nebenberufl. wissenschaftl. u. kuenstler. Personal | Insgesamt | 145557 | Wissenschaftliches und künstlerisches Personal | Nebenberuflich |\n",
       "| 22 |     Gastprofessoren, Emeriti                         | maennlich |   1534 | Wissenschaftliches und künstlerisches Personal | Nebenberuflich |\n",
       "| 23 |     Gastprofessoren, Emeriti                         | weiblich  |    259 | Wissenschaftliches und künstlerisches Personal | Nebenberuflich |\n",
       "| 24 |     Gastprofessoren, Emeriti                         | Insgesamt |   1793 | Wissenschaftliches und künstlerisches Personal | Nebenberuflich |\n",
       "| 25 |     Lehrbeauftragte                                  | maennlich |  64492 | Wissenschaftliches und künstlerisches Personal | Nebenberuflich |\n",
       "| 26 |     Lehrbeauftragte                                  | weiblich  |  35238 | Wissenschaftliches und künstlerisches Personal | Nebenberuflich |\n",
       "| 27 |     Lehrbeauftragte                                  | Insgesamt |  99730 | Wissenschaftliches und künstlerisches Personal | Nebenberuflich |\n",
       "| 28 |     Wissenschaftliche Hilfskraefte                   | maennlich |  22127 | Wissenschaftliches und künstlerisches Personal | Nebenberuflich |\n",
       "| 29 |     Wissenschaftliche Hilfskraefte                   | weiblich  |  21907 | Wissenschaftliches und künstlerisches Personal | Nebenberuflich |\n",
       "| 30 |     Wissenschaftliche Hilfskraefte                   | Insgesamt |  44034 | Wissenschaftliches und künstlerisches Personal | Nebenberuflich |\n",
       "| ⋮ | ⋮ | ⋮ | ⋮ | ⋮ | ⋮ |\n",
       "| 49 |     Pflegepersonal                                   | maennlich |  15427 | Verwaltungs-, technisches und sonstiges Personal | Hauptberuflich |\n",
       "| 50 |     Pflegepersonal                                   | weiblich  |  63731 | Verwaltungs-, technisches und sonstiges Personal | Hauptberuflich |\n",
       "| 51 |     Pflegepersonal                                   | Insgesamt |  79158 | Verwaltungs-, technisches und sonstiges Personal | Hauptberuflich |\n",
       "| 52 |     Arbeiter                                         | maennlich |     NA | Verwaltungs-, technisches und sonstiges Personal | Hauptberuflich |\n",
       "| 53 |     Arbeiter                                         | weiblich  |     NA | Verwaltungs-, technisches und sonstiges Personal | Hauptberuflich |\n",
       "| 54 |     Arbeiter                                         | Insgesamt |     NA | Verwaltungs-, technisches und sonstiges Personal | Hauptberuflich |\n",
       "| 55 |     Auszubildende                                    | maennlich |   6284 | Verwaltungs-, technisches und sonstiges Personal | Hauptberuflich |\n",
       "| 56 |     Auszubildende                                    | weiblich  |  16137 | Verwaltungs-, technisches und sonstiges Personal | Hauptberuflich |\n",
       "| 57 |     Auszubildende                                    | Insgesamt |  22421 | Verwaltungs-, technisches und sonstiges Personal | Hauptberuflich |\n",
       "| 58 |     Praktikanten                                     | maennlich |    705 | Verwaltungs-, technisches und sonstiges Personal | Hauptberuflich |\n",
       "| 59 |     Praktikanten                                     | weiblich  |   1356 | Verwaltungs-, technisches und sonstiges Personal | Hauptberuflich |\n",
       "| 60 |     Praktikanten                                     | Insgesamt |   2061 | Verwaltungs-, technisches und sonstiges Personal | Hauptberuflich |\n",
       "| 61 |     Sonstiges Personal fuer Lehre und Forschung      | maennlich |     NA | Verwaltungs-, technisches und sonstiges Personal | Hauptberuflich |\n",
       "| 62 |     Sonstiges Personal fuer Lehre und Forschung      | weiblich  |     NA | Verwaltungs-, technisches und sonstiges Personal | Hauptberuflich |\n",
       "| 63 |     Sonstiges Personal fuer Lehre und Forschung      | Insgesamt |     NA | Verwaltungs-, technisches und sonstiges Personal | Hauptberuflich |\n",
       "| 64 |     Leitungs- und Verwaltungspersonal                | maennlich |     NA | Verwaltungs-, technisches und sonstiges Personal | Hauptberuflich |\n",
       "| 65 |     Leitungs- und Verwaltungspersonal                | weiblich  |     NA | Verwaltungs-, technisches und sonstiges Personal | Hauptberuflich |\n",
       "| 66 |     Leitungs- und Verwaltungspersonal                | Insgesamt |     NA | Verwaltungs-, technisches und sonstiges Personal | Hauptberuflich |\n",
       "| 67 |   Nebenberufl. Verwaltungs-, techn. u.sonst.Personal | maennlich |   2073 | Verwaltungs-, technisches und sonstiges Personal | Nebenberuflich |\n",
       "| 68 |   Nebenberufl. Verwaltungs-, techn. u.sonst.Personal | weiblich  |   3494 | Verwaltungs-, technisches und sonstiges Personal | Nebenberuflich |\n",
       "| 69 |   Nebenberufl. Verwaltungs-, techn. u.sonst.Personal | Insgesamt |   5567 | Verwaltungs-, technisches und sonstiges Personal | Nebenberuflich |\n",
       "| 70 |     Sonstige Hilfskraefte                            | maennlich |   2073 | Verwaltungs-, technisches und sonstiges Personal | Nebenberuflich |\n",
       "| 71 |     Sonstige Hilfskraefte                            | weiblich  |   3494 | Verwaltungs-, technisches und sonstiges Personal | Nebenberuflich |\n",
       "| 72 |     Sonstige Hilfskraefte                            | Insgesamt |   5567 | Verwaltungs-, technisches und sonstiges Personal | Nebenberuflich |\n",
       "| 73 |     Zeitweilig Beschaeftigte                         | maennlich |     NA | Verwaltungs-, technisches und sonstiges Personal | Nebenberuflich |\n",
       "| 74 |     Zeitweilig Beschaeftigte                         | weiblich  |     NA | Verwaltungs-, technisches und sonstiges Personal | Nebenberuflich |\n",
       "| 75 |     Zeitweilig Beschaeftigte                         | Insgesamt |     NA | Verwaltungs-, technisches und sonstiges Personal | Nebenberuflich |\n",
       "| 76 | Insgesamt                                            | maennlich | 348040 | Insgesamt                                        | Insgesamt      |\n",
       "| 77 | Insgesamt                                            | weiblich  | 411025 | Insgesamt                                        | Insgesamt      |\n",
       "| 78 | Insgesamt                                            | Insgesamt | 759065 | Insgesamt                                        | Insgesamt      |\n",
       "\n"
      ],
      "text/plain": [
       "   Angestelltenverhaeltnis                              Geschlecht\n",
       "1  Wissenschaftliches und kuenstlerisches Personal      maennlich \n",
       "2  Wissenschaftliches und kuenstlerisches Personal      weiblich  \n",
       "3  Wissenschaftliches und kuenstlerisches Personal      Insgesamt \n",
       "4    Hauptberufl. wissenschaftl. u. kuenstler. Personal maennlich \n",
       "5    Hauptberufl. wissenschaftl. u. kuenstler. Personal weiblich  \n",
       "6    Hauptberufl. wissenschaftl. u. kuenstler. Personal Insgesamt \n",
       "7      Professoren                                      maennlich \n",
       "8      Professoren                                      weiblich  \n",
       "9      Professoren                                      Insgesamt \n",
       "10     Dozenten und Assistenten                         maennlich \n",
       "11     Dozenten und Assistenten                         weiblich  \n",
       "12     Dozenten und Assistenten                         Insgesamt \n",
       "13     Wissenschaftliche und kuenstlerische Mitarbeiter maennlich \n",
       "14     Wissenschaftliche und kuenstlerische Mitarbeiter weiblich  \n",
       "15     Wissenschaftliche und kuenstlerische Mitarbeiter Insgesamt \n",
       "16     Lehrkraefte fuer besondere Aufgaben              maennlich \n",
       "17     Lehrkraefte fuer besondere Aufgaben              weiblich  \n",
       "18     Lehrkraefte fuer besondere Aufgaben              Insgesamt \n",
       "19   Nebenberufl. wissenschaftl. u. kuenstler. Personal maennlich \n",
       "20   Nebenberufl. wissenschaftl. u. kuenstler. Personal weiblich  \n",
       "21   Nebenberufl. wissenschaftl. u. kuenstler. Personal Insgesamt \n",
       "22     Gastprofessoren, Emeriti                         maennlich \n",
       "23     Gastprofessoren, Emeriti                         weiblich  \n",
       "24     Gastprofessoren, Emeriti                         Insgesamt \n",
       "25     Lehrbeauftragte                                  maennlich \n",
       "26     Lehrbeauftragte                                  weiblich  \n",
       "27     Lehrbeauftragte                                  Insgesamt \n",
       "28     Wissenschaftliche Hilfskraefte                   maennlich \n",
       "29     Wissenschaftliche Hilfskraefte                   weiblich  \n",
       "30     Wissenschaftliche Hilfskraefte                   Insgesamt \n",
       "⋮  ⋮                                                    ⋮         \n",
       "49     Pflegepersonal                                   maennlich \n",
       "50     Pflegepersonal                                   weiblich  \n",
       "51     Pflegepersonal                                   Insgesamt \n",
       "52     Arbeiter                                         maennlich \n",
       "53     Arbeiter                                         weiblich  \n",
       "54     Arbeiter                                         Insgesamt \n",
       "55     Auszubildende                                    maennlich \n",
       "56     Auszubildende                                    weiblich  \n",
       "57     Auszubildende                                    Insgesamt \n",
       "58     Praktikanten                                     maennlich \n",
       "59     Praktikanten                                     weiblich  \n",
       "60     Praktikanten                                     Insgesamt \n",
       "61     Sonstiges Personal fuer Lehre und Forschung      maennlich \n",
       "62     Sonstiges Personal fuer Lehre und Forschung      weiblich  \n",
       "63     Sonstiges Personal fuer Lehre und Forschung      Insgesamt \n",
       "64     Leitungs- und Verwaltungspersonal                maennlich \n",
       "65     Leitungs- und Verwaltungspersonal                weiblich  \n",
       "66     Leitungs- und Verwaltungspersonal                Insgesamt \n",
       "67   Nebenberufl. Verwaltungs-, techn. u.sonst.Personal maennlich \n",
       "68   Nebenberufl. Verwaltungs-, techn. u.sonst.Personal weiblich  \n",
       "69   Nebenberufl. Verwaltungs-, techn. u.sonst.Personal Insgesamt \n",
       "70     Sonstige Hilfskraefte                            maennlich \n",
       "71     Sonstige Hilfskraefte                            weiblich  \n",
       "72     Sonstige Hilfskraefte                            Insgesamt \n",
       "73     Zeitweilig Beschaeftigte                         maennlich \n",
       "74     Zeitweilig Beschaeftigte                         weiblich  \n",
       "75     Zeitweilig Beschaeftigte                         Insgesamt \n",
       "76 Insgesamt                                            maennlich \n",
       "77 Insgesamt                                            weiblich  \n",
       "78 Insgesamt                                            Insgesamt \n",
       "   Angestelltenzahl_2020 Personalkategorie                               \n",
       "1  247720                Wissenschaftliches und künstlerisches Personal  \n",
       "2  167112                Wissenschaftliches und künstlerisches Personal  \n",
       "3  414832                Wissenschaftliches und künstlerisches Personal  \n",
       "4  159567                Wissenschaftliches und künstlerisches Personal  \n",
       "5  109708                Wissenschaftliches und künstlerisches Personal  \n",
       "6  269275                Wissenschaftliches und künstlerisches Personal  \n",
       "7   36344                Wissenschaftliches und künstlerisches Personal  \n",
       "8   12949                Wissenschaftliches und künstlerisches Personal  \n",
       "9   49293                Wissenschaftliches und künstlerisches Personal  \n",
       "10   2182                Wissenschaftliches und künstlerisches Personal  \n",
       "11   1546                Wissenschaftliches und künstlerisches Personal  \n",
       "12   3728                Wissenschaftliches und künstlerisches Personal  \n",
       "13 116004                Wissenschaftliches und künstlerisches Personal  \n",
       "14  89383                Wissenschaftliches und künstlerisches Personal  \n",
       "15 205387                Wissenschaftliches und künstlerisches Personal  \n",
       "16   5037                Wissenschaftliches und künstlerisches Personal  \n",
       "17   5830                Wissenschaftliches und künstlerisches Personal  \n",
       "18  10867                Wissenschaftliches und künstlerisches Personal  \n",
       "19  88153                Wissenschaftliches und künstlerisches Personal  \n",
       "20  57404                Wissenschaftliches und künstlerisches Personal  \n",
       "21 145557                Wissenschaftliches und künstlerisches Personal  \n",
       "22   1534                Wissenschaftliches und künstlerisches Personal  \n",
       "23    259                Wissenschaftliches und künstlerisches Personal  \n",
       "24   1793                Wissenschaftliches und künstlerisches Personal  \n",
       "25  64492                Wissenschaftliches und künstlerisches Personal  \n",
       "26  35238                Wissenschaftliches und künstlerisches Personal  \n",
       "27  99730                Wissenschaftliches und künstlerisches Personal  \n",
       "28  22127                Wissenschaftliches und künstlerisches Personal  \n",
       "29  21907                Wissenschaftliches und künstlerisches Personal  \n",
       "30  44034                Wissenschaftliches und künstlerisches Personal  \n",
       "⋮  ⋮                     ⋮                                               \n",
       "49  15427                Verwaltungs-, technisches und sonstiges Personal\n",
       "50  63731                Verwaltungs-, technisches und sonstiges Personal\n",
       "51  79158                Verwaltungs-, technisches und sonstiges Personal\n",
       "52     NA                Verwaltungs-, technisches und sonstiges Personal\n",
       "53     NA                Verwaltungs-, technisches und sonstiges Personal\n",
       "54     NA                Verwaltungs-, technisches und sonstiges Personal\n",
       "55   6284                Verwaltungs-, technisches und sonstiges Personal\n",
       "56  16137                Verwaltungs-, technisches und sonstiges Personal\n",
       "57  22421                Verwaltungs-, technisches und sonstiges Personal\n",
       "58    705                Verwaltungs-, technisches und sonstiges Personal\n",
       "59   1356                Verwaltungs-, technisches und sonstiges Personal\n",
       "60   2061                Verwaltungs-, technisches und sonstiges Personal\n",
       "61     NA                Verwaltungs-, technisches und sonstiges Personal\n",
       "62     NA                Verwaltungs-, technisches und sonstiges Personal\n",
       "63     NA                Verwaltungs-, technisches und sonstiges Personal\n",
       "64     NA                Verwaltungs-, technisches und sonstiges Personal\n",
       "65     NA                Verwaltungs-, technisches und sonstiges Personal\n",
       "66     NA                Verwaltungs-, technisches und sonstiges Personal\n",
       "67   2073                Verwaltungs-, technisches und sonstiges Personal\n",
       "68   3494                Verwaltungs-, technisches und sonstiges Personal\n",
       "69   5567                Verwaltungs-, technisches und sonstiges Personal\n",
       "70   2073                Verwaltungs-, technisches und sonstiges Personal\n",
       "71   3494                Verwaltungs-, technisches und sonstiges Personal\n",
       "72   5567                Verwaltungs-, technisches und sonstiges Personal\n",
       "73     NA                Verwaltungs-, technisches und sonstiges Personal\n",
       "74     NA                Verwaltungs-, technisches und sonstiges Personal\n",
       "75     NA                Verwaltungs-, technisches und sonstiges Personal\n",
       "76 348040                Insgesamt                                       \n",
       "77 411025                Insgesamt                                       \n",
       "78 759065                Insgesamt                                       \n",
       "   Art_der_Anstellung\n",
       "1  Insgesamt         \n",
       "2  Insgesamt         \n",
       "3  Insgesamt         \n",
       "4  Hauptberuflich    \n",
       "5  Hauptberuflich    \n",
       "6  Hauptberuflich    \n",
       "7  Hauptberuflich    \n",
       "8  Hauptberuflich    \n",
       "9  Hauptberuflich    \n",
       "10 Hauptberuflich    \n",
       "11 Hauptberuflich    \n",
       "12 Hauptberuflich    \n",
       "13 Hauptberuflich    \n",
       "14 Hauptberuflich    \n",
       "15 Hauptberuflich    \n",
       "16 Hauptberuflich    \n",
       "17 Hauptberuflich    \n",
       "18 Hauptberuflich    \n",
       "19 Nebenberuflich    \n",
       "20 Nebenberuflich    \n",
       "21 Nebenberuflich    \n",
       "22 Nebenberuflich    \n",
       "23 Nebenberuflich    \n",
       "24 Nebenberuflich    \n",
       "25 Nebenberuflich    \n",
       "26 Nebenberuflich    \n",
       "27 Nebenberuflich    \n",
       "28 Nebenberuflich    \n",
       "29 Nebenberuflich    \n",
       "30 Nebenberuflich    \n",
       "⋮  ⋮                 \n",
       "49 Hauptberuflich    \n",
       "50 Hauptberuflich    \n",
       "51 Hauptberuflich    \n",
       "52 Hauptberuflich    \n",
       "53 Hauptberuflich    \n",
       "54 Hauptberuflich    \n",
       "55 Hauptberuflich    \n",
       "56 Hauptberuflich    \n",
       "57 Hauptberuflich    \n",
       "58 Hauptberuflich    \n",
       "59 Hauptberuflich    \n",
       "60 Hauptberuflich    \n",
       "61 Hauptberuflich    \n",
       "62 Hauptberuflich    \n",
       "63 Hauptberuflich    \n",
       "64 Hauptberuflich    \n",
       "65 Hauptberuflich    \n",
       "66 Hauptberuflich    \n",
       "67 Nebenberuflich    \n",
       "68 Nebenberuflich    \n",
       "69 Nebenberuflich    \n",
       "70 Nebenberuflich    \n",
       "71 Nebenberuflich    \n",
       "72 Nebenberuflich    \n",
       "73 Nebenberuflich    \n",
       "74 Nebenberuflich    \n",
       "75 Nebenberuflich    \n",
       "76 Insgesamt         \n",
       "77 Insgesamt         \n",
       "78 Insgesamt         "
      ]
     },
     "metadata": {},
     "output_type": "display_data"
    }
   ],
   "source": [
    "head(Tabellendaten, n=100)"
   ]
  },
  {
   "cell_type": "markdown",
   "id": "d8de0f56",
   "metadata": {},
   "source": [
    "## Unterkategorisieren \n",
    "\n",
    "Eine Unterkategorisierung (auch Sub-Sampling gennant) bietet sich auch\n",
    "insbesondere für die Variable “Geschlecht” an."
   ]
  },
  {
   "cell_type": "code",
   "execution_count": null,
   "id": "25934f76",
   "metadata": {
    "vscode": {
     "languageId": "r"
    }
   },
   "outputs": [],
   "source": [
    "unique(Tabellendaten$Geschlecht)"
   ]
  },
  {
   "cell_type": "markdown",
   "id": "6652c585",
   "metadata": {},
   "source": [
    "Durch das Aufführen der Variablenausprägung `\"Insgesamt\"` wird die\n",
    "Tabelle recht unübersichtlich. Es empfiehlt sich das sub-samplen der\n",
    "Tabelle nach den verschiedenen Geschlechtsausprägungen:"
   ]
  },
  {
   "cell_type": "code",
   "execution_count": null,
   "id": "9592b8b6",
   "metadata": {
    "vscode": {
     "languageId": "r"
    }
   },
   "outputs": [],
   "source": [
    "#Geschlecht\n",
    "Tabelle_maennlich <- subset(Tabellendaten, Geschlecht == \"maennlich\")\n",
    "Tabelle_weiblich <- subset(Tabellendaten, Geschlecht == \"weiblich\")\n",
    "Tabelle_Insgesamt <- subset(Tabellendaten, Geschlecht == \"Insgesamt\")"
   ]
  },
  {
   "cell_type": "code",
   "execution_count": null,
   "id": "5a54d244",
   "metadata": {
    "vscode": {
     "languageId": "r"
    }
   },
   "outputs": [],
   "source": [
    "#Ergbnis ansehen \n",
    "head(Tabelle_Insgesamt)"
   ]
  },
  {
   "cell_type": "markdown",
   "id": "37377590",
   "metadata": {},
   "source": [
    "Wenn Sie nun z.B. aus der *Tabelle\\_Insgesamt* die zweite Spalte entfernen\n",
    "möchten, da diese redundant ist, können Sie die Spalte aus dem Subsample\n",
    "entfernen:"
   ]
  },
  {
   "cell_type": "code",
   "execution_count": null,
   "id": "12773010",
   "metadata": {
    "vscode": {
     "languageId": "r"
    }
   },
   "outputs": [],
   "source": [
    "Tabelle_Insgesamt <- subset(Tabelle_Insgesamt, select= c(-Geschlecht))"
   ]
  },
  {
   "cell_type": "code",
   "execution_count": null,
   "id": "add97284",
   "metadata": {
    "vscode": {
     "languageId": "r"
    }
   },
   "outputs": [],
   "source": [
    "head(Tabelle_Insgesamt)"
   ]
  },
  {
   "cell_type": "markdown",
   "id": "40fff68e",
   "metadata": {},
   "source": [
    "## Tabellendaten filtern \n",
    "\n",
    "Alternativ zum `subset`-Befehl kann mit dem Befehl `filter` gearbeitet\n",
    "werden.  \n",
    "Damit können Sie Ihre Tabelle filtern und sich gezielt Inhalte anzeigen lassen.  \n",
    "  \n",
    "Hierzu können Sie verschiedene Operatoren und Funktionen nutzen:  \n",
    "  \n"
   ]
  },
  {
   "cell_type": "markdown",
   "id": "786bd957",
   "metadata": {},
   "source": [
    "**Mathematische Operatoren:**\n",
    "\n",
    "-   `==` (Ist gleich)\n",
    "-   `!=` (Ist nicht gleich)\n",
    "-   `<` (Kleiner als)\n",
    "-   `<=` (Kleiner-Gleich)\n",
    "-   `>` (Größer als)\n",
    "-   `>=` (Größer-Gleich)\n",
    "\n",
    "Beispiel:"
   ]
  },
  {
   "cell_type": "code",
   "execution_count": null,
   "id": "67302bea",
   "metadata": {
    "vscode": {
     "languageId": "r"
    }
   },
   "outputs": [],
   "source": [
    "filter(Tabelle_Insgesamt, Tabelle_Insgesamt$Angestelltenzahl_2020 <= 5000)"
   ]
  },
  {
   "cell_type": "markdown",
   "id": "8d78ddff",
   "metadata": {},
   "source": [
    "**Logische Operatoren:**\n",
    "\n",
    "-   `!` (logisches NICHT)\n",
    "-   `&` (logisches UND)\n",
    "-   `|` (logisches ODER)\n",
    "\n",
    "Beispiel:"
   ]
  },
  {
   "cell_type": "code",
   "execution_count": null,
   "id": "a82acfbd",
   "metadata": {
    "vscode": {
     "languageId": "r"
    }
   },
   "outputs": [],
   "source": [
    "filter(Tabellendaten, Tabellendaten$Personalkategorie == \"Wissenschaftliches und künstlerisches Personal\" & Tabellendaten$Geschlecht == \"weiblich\" )"
   ]
  },
  {
   "cell_type": "markdown",
   "id": "c3788e8e",
   "metadata": {},
   "source": [
    "**Verwenden von Funktionen:**\n",
    "\n",
    "Beispiel: Ausgabe des kleinsten Wertes mittels der `min()`-Funktion"
   ]
  },
  {
   "cell_type": "code",
   "execution_count": null,
   "id": "8110375f",
   "metadata": {
    "vscode": {
     "languageId": "r"
    }
   },
   "outputs": [],
   "source": [
    "filter(Tabellendaten, Tabellendaten$Angestelltenzahl_2020 == min(Tabellendaten$Angestelltenzahl_2020, na.rm = TRUE))"
   ]
  },
  {
   "cell_type": "markdown",
   "id": "5dc3e2ca",
   "metadata": {},
   "source": [
    "**Mögliche Probleme?**\n",
    "\n",
    "Wenn mit der Variable `Angestelltenverhaeltnis` gefiltert werden soll, gibt **R** folgenden Output:"
   ]
  },
  {
   "cell_type": "code",
   "execution_count": null,
   "id": "933f161f",
   "metadata": {
    "vscode": {
     "languageId": "r"
    }
   },
   "outputs": [],
   "source": [
    "#Beispiel: Filtern nach \"Professoren\"\n",
    "filter(Tabellendaten, Tabellendaten$Angestelltenverhaeltnis == \"Professoren\")"
   ]
  },
  {
   "cell_type": "markdown",
   "id": "6737674d",
   "metadata": {},
   "source": [
    "Wenn Sie jedoch in den Datensatz schauen, sehen Sie, dass Professoren unter `Angestelltenverhaeltnis` mit aufgelistet werden. \n",
    "\n",
    "**Warum werden \"Professoren\" nicht gefunden?**\n",
    "\n",
    "Das Problem besteht darin, dass die Ausgangsdatei Leerzeichen vor dem Wort Professoren (und auch vor anderen Bezeichnungen von Angestelltenverhältnissen) enthält.\n",
    "\n",
    "Mit dem Befehl `trimws()` können Sie die vorgestellten Leerzeichen vor den Bezeichnungen entfernen:"
   ]
  },
  {
   "cell_type": "code",
   "execution_count": null,
   "id": "d7bbb409",
   "metadata": {
    "vscode": {
     "languageId": "r"
    }
   },
   "outputs": [],
   "source": [
    "Tabellendaten$Angestelltenverhaeltnis <- trimws(Tabellendaten$Angestelltenverhaeltnis)"
   ]
  },
  {
   "cell_type": "markdown",
   "id": "c7972a1c",
   "metadata": {},
   "source": [
    "Führen Sie nun erneut die Filtersuche durch und Sie erhalten das korrekte Ergebnis:"
   ]
  },
  {
   "cell_type": "code",
   "execution_count": null,
   "id": "499bd836",
   "metadata": {
    "vscode": {
     "languageId": "r"
    }
   },
   "outputs": [],
   "source": [
    "filter(Tabellendaten, Tabellendaten$Angestelltenverhaeltnis == \"Professoren\")"
   ]
  },
  {
   "cell_type": "markdown",
   "id": "eb0edcd0",
   "metadata": {},
   "source": [
    "## Sortieren von Tabellendaten \n",
    "\n",
    "Sie können Tabellen mittels des `order()`-Befehls nach belieben\n",
    "sortieren.  \n",
    "\n",
    "Beispiel:"
   ]
  },
  {
   "cell_type": "code",
   "execution_count": null,
   "id": "a445e215",
   "metadata": {
    "vscode": {
     "languageId": "r"
    }
   },
   "outputs": [],
   "source": [
    "Tabelle_Insgesamt_Sortiert <- Tabelle_Insgesamt[order(Tabelle_Insgesamt$Angestelltenzahl_2020, decreasing = TRUE),]"
   ]
  },
  {
   "cell_type": "code",
   "execution_count": null,
   "id": "0f676495",
   "metadata": {
    "vscode": {
     "languageId": "r"
    }
   },
   "outputs": [],
   "source": [
    "head(Tabelle_Insgesamt_Sortiert)"
   ]
  },
  {
   "cell_type": "markdown",
   "id": "2e8e376d",
   "metadata": {},
   "source": [
    "````{admonition} Zur Kontrolle, finden Sie den kompletten Code der Übung hier: \n",
    ":class: hinweis, dropdown\n",
    "```\n",
    "#TidyVerse Package Installation\n",
    "install.packages(\"tidyverse\")\n",
    "library(tidyverse)\n",
    "\n",
    "#Daten einlesen\n",
    "data_csv_clean <- read.csv2(\"Data/21341-0001_F_2020.csv\", header = FALSE, encoding = \"latin1\")\n",
    "\n",
    "#Ergebnisse ansehen\n",
    "head(data_csv_clean)\n",
    "\n",
    "#Umlaute entfernen\n",
    "data_csv_clean$V1 <- str_replace_all(data_csv_clean$V1, c(\"ä\" = \"ae\", \"ö\" = \"oe\", \"ü\" =\"ue\", \"ß\" =\"ss\"))\n",
    "data_csv_clean$V2 <- str_replace_all(data_csv_clean$V2, c(\"ä\" = \"ae\", \"ö\" = \"oe\", \"ü\" =\"ue\", \"ß\" =\"ss\"))\n",
    "\n",
    "#Ausgewählte Ergebnisse ansehen\n",
    "show(data_csv_clean[8:20,1:3])\n",
    "\n",
    "#Tabelle unterteilen\n",
    "Metadaten <- data_csv_clean[c(1:6, 87:88), 1]\n",
    "Tabellendaten <- data_csv_clean[8:85, 1:3]\n",
    "\n",
    "#Spaltenüberschriften setzen\n",
    "colnames(Tabellendaten) <- c(\"Angestelltenverhaeltnis\", \"Geschlecht\", \"Angestelltenzahl_2020\")\n",
    "\n",
    "#Nummerierung neu setzen\n",
    "row.names(Tabellendaten) <- 1:78\n",
    "\n",
    "#Ergebnis ansehen\n",
    "head(Tabellendaten) \n",
    "\n",
    "#Variablenklassen bestimmen\n",
    "class(Tabellendaten$Angestelltenverhaeltnis) #sollte als character oder factor gelesen werden\n",
    "class(Tabellendaten$Geschlecht) #sollte als character oder factor gelesen werden\n",
    "class(Tabellendaten$Angestelltenzahl_2020) #sollte als numerisch oder integer gelesen werden\n",
    "\n",
    "#Variablenklassen ändern\n",
    "Tabellendaten$Angestelltenzahl_2020 <- as.integer(Tabellendaten$Angestelltenzahl_2020)\n",
    "\n",
    "#Maximalwert anzeigen lassen\n",
    "max(Tabellendaten$Angestelltenzahl_2020, na.rm = TRUE)\n",
    "\n",
    "#Variablen sichten\n",
    "unique(Tabellendaten$Angestelltenverhaeltnis)\n",
    "\n",
    "#Neue Variablen erstellen\n",
    "#1.Ebene: Neue Variable \"Personalkategorie\"\n",
    "Tabellendaten$Personalkategorie <- c(NA)\n",
    "#2.Ebene: Neue Variable \"Art der Anstellung\"\n",
    "Tabellendaten$Art_der_Anstellung <- c(NA)\n",
    "\n",
    "#Einpflegen des Variableninhalts\n",
    "#1.Ebene\n",
    "Tabellendaten$Personalkategorie[76:78] <- \"Insgesamt\"\n",
    "Tabellendaten$Personalkategorie[1:30] <- \"Wissenschaftliches und künstlerisches Personal\"\n",
    "Tabellendaten$Personalkategorie[31:75] <- \"Verwaltungs-, technisches und sonstiges Personal\"\n",
    "#2.Ebene\n",
    "Tabellendaten$Art_der_Anstellung[c(1:3, 31:33, 76:78)] <- \"Insgesamt\"\n",
    "Tabellendaten$Art_der_Anstellung[c(4:18,34:66)] <- \"Hauptberuflich\"\n",
    "Tabellendaten$Art_der_Anstellung[c(19:30,67:75)] <- \"Nebenberuflich\"\n",
    "\n",
    "#Unterkategorisieren\n",
    "#Geschlecht\n",
    "Tabelle_maennlich <- subset(Tabellendaten, Geschlecht == \"maennlich\")\n",
    "Tabelle_weiblich <- subset(Tabellendaten, Geschlecht == \"weiblich\")\n",
    "Tabelle_Insgesamt <- subset(Tabellendaten, Geschlecht == \"Insgesamt\")\n",
    "\n",
    "#Redundante Tabelle entfernen\n",
    "Tabelle_Insgesamt <- subset(Tabelle_Insgesamt, select= c(-Geschlecht))\n",
    "\n",
    "#Tabellendaten filtern\n",
    "#Nach Angestelltenzahl unter 5000 filtern\n",
    "filter(Tabelle_Insgesamt, Tabelle_Insgesamt$Angestelltenzahl_2020 <= 5000)\n",
    "#Nach weiblichen Wiss.& Künstl.Personal filtern\n",
    "filter(Tabellendaten, Tabellendaten$Personalkategorie == \"Wissenschaftliches und künstlerisches Personal\" & Tabellendaten$Geschlecht == \"weiblich\" )\n",
    "#Filtern nach niedrigstem Wert\n",
    "filter(Tabellendaten, Tabellendaten$Angestelltenzahl_2020 == min(Tabellendaten$Angestelltenzahl_2020, na.rm = TRUE))\n",
    "\n",
    "#Fehlerbehebung Leerzeichen entfernen\n",
    "Tabellendaten$Angestelltenverhaeltnis <- trimws(Tabellendaten$Angestelltenverhaeltnis)\n",
    "\n",
    "#Filter nach 'Professoren'\n",
    "filter(Tabellendaten, Tabellendaten$Angestelltenverhaeltnis == \"Professoren\")\n",
    "\n",
    "#Sortieren von Tabellendaten\n",
    "Tabelle_Insgesamt_Sortiert <- Tabelle_Insgesamt[order(Tabelle_Insgesamt$Angestelltenzahl_2020, decreasing = TRUE),]\n",
    "\n",
    "#Ergebnis ansehen\n",
    "head(Tabelle_Insgesamt_Sortiert)\n",
    "```\n",
    "````"
   ]
  },
  {
   "cell_type": "markdown",
   "id": "f1a5e5c1",
   "metadata": {},
   "source": []
  }
 ],
 "metadata": {
  "kernelspec": {
   "display_name": "R",
   "language": "R",
   "name": "ir"
  },
  "language_info": {
   "codemirror_mode": "r",
   "file_extension": ".r",
   "mimetype": "text/x-r-source",
   "name": "R",
   "pygments_lexer": "r",
   "version": "4.5.0"
  }
 },
 "nbformat": 4,
 "nbformat_minor": 5
}
